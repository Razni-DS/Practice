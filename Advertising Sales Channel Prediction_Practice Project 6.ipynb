{
 "cells": [
  {
   "cell_type": "markdown",
   "id": "e102994e",
   "metadata": {},
   "source": [
    "# Advertising Sales Channel Prediction"
   ]
  },
  {
   "cell_type": "markdown",
   "id": "46e7c6ee",
   "metadata": {},
   "source": [
    "# Problem Statement:"
   ]
  },
  {
   "cell_type": "markdown",
   "id": "bc6b52ba",
   "metadata": {},
   "source": [
    "Sales Channel Prediction Case Study-  \n",
    "\n",
    "When a company enters a market, the distribution strategy and channel it uses are keys to its success in the market, as well as market know-how and customer knowledge and understanding. Because an effective distribution strategy under efficient supply-chain management opens doors for attaining competitive advantage and strong brand equity in the market, it is a component of the marketing mix that cannot be ignored . \n",
    "\n",
    "The distribution strategy and the channel design have to be right the first time. The case study of Sales channel includes the detailed study of TV, radio and newspaper channel. Then predict the total sales generated from all the sales channel.  "
   ]
  },
  {
   "cell_type": "markdown",
   "id": "390e97dd",
   "metadata": {},
   "source": [
    "# Objective"
   ]
  },
  {
   "cell_type": "markdown",
   "id": "69aa4efe",
   "metadata": {},
   "source": [
    "* It is not possible for our client to directly increase sales of the product, but they can control the advertising expenditure in each of the three media.\n",
    "* Therefore, if we determine that there is an association between advertising and sales, then we can instruct our client to adjust advertising budgets, thereby indirectly increasing sales."
   ]
  },
  {
   "cell_type": "markdown",
   "id": "29db5e5f",
   "metadata": {},
   "source": [
    "# Importing Dataset and Necessary Libraries"
   ]
  },
  {
   "cell_type": "code",
   "execution_count": 1,
   "id": "06886599",
   "metadata": {},
   "outputs": [],
   "source": [
    "import pandas as pd\n",
    "import numpy as np\n",
    "import seaborn as sns\n",
    "import matplotlib.pyplot as plt\n",
    "import warnings\n",
    "warnings.filterwarnings('ignore')"
   ]
  },
  {
   "cell_type": "code",
   "execution_count": 2,
   "id": "3d24b533",
   "metadata": {},
   "outputs": [
    {
     "data": {
      "text/html": [
       "<div>\n",
       "<style scoped>\n",
       "    .dataframe tbody tr th:only-of-type {\n",
       "        vertical-align: middle;\n",
       "    }\n",
       "\n",
       "    .dataframe tbody tr th {\n",
       "        vertical-align: top;\n",
       "    }\n",
       "\n",
       "    .dataframe thead th {\n",
       "        text-align: right;\n",
       "    }\n",
       "</style>\n",
       "<table border=\"1\" class=\"dataframe\">\n",
       "  <thead>\n",
       "    <tr style=\"text-align: right;\">\n",
       "      <th></th>\n",
       "      <th>TV</th>\n",
       "      <th>radio</th>\n",
       "      <th>newspaper</th>\n",
       "      <th>sales</th>\n",
       "    </tr>\n",
       "  </thead>\n",
       "  <tbody>\n",
       "    <tr>\n",
       "      <th>1</th>\n",
       "      <td>230.1</td>\n",
       "      <td>37.8</td>\n",
       "      <td>69.2</td>\n",
       "      <td>22.1</td>\n",
       "    </tr>\n",
       "    <tr>\n",
       "      <th>2</th>\n",
       "      <td>44.5</td>\n",
       "      <td>39.3</td>\n",
       "      <td>45.1</td>\n",
       "      <td>10.4</td>\n",
       "    </tr>\n",
       "    <tr>\n",
       "      <th>3</th>\n",
       "      <td>17.2</td>\n",
       "      <td>45.9</td>\n",
       "      <td>69.3</td>\n",
       "      <td>9.3</td>\n",
       "    </tr>\n",
       "    <tr>\n",
       "      <th>4</th>\n",
       "      <td>151.5</td>\n",
       "      <td>41.3</td>\n",
       "      <td>58.5</td>\n",
       "      <td>18.5</td>\n",
       "    </tr>\n",
       "    <tr>\n",
       "      <th>5</th>\n",
       "      <td>180.8</td>\n",
       "      <td>10.8</td>\n",
       "      <td>58.4</td>\n",
       "      <td>12.9</td>\n",
       "    </tr>\n",
       "    <tr>\n",
       "      <th>...</th>\n",
       "      <td>...</td>\n",
       "      <td>...</td>\n",
       "      <td>...</td>\n",
       "      <td>...</td>\n",
       "    </tr>\n",
       "    <tr>\n",
       "      <th>196</th>\n",
       "      <td>38.2</td>\n",
       "      <td>3.7</td>\n",
       "      <td>13.8</td>\n",
       "      <td>7.6</td>\n",
       "    </tr>\n",
       "    <tr>\n",
       "      <th>197</th>\n",
       "      <td>94.2</td>\n",
       "      <td>4.9</td>\n",
       "      <td>8.1</td>\n",
       "      <td>9.7</td>\n",
       "    </tr>\n",
       "    <tr>\n",
       "      <th>198</th>\n",
       "      <td>177.0</td>\n",
       "      <td>9.3</td>\n",
       "      <td>6.4</td>\n",
       "      <td>12.8</td>\n",
       "    </tr>\n",
       "    <tr>\n",
       "      <th>199</th>\n",
       "      <td>283.6</td>\n",
       "      <td>42.0</td>\n",
       "      <td>66.2</td>\n",
       "      <td>25.5</td>\n",
       "    </tr>\n",
       "    <tr>\n",
       "      <th>200</th>\n",
       "      <td>232.1</td>\n",
       "      <td>8.6</td>\n",
       "      <td>8.7</td>\n",
       "      <td>13.4</td>\n",
       "    </tr>\n",
       "  </tbody>\n",
       "</table>\n",
       "<p>200 rows × 4 columns</p>\n",
       "</div>"
      ],
      "text/plain": [
       "        TV  radio  newspaper  sales\n",
       "1    230.1   37.8       69.2   22.1\n",
       "2     44.5   39.3       45.1   10.4\n",
       "3     17.2   45.9       69.3    9.3\n",
       "4    151.5   41.3       58.5   18.5\n",
       "5    180.8   10.8       58.4   12.9\n",
       "..     ...    ...        ...    ...\n",
       "196   38.2    3.7       13.8    7.6\n",
       "197   94.2    4.9        8.1    9.7\n",
       "198  177.0    9.3        6.4   12.8\n",
       "199  283.6   42.0       66.2   25.5\n",
       "200  232.1    8.6        8.7   13.4\n",
       "\n",
       "[200 rows x 4 columns]"
      ]
     },
     "execution_count": 2,
     "metadata": {},
     "output_type": "execute_result"
    }
   ],
   "source": [
    "df=pd.read_csv(\"Advertising_Sales.csv\",index_col=0)\n",
    "df"
   ]
  },
  {
   "cell_type": "markdown",
   "id": "042174f8",
   "metadata": {},
   "source": [
    "* Since the sales column have continuous numbers we have the regression problem\n",
    "* The Advertising data set consists of the sales of that product in 200 different markets, along with advertising budgets for the product in each of those markets for three different media: TV, radio, and newspaper."
   ]
  },
  {
   "cell_type": "markdown",
   "id": "08ebc7d8",
   "metadata": {},
   "source": [
    "# Exploratory Data Analysis"
   ]
  },
  {
   "cell_type": "markdown",
   "id": "7b6047cf",
   "metadata": {},
   "source": [
    "# 1- Data Exploration"
   ]
  },
  {
   "cell_type": "code",
   "execution_count": 3,
   "id": "9ee3e7a7",
   "metadata": {},
   "outputs": [
    {
     "data": {
      "text/plain": [
       "(200, 4)"
      ]
     },
     "execution_count": 3,
     "metadata": {},
     "output_type": "execute_result"
    }
   ],
   "source": [
    "df.shape"
   ]
  },
  {
   "cell_type": "code",
   "execution_count": 4,
   "id": "a13206a3",
   "metadata": {},
   "outputs": [
    {
     "data": {
      "text/plain": [
       "Index(['TV', 'radio', 'newspaper', 'sales'], dtype='object')"
      ]
     },
     "execution_count": 4,
     "metadata": {},
     "output_type": "execute_result"
    }
   ],
   "source": [
    "df.columns"
   ]
  },
  {
   "cell_type": "markdown",
   "id": "fbd1b563",
   "metadata": {},
   "source": [
    "* We have 200 rows and 4 columns\n",
    "* The column names are TV, radio, newspaper, sales."
   ]
  },
  {
   "cell_type": "code",
   "execution_count": 5,
   "id": "7c307d86",
   "metadata": {},
   "outputs": [
    {
     "name": "stdout",
     "output_type": "stream",
     "text": [
      "<class 'pandas.core.frame.DataFrame'>\n",
      "Int64Index: 200 entries, 1 to 200\n",
      "Data columns (total 4 columns):\n",
      " #   Column     Non-Null Count  Dtype  \n",
      "---  ------     --------------  -----  \n",
      " 0   TV         200 non-null    float64\n",
      " 1   radio      200 non-null    float64\n",
      " 2   newspaper  200 non-null    float64\n",
      " 3   sales      200 non-null    float64\n",
      "dtypes: float64(4)\n",
      "memory usage: 7.8 KB\n"
     ]
    }
   ],
   "source": [
    "#Checking the data types\n",
    "\n",
    "df.info()"
   ]
  },
  {
   "cell_type": "markdown",
   "id": "5ed4f03c",
   "metadata": {},
   "source": [
    "* All the data features are in float data type.\n",
    "* No null values.\n",
    "\n",
    "Our Dataset is good to go"
   ]
  },
  {
   "cell_type": "code",
   "execution_count": 6,
   "id": "5758b7d1",
   "metadata": {},
   "outputs": [
    {
     "data": {
      "text/plain": [
       "TV           190\n",
       "radio        167\n",
       "newspaper    172\n",
       "sales        121\n",
       "dtype: int64"
      ]
     },
     "execution_count": 6,
     "metadata": {},
     "output_type": "execute_result"
    }
   ],
   "source": [
    "#checking unique values \n",
    "\n",
    "df.nunique()"
   ]
  },
  {
   "cell_type": "code",
   "execution_count": 7,
   "id": "61867cc2",
   "metadata": {},
   "outputs": [
    {
     "data": {
      "text/plain": [
       "TV           0\n",
       "radio        0\n",
       "newspaper    0\n",
       "sales        0\n",
       "dtype: int64"
      ]
     },
     "execution_count": 7,
     "metadata": {},
     "output_type": "execute_result"
    }
   ],
   "source": [
    "#checking null values\n",
    "\n",
    "df.isnull().sum()"
   ]
  },
  {
   "cell_type": "code",
   "execution_count": 8,
   "id": "f624f69b",
   "metadata": {},
   "outputs": [
    {
     "data": {
      "text/html": [
       "<div>\n",
       "<style scoped>\n",
       "    .dataframe tbody tr th:only-of-type {\n",
       "        vertical-align: middle;\n",
       "    }\n",
       "\n",
       "    .dataframe tbody tr th {\n",
       "        vertical-align: top;\n",
       "    }\n",
       "\n",
       "    .dataframe thead th {\n",
       "        text-align: right;\n",
       "    }\n",
       "</style>\n",
       "<table border=\"1\" class=\"dataframe\">\n",
       "  <thead>\n",
       "    <tr style=\"text-align: right;\">\n",
       "      <th></th>\n",
       "      <th>TV</th>\n",
       "      <th>radio</th>\n",
       "      <th>newspaper</th>\n",
       "      <th>sales</th>\n",
       "    </tr>\n",
       "  </thead>\n",
       "  <tbody>\n",
       "  </tbody>\n",
       "</table>\n",
       "</div>"
      ],
      "text/plain": [
       "Empty DataFrame\n",
       "Columns: [TV, radio, newspaper, sales]\n",
       "Index: []"
      ]
     },
     "execution_count": 8,
     "metadata": {},
     "output_type": "execute_result"
    }
   ],
   "source": [
    "#checking for empty observations\n",
    "\n",
    "df.loc[df['TV'] == \" \"]"
   ]
  },
  {
   "cell_type": "code",
   "execution_count": 9,
   "id": "298985dc",
   "metadata": {},
   "outputs": [
    {
     "data": {
      "text/html": [
       "<div>\n",
       "<style scoped>\n",
       "    .dataframe tbody tr th:only-of-type {\n",
       "        vertical-align: middle;\n",
       "    }\n",
       "\n",
       "    .dataframe tbody tr th {\n",
       "        vertical-align: top;\n",
       "    }\n",
       "\n",
       "    .dataframe thead th {\n",
       "        text-align: right;\n",
       "    }\n",
       "</style>\n",
       "<table border=\"1\" class=\"dataframe\">\n",
       "  <thead>\n",
       "    <tr style=\"text-align: right;\">\n",
       "      <th></th>\n",
       "      <th>TV</th>\n",
       "      <th>radio</th>\n",
       "      <th>newspaper</th>\n",
       "      <th>sales</th>\n",
       "    </tr>\n",
       "  </thead>\n",
       "  <tbody>\n",
       "  </tbody>\n",
       "</table>\n",
       "</div>"
      ],
      "text/plain": [
       "Empty DataFrame\n",
       "Columns: [TV, radio, newspaper, sales]\n",
       "Index: []"
      ]
     },
     "execution_count": 9,
     "metadata": {},
     "output_type": "execute_result"
    }
   ],
   "source": [
    "df.loc[df['radio'] == \" \"]"
   ]
  },
  {
   "cell_type": "code",
   "execution_count": 10,
   "id": "f05ccc3c",
   "metadata": {},
   "outputs": [
    {
     "data": {
      "text/html": [
       "<div>\n",
       "<style scoped>\n",
       "    .dataframe tbody tr th:only-of-type {\n",
       "        vertical-align: middle;\n",
       "    }\n",
       "\n",
       "    .dataframe tbody tr th {\n",
       "        vertical-align: top;\n",
       "    }\n",
       "\n",
       "    .dataframe thead th {\n",
       "        text-align: right;\n",
       "    }\n",
       "</style>\n",
       "<table border=\"1\" class=\"dataframe\">\n",
       "  <thead>\n",
       "    <tr style=\"text-align: right;\">\n",
       "      <th></th>\n",
       "      <th>TV</th>\n",
       "      <th>radio</th>\n",
       "      <th>newspaper</th>\n",
       "      <th>sales</th>\n",
       "    </tr>\n",
       "  </thead>\n",
       "  <tbody>\n",
       "  </tbody>\n",
       "</table>\n",
       "</div>"
      ],
      "text/plain": [
       "Empty DataFrame\n",
       "Columns: [TV, radio, newspaper, sales]\n",
       "Index: []"
      ]
     },
     "execution_count": 10,
     "metadata": {},
     "output_type": "execute_result"
    }
   ],
   "source": [
    "df.loc[df['newspaper'] == \" \"]"
   ]
  },
  {
   "cell_type": "code",
   "execution_count": 11,
   "id": "6a3c018a",
   "metadata": {},
   "outputs": [
    {
     "data": {
      "text/html": [
       "<div>\n",
       "<style scoped>\n",
       "    .dataframe tbody tr th:only-of-type {\n",
       "        vertical-align: middle;\n",
       "    }\n",
       "\n",
       "    .dataframe tbody tr th {\n",
       "        vertical-align: top;\n",
       "    }\n",
       "\n",
       "    .dataframe thead th {\n",
       "        text-align: right;\n",
       "    }\n",
       "</style>\n",
       "<table border=\"1\" class=\"dataframe\">\n",
       "  <thead>\n",
       "    <tr style=\"text-align: right;\">\n",
       "      <th></th>\n",
       "      <th>TV</th>\n",
       "      <th>radio</th>\n",
       "      <th>newspaper</th>\n",
       "      <th>sales</th>\n",
       "    </tr>\n",
       "  </thead>\n",
       "  <tbody>\n",
       "  </tbody>\n",
       "</table>\n",
       "</div>"
      ],
      "text/plain": [
       "Empty DataFrame\n",
       "Columns: [TV, radio, newspaper, sales]\n",
       "Index: []"
      ]
     },
     "execution_count": 11,
     "metadata": {},
     "output_type": "execute_result"
    }
   ],
   "source": [
    "df.loc[df['sales'] == \" \"]"
   ]
  },
  {
   "cell_type": "markdown",
   "id": "24e46917",
   "metadata": {},
   "source": [
    "I do not have any null values and no spaces in my dataset."
   ]
  },
  {
   "cell_type": "code",
   "execution_count": 12,
   "id": "1668ec82",
   "metadata": {},
   "outputs": [
    {
     "data": {
      "text/html": [
       "<div>\n",
       "<style scoped>\n",
       "    .dataframe tbody tr th:only-of-type {\n",
       "        vertical-align: middle;\n",
       "    }\n",
       "\n",
       "    .dataframe tbody tr th {\n",
       "        vertical-align: top;\n",
       "    }\n",
       "\n",
       "    .dataframe thead th {\n",
       "        text-align: right;\n",
       "    }\n",
       "</style>\n",
       "<table border=\"1\" class=\"dataframe\">\n",
       "  <thead>\n",
       "    <tr style=\"text-align: right;\">\n",
       "      <th></th>\n",
       "      <th>TV</th>\n",
       "      <th>radio</th>\n",
       "      <th>newspaper</th>\n",
       "      <th>sales</th>\n",
       "    </tr>\n",
       "  </thead>\n",
       "  <tbody>\n",
       "    <tr>\n",
       "      <th>count</th>\n",
       "      <td>200.000000</td>\n",
       "      <td>200.000000</td>\n",
       "      <td>200.000000</td>\n",
       "      <td>200.000000</td>\n",
       "    </tr>\n",
       "    <tr>\n",
       "      <th>mean</th>\n",
       "      <td>147.042500</td>\n",
       "      <td>23.264000</td>\n",
       "      <td>30.554000</td>\n",
       "      <td>14.022500</td>\n",
       "    </tr>\n",
       "    <tr>\n",
       "      <th>std</th>\n",
       "      <td>85.854236</td>\n",
       "      <td>14.846809</td>\n",
       "      <td>21.778621</td>\n",
       "      <td>5.217457</td>\n",
       "    </tr>\n",
       "    <tr>\n",
       "      <th>min</th>\n",
       "      <td>0.700000</td>\n",
       "      <td>0.000000</td>\n",
       "      <td>0.300000</td>\n",
       "      <td>1.600000</td>\n",
       "    </tr>\n",
       "    <tr>\n",
       "      <th>25%</th>\n",
       "      <td>74.375000</td>\n",
       "      <td>9.975000</td>\n",
       "      <td>12.750000</td>\n",
       "      <td>10.375000</td>\n",
       "    </tr>\n",
       "    <tr>\n",
       "      <th>50%</th>\n",
       "      <td>149.750000</td>\n",
       "      <td>22.900000</td>\n",
       "      <td>25.750000</td>\n",
       "      <td>12.900000</td>\n",
       "    </tr>\n",
       "    <tr>\n",
       "      <th>75%</th>\n",
       "      <td>218.825000</td>\n",
       "      <td>36.525000</td>\n",
       "      <td>45.100000</td>\n",
       "      <td>17.400000</td>\n",
       "    </tr>\n",
       "    <tr>\n",
       "      <th>max</th>\n",
       "      <td>296.400000</td>\n",
       "      <td>49.600000</td>\n",
       "      <td>114.000000</td>\n",
       "      <td>27.000000</td>\n",
       "    </tr>\n",
       "  </tbody>\n",
       "</table>\n",
       "</div>"
      ],
      "text/plain": [
       "               TV       radio   newspaper       sales\n",
       "count  200.000000  200.000000  200.000000  200.000000\n",
       "mean   147.042500   23.264000   30.554000   14.022500\n",
       "std     85.854236   14.846809   21.778621    5.217457\n",
       "min      0.700000    0.000000    0.300000    1.600000\n",
       "25%     74.375000    9.975000   12.750000   10.375000\n",
       "50%    149.750000   22.900000   25.750000   12.900000\n",
       "75%    218.825000   36.525000   45.100000   17.400000\n",
       "max    296.400000   49.600000  114.000000   27.000000"
      ]
     },
     "execution_count": 12,
     "metadata": {},
     "output_type": "execute_result"
    }
   ],
   "source": [
    "#data description\n",
    "\n",
    "df.describe()"
   ]
  },
  {
   "cell_type": "markdown",
   "id": "a7027f56",
   "metadata": {},
   "source": [
    "Here we cane see that:\n",
    " \n",
    "* Minimum value of radio is 0\n",
    "* We can see that all the columns have count 200\n",
    "* The mean and Median of TV and radio are almost similar\n",
    "* The maximum sales according to the dataset is 27"
   ]
  },
  {
   "cell_type": "markdown",
   "id": "768098ba",
   "metadata": {},
   "source": [
    "# 2- Data Visualization"
   ]
  },
  {
   "cell_type": "markdown",
   "id": "c698f61d",
   "metadata": {},
   "source": [
    "# a- Univariate analysis"
   ]
  },
  {
   "cell_type": "code",
   "execution_count": 13,
   "id": "b190d136",
   "metadata": {},
   "outputs": [
    {
     "data": {
      "image/png": "[encoded data removed]",
      "text/plain": [
       "<Figure size 576x288 with 1 Axes>"
      ]
     },
     "metadata": {
      "needs_background": "light"
     },
     "output_type": "display_data"
    }
   ],
   "source": [
    "#distplot of target variable\n",
    "\n",
    "plt.figure(figsize=[8,4])\n",
    "sns.distplot(df[\"sales\"], color='b',hist_kws=dict(edgecolor=\"black\", linewidth=2), bins=30)\n",
    "plt.title('Target Variable Distribution ')\n",
    "plt.show()"
   ]
  },
  {
   "cell_type": "markdown",
   "id": "cb1bb615",
   "metadata": {},
   "source": [
    "The distribution os target variable looks almost normal"
   ]
  },
  {
   "cell_type": "code",
   "execution_count": 14,
   "id": "3561c883",
   "metadata": {},
   "outputs": [
    {
     "data": {
      "text/plain": [
       "<AxesSubplot:xlabel='TV', ylabel='Density'>"
      ]
     },
     "execution_count": 14,
     "metadata": {},
     "output_type": "execute_result"
    },
    {
     "data": {
      "image/png": "[encoded data removed]",
      "text/plain": [
       "<Figure size 432x288 with 1 Axes>"
      ]
     },
     "metadata": {
      "needs_background": "light"
     },
     "output_type": "display_data"
    }
   ],
   "source": [
    "#distplot for each features\n",
    "\n",
    "sns.distplot(df['TV'],kde=True)"
   ]
  },
  {
   "cell_type": "code",
   "execution_count": 15,
   "id": "6b45dc2a",
   "metadata": {},
   "outputs": [
    {
     "data": {
      "text/plain": [
       "<AxesSubplot:xlabel='radio', ylabel='Density'>"
      ]
     },
     "execution_count": 15,
     "metadata": {},
     "output_type": "execute_result"
    },
    {
     "data": {
      "image/png": "[encoded data removed]",
      "text/plain": [
       "<Figure size 432x288 with 1 Axes>"
      ]
     },
     "metadata": {
      "needs_background": "light"
     },
     "output_type": "display_data"
    }
   ],
   "source": [
    "sns.distplot(df['radio'],kde=True)"
   ]
  },
  {
   "cell_type": "code",
   "execution_count": 16,
   "id": "a927bc37",
   "metadata": {},
   "outputs": [
    {
     "data": {
      "text/plain": [
       "<AxesSubplot:xlabel='newspaper', ylabel='Density'>"
      ]
     },
     "execution_count": 16,
     "metadata": {},
     "output_type": "execute_result"
    },
    {
     "data": {
      "image/png": "[encoded data removed]",
      "text/plain": [
       "<Figure size 432x288 with 1 Axes>"
      ]
     },
     "metadata": {
      "needs_background": "light"
     },
     "output_type": "display_data"
    }
   ],
   "source": [
    "sns.distplot(df['newspaper'],kde=True)"
   ]
  },
  {
   "cell_type": "markdown",
   "id": "71fc8b52",
   "metadata": {},
   "source": [
    "Observations:\n",
    "    \n",
    "* The distplot for TV and radio are symmetrical, i.e, Mean and median are almost similar\n",
    "* The distplot for newspaper shows not normal.i.e skewness is present in newspaper.\n",
    "* The distplot for sales are almost normal"
   ]
  },
  {
   "cell_type": "markdown",
   "id": "27611284",
   "metadata": {},
   "source": [
    "# b- Bivariate analysis"
   ]
  },
  {
   "cell_type": "code",
   "execution_count": 17,
   "id": "fdb99b8c",
   "metadata": {},
   "outputs": [
    {
     "data": {
      "text/plain": [
       "<AxesSubplot:title={'center':'Comparision between TV and Sales'}, xlabel='TV', ylabel='sales'>"
      ]
     },
     "execution_count": 17,
     "metadata": {},
     "output_type": "execute_result"
    },
    {
     "data": {
      "image/png": "[encoded data removed]",
      "text/plain": [
       "<Figure size 432x288 with 1 Axes>"
      ]
     },
     "metadata": {
      "needs_background": "light"
     },
     "output_type": "display_data"
    }
   ],
   "source": [
    "plt.title('Comparision between TV and Sales')\n",
    "sns.regplot(df['TV'],df['sales'],order=2)"
   ]
  },
  {
   "cell_type": "code",
   "execution_count": 18,
   "id": "a77fc464",
   "metadata": {},
   "outputs": [
    {
     "data": {
      "text/plain": [
       "<AxesSubplot:xlabel='radio', ylabel='sales'>"
      ]
     },
     "execution_count": 18,
     "metadata": {},
     "output_type": "execute_result"
    },
    {
     "data": {
      "image/png": "[encoded data removed]",
      "text/plain": [
       "<Figure size 432x288 with 1 Axes>"
      ]
     },
     "metadata": {
      "needs_background": "light"
     },
     "output_type": "display_data"
    }
   ],
   "source": [
    "sns.regplot(x='radio',y='sales',data=df,order=2)"
   ]
  },
  {
   "cell_type": "code",
   "execution_count": 19,
   "id": "c56dc66f",
   "metadata": {},
   "outputs": [
    {
     "data": {
      "text/plain": [
       "<AxesSubplot:xlabel='newspaper', ylabel='sales'>"
      ]
     },
     "execution_count": 19,
     "metadata": {},
     "output_type": "execute_result"
    },
    {
     "data": {
      "image/png": "[encoded data removed]",
      "text/plain": [
       "<Figure size 432x288 with 1 Axes>"
      ]
     },
     "metadata": {
      "needs_background": "light"
     },
     "output_type": "display_data"
    }
   ],
   "source": [
    "sns.regplot(x='newspaper',y='sales',data=df,order=2)"
   ]
  },
  {
   "cell_type": "markdown",
   "id": "c1230b18",
   "metadata": {},
   "source": [
    "Observations:\n",
    "\n",
    "* The regplot of newspaper and sales shows that it is more linear. As TV budget increases the   sales increase. But somepoints even tv budget increased the sales did not increase.\n",
    "* The regplot of radio and sales shows that it is linear and there is no curve.\n",
    "* The regplot of newspaper and sales are almost a straight line as it shows there can be no     much sales difference as newspaper budget increases.\n",
    "* We can see outliers in radio and newspaper."
   ]
  },
  {
   "cell_type": "markdown",
   "id": "4438a46c",
   "metadata": {},
   "source": [
    "# c- Multivariate analysis"
   ]
  },
  {
   "cell_type": "code",
   "execution_count": 20,
   "id": "4c70729b",
   "metadata": {},
   "outputs": [
    {
     "data": {
      "text/plain": [
       "<seaborn.axisgrid.PairGrid at 0x7fc9af104e20>"
      ]
     },
     "execution_count": 20,
     "metadata": {},
     "output_type": "execute_result"
    },
    {
     "data": {
      "image/png": "[encoded data removed]",
      "text/plain": [
       "<Figure size 720x720 with 20 Axes>"
      ]
     },
     "metadata": {
      "needs_background": "light"
     },
     "output_type": "display_data"
    }
   ],
   "source": [
    "sns.pairplot(df)"
   ]
  },
  {
   "cell_type": "markdown",
   "id": "2f5cefff",
   "metadata": {},
   "source": [
    "In the above graph we can see that:\n",
    "* scatterplot between TV and Radio are spreaded along\n",
    "* scatterplot between TV and newspaper are not increasing but on the lower side\n",
    "* scatterplot between Radio and newspaper are on the increasing side.\n",
    "* The values are much scattered for independent variable, which indicates less correlation."
   ]
  },
  {
   "cell_type": "code",
   "execution_count": 21,
   "id": "2c4b5aeb",
   "metadata": {},
   "outputs": [
    {
     "data": {
      "text/plain": [
       "<seaborn.axisgrid.PairGrid at 0x7fc9afa822b0>"
      ]
     },
     "execution_count": 21,
     "metadata": {},
     "output_type": "execute_result"
    },
    {
     "data": {
      "image/png": "[encoded data removed]",
      "text/plain": [
       "<Figure size 588.75x540 with 12 Axes>"
      ]
     },
     "metadata": {
      "needs_background": "light"
     },
     "output_type": "display_data"
    }
   ],
   "source": [
    "sns.pairplot(df,hue=\"sales\")"
   ]
  },
  {
   "cell_type": "markdown",
   "id": "55d57595",
   "metadata": {},
   "source": [
    "* We can clearly visualize that TV has dominant role in increasing the sales compared to Radio or newspaper. TV is in linear relationship with Sales, followed by Radio then newspaper."
   ]
  },
  {
   "cell_type": "markdown",
   "id": "d32aab53",
   "metadata": {},
   "source": [
    "# 3- Data Cleaning and Feature Engineering"
   ]
  },
  {
   "cell_type": "markdown",
   "id": "0bab739d",
   "metadata": {},
   "source": [
    "# a) Checking Outliers and Removing them"
   ]
  },
  {
   "cell_type": "code",
   "execution_count": 22,
   "id": "6f3489be",
   "metadata": {},
   "outputs": [
    {
     "data": {
      "image/png": "[encoded data removed]",
      "text/plain": [
       "<Figure size 432x432 with 1 Axes>"
      ]
     },
     "metadata": {},
     "output_type": "display_data"
    }
   ],
   "source": [
    "plt.figure(figsize=(6,6), facecolor='Yellow')\n",
    "sns.boxplot(data=df, palette='Set2')\n",
    "plt.show()"
   ]
  },
  {
   "cell_type": "markdown",
   "id": "55548c47",
   "metadata": {},
   "source": [
    "We have a very few outliers present in Newspaper. we can remove it by Zscore method"
   ]
  },
  {
   "cell_type": "code",
   "execution_count": 23,
   "id": "86ffc29c",
   "metadata": {},
   "outputs": [
    {
     "data": {
      "text/html": [
       "<div>\n",
       "<style scoped>\n",
       "    .dataframe tbody tr th:only-of-type {\n",
       "        vertical-align: middle;\n",
       "    }\n",
       "\n",
       "    .dataframe tbody tr th {\n",
       "        vertical-align: top;\n",
       "    }\n",
       "\n",
       "    .dataframe thead th {\n",
       "        text-align: right;\n",
       "    }\n",
       "</style>\n",
       "<table border=\"1\" class=\"dataframe\">\n",
       "  <thead>\n",
       "    <tr style=\"text-align: right;\">\n",
       "      <th></th>\n",
       "      <th>TV</th>\n",
       "      <th>radio</th>\n",
       "      <th>newspaper</th>\n",
       "      <th>sales</th>\n",
       "    </tr>\n",
       "  </thead>\n",
       "  <tbody>\n",
       "    <tr>\n",
       "      <th>1</th>\n",
       "      <td>230.1</td>\n",
       "      <td>37.8</td>\n",
       "      <td>69.2</td>\n",
       "      <td>22.1</td>\n",
       "    </tr>\n",
       "    <tr>\n",
       "      <th>2</th>\n",
       "      <td>44.5</td>\n",
       "      <td>39.3</td>\n",
       "      <td>45.1</td>\n",
       "      <td>10.4</td>\n",
       "    </tr>\n",
       "    <tr>\n",
       "      <th>3</th>\n",
       "      <td>17.2</td>\n",
       "      <td>45.9</td>\n",
       "      <td>69.3</td>\n",
       "      <td>9.3</td>\n",
       "    </tr>\n",
       "    <tr>\n",
       "      <th>4</th>\n",
       "      <td>151.5</td>\n",
       "      <td>41.3</td>\n",
       "      <td>58.5</td>\n",
       "      <td>18.5</td>\n",
       "    </tr>\n",
       "    <tr>\n",
       "      <th>5</th>\n",
       "      <td>180.8</td>\n",
       "      <td>10.8</td>\n",
       "      <td>58.4</td>\n",
       "      <td>12.9</td>\n",
       "    </tr>\n",
       "    <tr>\n",
       "      <th>...</th>\n",
       "      <td>...</td>\n",
       "      <td>...</td>\n",
       "      <td>...</td>\n",
       "      <td>...</td>\n",
       "    </tr>\n",
       "    <tr>\n",
       "      <th>196</th>\n",
       "      <td>38.2</td>\n",
       "      <td>3.7</td>\n",
       "      <td>13.8</td>\n",
       "      <td>7.6</td>\n",
       "    </tr>\n",
       "    <tr>\n",
       "      <th>197</th>\n",
       "      <td>94.2</td>\n",
       "      <td>4.9</td>\n",
       "      <td>8.1</td>\n",
       "      <td>9.7</td>\n",
       "    </tr>\n",
       "    <tr>\n",
       "      <th>198</th>\n",
       "      <td>177.0</td>\n",
       "      <td>9.3</td>\n",
       "      <td>6.4</td>\n",
       "      <td>12.8</td>\n",
       "    </tr>\n",
       "    <tr>\n",
       "      <th>199</th>\n",
       "      <td>283.6</td>\n",
       "      <td>42.0</td>\n",
       "      <td>66.2</td>\n",
       "      <td>25.5</td>\n",
       "    </tr>\n",
       "    <tr>\n",
       "      <th>200</th>\n",
       "      <td>232.1</td>\n",
       "      <td>8.6</td>\n",
       "      <td>8.7</td>\n",
       "      <td>13.4</td>\n",
       "    </tr>\n",
       "  </tbody>\n",
       "</table>\n",
       "<p>198 rows × 4 columns</p>\n",
       "</div>"
      ],
      "text/plain": [
       "        TV  radio  newspaper  sales\n",
       "1    230.1   37.8       69.2   22.1\n",
       "2     44.5   39.3       45.1   10.4\n",
       "3     17.2   45.9       69.3    9.3\n",
       "4    151.5   41.3       58.5   18.5\n",
       "5    180.8   10.8       58.4   12.9\n",
       "..     ...    ...        ...    ...\n",
       "196   38.2    3.7       13.8    7.6\n",
       "197   94.2    4.9        8.1    9.7\n",
       "198  177.0    9.3        6.4   12.8\n",
       "199  283.6   42.0       66.2   25.5\n",
       "200  232.1    8.6        8.7   13.4\n",
       "\n",
       "[198 rows x 4 columns]"
      ]
     },
     "execution_count": 23,
     "metadata": {},
     "output_type": "execute_result"
    }
   ],
   "source": [
    "from scipy.stats import zscore\n",
    "z=np.abs(zscore(df[[\"newspaper\"]]))\n",
    "df_new=df[(z<3).all(axis=1)]\n",
    "df_new"
   ]
  },
  {
   "cell_type": "code",
   "execution_count": 24,
   "id": "a274b212",
   "metadata": {},
   "outputs": [
    {
     "data": {
      "text/plain": [
       "(198, 4)"
      ]
     },
     "execution_count": 24,
     "metadata": {},
     "output_type": "execute_result"
    }
   ],
   "source": [
    "df_new.shape"
   ]
  },
  {
   "cell_type": "code",
   "execution_count": 25,
   "id": "e023ebb4",
   "metadata": {},
   "outputs": [
    {
     "data": {
      "text/plain": [
       "1.0"
      ]
     },
     "execution_count": 25,
     "metadata": {},
     "output_type": "execute_result"
    }
   ],
   "source": [
    "losspercentage=(((200-198)/200)*100)\n",
    "losspercentage"
   ]
  },
  {
   "cell_type": "markdown",
   "id": "bbb0d00c",
   "metadata": {},
   "source": [
    "The dataloss after removing outliers is 1% which is less than 10% so we can proceed with the new data."
   ]
  },
  {
   "cell_type": "markdown",
   "id": "b34d2963",
   "metadata": {},
   "source": [
    "# b) Checking Skewness and removing them "
   ]
  },
  {
   "cell_type": "code",
   "execution_count": 26,
   "id": "4adf1426",
   "metadata": {},
   "outputs": [
    {
     "data": {
      "text/plain": [
       "TV          -0.082332\n",
       "radio        0.114842\n",
       "newspaper    0.650112\n",
       "sales        0.407130\n",
       "dtype: float64"
      ]
     },
     "execution_count": 26,
     "metadata": {},
     "output_type": "execute_result"
    }
   ],
   "source": [
    "df_new.skew()"
   ]
  },
  {
   "cell_type": "markdown",
   "id": "8f69d776",
   "metadata": {},
   "source": [
    "We have a little skewness present in newspaper. "
   ]
  },
  {
   "cell_type": "code",
   "execution_count": 27,
   "id": "50b770d1",
   "metadata": {},
   "outputs": [],
   "source": [
    "#removing skewness\n",
    "\n",
    "from sklearn.preprocessing import PowerTransformer\n",
    "transform = PowerTransformer(method='yeo-johnson')\n",
    "cols=['newspaper']\n",
    "df_new[cols] = transform.fit_transform(df_new[cols].values)"
   ]
  },
  {
   "cell_type": "code",
   "execution_count": 28,
   "id": "04c04e6f",
   "metadata": {},
   "outputs": [
    {
     "data": {
      "text/plain": [
       "TV          -0.082332\n",
       "radio        0.114842\n",
       "newspaper   -0.101288\n",
       "sales        0.407130\n",
       "dtype: float64"
      ]
     },
     "execution_count": 28,
     "metadata": {},
     "output_type": "execute_result"
    }
   ],
   "source": [
    "df_new.skew()"
   ]
  },
  {
   "cell_type": "markdown",
   "id": "6ab50516",
   "metadata": {},
   "source": [
    "Hence, the skewness is removed"
   ]
  },
  {
   "cell_type": "markdown",
   "id": "13abc1c8",
   "metadata": {},
   "source": [
    "# c) Correlation"
   ]
  },
  {
   "cell_type": "code",
   "execution_count": 29,
   "id": "3ca631bb",
   "metadata": {},
   "outputs": [
    {
     "data": {
      "text/html": [
       "<div>\n",
       "<style scoped>\n",
       "    .dataframe tbody tr th:only-of-type {\n",
       "        vertical-align: middle;\n",
       "    }\n",
       "\n",
       "    .dataframe tbody tr th {\n",
       "        vertical-align: top;\n",
       "    }\n",
       "\n",
       "    .dataframe thead th {\n",
       "        text-align: right;\n",
       "    }\n",
       "</style>\n",
       "<table border=\"1\" class=\"dataframe\">\n",
       "  <thead>\n",
       "    <tr style=\"text-align: right;\">\n",
       "      <th></th>\n",
       "      <th>TV</th>\n",
       "      <th>radio</th>\n",
       "      <th>newspaper</th>\n",
       "      <th>sales</th>\n",
       "    </tr>\n",
       "  </thead>\n",
       "  <tbody>\n",
       "    <tr>\n",
       "      <th>TV</th>\n",
       "      <td>1.000000</td>\n",
       "      <td>0.051978</td>\n",
       "      <td>0.038288</td>\n",
       "      <td>0.779121</td>\n",
       "    </tr>\n",
       "    <tr>\n",
       "      <th>radio</th>\n",
       "      <td>0.051978</td>\n",
       "      <td>1.000000</td>\n",
       "      <td>0.296570</td>\n",
       "      <td>0.576748</td>\n",
       "    </tr>\n",
       "    <tr>\n",
       "      <th>newspaper</th>\n",
       "      <td>0.038288</td>\n",
       "      <td>0.296570</td>\n",
       "      <td>1.000000</td>\n",
       "      <td>0.191387</td>\n",
       "    </tr>\n",
       "    <tr>\n",
       "      <th>sales</th>\n",
       "      <td>0.779121</td>\n",
       "      <td>0.576748</td>\n",
       "      <td>0.191387</td>\n",
       "      <td>1.000000</td>\n",
       "    </tr>\n",
       "  </tbody>\n",
       "</table>\n",
       "</div>"
      ],
      "text/plain": [
       "                 TV     radio  newspaper     sales\n",
       "TV         1.000000  0.051978   0.038288  0.779121\n",
       "radio      0.051978  1.000000   0.296570  0.576748\n",
       "newspaper  0.038288  0.296570   1.000000  0.191387\n",
       "sales      0.779121  0.576748   0.191387  1.000000"
      ]
     },
     "execution_count": 29,
     "metadata": {},
     "output_type": "execute_result"
    }
   ],
   "source": [
    "df_new.corr()"
   ]
  },
  {
   "cell_type": "code",
   "execution_count": 30,
   "id": "0e12b89d",
   "metadata": {},
   "outputs": [
    {
     "data": {
      "image/png": "[encoded data removed]",
      "text/plain": [
       "<Figure size 432x432 with 2 Axes>"
      ]
     },
     "metadata": {},
     "output_type": "display_data"
    }
   ],
   "source": [
    "corr = df_new.corr()\n",
    "plt.figure(figsize=(6,6), facecolor='white')\n",
    "sns.heatmap(corr, annot=True,cmap='twilight_shifted_r')\n",
    "plt.show()"
   ]
  },
  {
   "cell_type": "markdown",
   "id": "7bd5f9aa",
   "metadata": {},
   "source": [
    "* low correlation among variables under ideal conditions.\n",
    "* It is evident from the graph that, the independent and dependent variables are in good         correlation range.\n",
    "* TV and sales are in good correlation(0.78).\n",
    "* Radio and sales have moderate correlation(0.58)\n",
    "* Newspaper and Sales are less corelated(0.19)."
   ]
  },
  {
   "cell_type": "code",
   "execution_count": 31,
   "id": "f5b80c9e",
   "metadata": {},
   "outputs": [
    {
     "data": {
      "image/png": "[encoded data removed]",
      "text/plain": [
       "<Figure size 720x360 with 1 Axes>"
      ]
     },
     "metadata": {
      "needs_background": "light"
     },
     "output_type": "display_data"
    }
   ],
   "source": [
    "plt.figure(figsize=(10,5))\n",
    "df_new.corr()['sales'].sort_values(ascending=False).drop(['sales']).plot(kind='bar',color='indigo')\n",
    "plt.xlabel('Feature',fontsize=12)\n",
    "plt.ylabel(\"Column with target\",fontsize=12)\n",
    "plt.title(\"Correlation\",fontsize=15)\n",
    "plt.show()"
   ]
  },
  {
   "cell_type": "code",
   "execution_count": 32,
   "id": "ee0b3634",
   "metadata": {},
   "outputs": [
    {
     "data": {
      "text/html": [
       "<div>\n",
       "<style scoped>\n",
       "    .dataframe tbody tr th:only-of-type {\n",
       "        vertical-align: middle;\n",
       "    }\n",
       "\n",
       "    .dataframe tbody tr th {\n",
       "        vertical-align: top;\n",
       "    }\n",
       "\n",
       "    .dataframe thead th {\n",
       "        text-align: right;\n",
       "    }\n",
       "</style>\n",
       "<table border=\"1\" class=\"dataframe\">\n",
       "  <thead>\n",
       "    <tr style=\"text-align: right;\">\n",
       "      <th></th>\n",
       "      <th>TV</th>\n",
       "      <th>radio</th>\n",
       "      <th>newspaper</th>\n",
       "      <th>sales</th>\n",
       "    </tr>\n",
       "  </thead>\n",
       "  <tbody>\n",
       "    <tr>\n",
       "      <th>1</th>\n",
       "      <td>230.1</td>\n",
       "      <td>37.8</td>\n",
       "      <td>1.604196</td>\n",
       "      <td>22.1</td>\n",
       "    </tr>\n",
       "    <tr>\n",
       "      <th>2</th>\n",
       "      <td>44.5</td>\n",
       "      <td>39.3</td>\n",
       "      <td>0.831044</td>\n",
       "      <td>10.4</td>\n",
       "    </tr>\n",
       "    <tr>\n",
       "      <th>3</th>\n",
       "      <td>17.2</td>\n",
       "      <td>45.9</td>\n",
       "      <td>1.607052</td>\n",
       "      <td>9.3</td>\n",
       "    </tr>\n",
       "    <tr>\n",
       "      <th>4</th>\n",
       "      <td>151.5</td>\n",
       "      <td>41.3</td>\n",
       "      <td>1.283768</td>\n",
       "      <td>18.5</td>\n",
       "    </tr>\n",
       "    <tr>\n",
       "      <th>5</th>\n",
       "      <td>180.8</td>\n",
       "      <td>10.8</td>\n",
       "      <td>1.280622</td>\n",
       "      <td>12.9</td>\n",
       "    </tr>\n",
       "    <tr>\n",
       "      <th>...</th>\n",
       "      <td>...</td>\n",
       "      <td>...</td>\n",
       "      <td>...</td>\n",
       "      <td>...</td>\n",
       "    </tr>\n",
       "    <tr>\n",
       "      <th>196</th>\n",
       "      <td>38.2</td>\n",
       "      <td>3.7</td>\n",
       "      <td>-0.687435</td>\n",
       "      <td>7.6</td>\n",
       "    </tr>\n",
       "    <tr>\n",
       "      <th>197</th>\n",
       "      <td>94.2</td>\n",
       "      <td>4.9</td>\n",
       "      <td>-1.146090</td>\n",
       "      <td>9.7</td>\n",
       "    </tr>\n",
       "    <tr>\n",
       "      <th>198</th>\n",
       "      <td>177.0</td>\n",
       "      <td>9.3</td>\n",
       "      <td>-1.314437</td>\n",
       "      <td>12.8</td>\n",
       "    </tr>\n",
       "    <tr>\n",
       "      <th>199</th>\n",
       "      <td>283.6</td>\n",
       "      <td>42.0</td>\n",
       "      <td>1.517395</td>\n",
       "      <td>25.5</td>\n",
       "    </tr>\n",
       "    <tr>\n",
       "      <th>200</th>\n",
       "      <td>232.1</td>\n",
       "      <td>8.6</td>\n",
       "      <td>-1.091084</td>\n",
       "      <td>13.4</td>\n",
       "    </tr>\n",
       "  </tbody>\n",
       "</table>\n",
       "<p>198 rows × 4 columns</p>\n",
       "</div>"
      ],
      "text/plain": [
       "        TV  radio  newspaper  sales\n",
       "1    230.1   37.8   1.604196   22.1\n",
       "2     44.5   39.3   0.831044   10.4\n",
       "3     17.2   45.9   1.607052    9.3\n",
       "4    151.5   41.3   1.283768   18.5\n",
       "5    180.8   10.8   1.280622   12.9\n",
       "..     ...    ...        ...    ...\n",
       "196   38.2    3.7  -0.687435    7.6\n",
       "197   94.2    4.9  -1.146090    9.7\n",
       "198  177.0    9.3  -1.314437   12.8\n",
       "199  283.6   42.0   1.517395   25.5\n",
       "200  232.1    8.6  -1.091084   13.4\n",
       "\n",
       "[198 rows x 4 columns]"
      ]
     },
     "execution_count": 32,
     "metadata": {},
     "output_type": "execute_result"
    }
   ],
   "source": [
    "#Final data for modeling\n",
    "\n",
    "df_new"
   ]
  },
  {
   "cell_type": "markdown",
   "id": "d11dfcc8",
   "metadata": {},
   "source": [
    "# d) Data Preprocessing"
   ]
  },
  {
   "cell_type": "code",
   "execution_count": 33,
   "id": "57816ea4",
   "metadata": {},
   "outputs": [],
   "source": [
    "#Assigning values of Independant variables to x and Dependant variable or target to y\n",
    "\n",
    "x = df_new.drop(\"sales\",axis=1)\n",
    "y = df_new[\"sales\"]"
   ]
  },
  {
   "cell_type": "code",
   "execution_count": 34,
   "id": "d82c166a",
   "metadata": {},
   "outputs": [
    {
     "data": {
      "text/html": [
       "<div>\n",
       "<style scoped>\n",
       "    .dataframe tbody tr th:only-of-type {\n",
       "        vertical-align: middle;\n",
       "    }\n",
       "\n",
       "    .dataframe tbody tr th {\n",
       "        vertical-align: top;\n",
       "    }\n",
       "\n",
       "    .dataframe thead th {\n",
       "        text-align: right;\n",
       "    }\n",
       "</style>\n",
       "<table border=\"1\" class=\"dataframe\">\n",
       "  <thead>\n",
       "    <tr style=\"text-align: right;\">\n",
       "      <th></th>\n",
       "      <th>TV</th>\n",
       "      <th>radio</th>\n",
       "      <th>newspaper</th>\n",
       "    </tr>\n",
       "  </thead>\n",
       "  <tbody>\n",
       "    <tr>\n",
       "      <th>1</th>\n",
       "      <td>230.1</td>\n",
       "      <td>37.8</td>\n",
       "      <td>1.604196</td>\n",
       "    </tr>\n",
       "    <tr>\n",
       "      <th>2</th>\n",
       "      <td>44.5</td>\n",
       "      <td>39.3</td>\n",
       "      <td>0.831044</td>\n",
       "    </tr>\n",
       "    <tr>\n",
       "      <th>3</th>\n",
       "      <td>17.2</td>\n",
       "      <td>45.9</td>\n",
       "      <td>1.607052</td>\n",
       "    </tr>\n",
       "    <tr>\n",
       "      <th>4</th>\n",
       "      <td>151.5</td>\n",
       "      <td>41.3</td>\n",
       "      <td>1.283768</td>\n",
       "    </tr>\n",
       "    <tr>\n",
       "      <th>5</th>\n",
       "      <td>180.8</td>\n",
       "      <td>10.8</td>\n",
       "      <td>1.280622</td>\n",
       "    </tr>\n",
       "    <tr>\n",
       "      <th>...</th>\n",
       "      <td>...</td>\n",
       "      <td>...</td>\n",
       "      <td>...</td>\n",
       "    </tr>\n",
       "    <tr>\n",
       "      <th>196</th>\n",
       "      <td>38.2</td>\n",
       "      <td>3.7</td>\n",
       "      <td>-0.687435</td>\n",
       "    </tr>\n",
       "    <tr>\n",
       "      <th>197</th>\n",
       "      <td>94.2</td>\n",
       "      <td>4.9</td>\n",
       "      <td>-1.146090</td>\n",
       "    </tr>\n",
       "    <tr>\n",
       "      <th>198</th>\n",
       "      <td>177.0</td>\n",
       "      <td>9.3</td>\n",
       "      <td>-1.314437</td>\n",
       "    </tr>\n",
       "    <tr>\n",
       "      <th>199</th>\n",
       "      <td>283.6</td>\n",
       "      <td>42.0</td>\n",
       "      <td>1.517395</td>\n",
       "    </tr>\n",
       "    <tr>\n",
       "      <th>200</th>\n",
       "      <td>232.1</td>\n",
       "      <td>8.6</td>\n",
       "      <td>-1.091084</td>\n",
       "    </tr>\n",
       "  </tbody>\n",
       "</table>\n",
       "<p>198 rows × 3 columns</p>\n",
       "</div>"
      ],
      "text/plain": [
       "        TV  radio  newspaper\n",
       "1    230.1   37.8   1.604196\n",
       "2     44.5   39.3   0.831044\n",
       "3     17.2   45.9   1.607052\n",
       "4    151.5   41.3   1.283768\n",
       "5    180.8   10.8   1.280622\n",
       "..     ...    ...        ...\n",
       "196   38.2    3.7  -0.687435\n",
       "197   94.2    4.9  -1.146090\n",
       "198  177.0    9.3  -1.314437\n",
       "199  283.6   42.0   1.517395\n",
       "200  232.1    8.6  -1.091084\n",
       "\n",
       "[198 rows x 3 columns]"
      ]
     },
     "execution_count": 34,
     "metadata": {},
     "output_type": "execute_result"
    }
   ],
   "source": [
    "x"
   ]
  },
  {
   "cell_type": "code",
   "execution_count": 35,
   "id": "d1bff43e",
   "metadata": {},
   "outputs": [
    {
     "data": {
      "text/plain": [
       "1      22.1\n",
       "2      10.4\n",
       "3       9.3\n",
       "4      18.5\n",
       "5      12.9\n",
       "       ... \n",
       "196     7.6\n",
       "197     9.7\n",
       "198    12.8\n",
       "199    25.5\n",
       "200    13.4\n",
       "Name: sales, Length: 198, dtype: float64"
      ]
     },
     "execution_count": 35,
     "metadata": {},
     "output_type": "execute_result"
    }
   ],
   "source": [
    "y"
   ]
  },
  {
   "cell_type": "markdown",
   "id": "0cd006d1",
   "metadata": {},
   "source": [
    "# e) Scaling the Data"
   ]
  },
  {
   "cell_type": "code",
   "execution_count": 36,
   "id": "c78fba01",
   "metadata": {},
   "outputs": [],
   "source": [
    "from sklearn.preprocessing import MinMaxScaler"
   ]
  },
  {
   "cell_type": "code",
   "execution_count": 37,
   "id": "0cdc99c7",
   "metadata": {},
   "outputs": [],
   "source": [
    "mms=MinMaxScaler()\n",
    "x = pd.DataFrame(mms.fit_transform(x), columns=x.columns)"
   ]
  },
  {
   "cell_type": "code",
   "execution_count": 38,
   "id": "81f5c583",
   "metadata": {},
   "outputs": [
    {
     "data": {
      "text/html": [
       "<div>\n",
       "<style scoped>\n",
       "    .dataframe tbody tr th:only-of-type {\n",
       "        vertical-align: middle;\n",
       "    }\n",
       "\n",
       "    .dataframe tbody tr th {\n",
       "        vertical-align: top;\n",
       "    }\n",
       "\n",
       "    .dataframe thead th {\n",
       "        text-align: right;\n",
       "    }\n",
       "</style>\n",
       "<table border=\"1\" class=\"dataframe\">\n",
       "  <thead>\n",
       "    <tr style=\"text-align: right;\">\n",
       "      <th></th>\n",
       "      <th>TV</th>\n",
       "      <th>radio</th>\n",
       "      <th>newspaper</th>\n",
       "    </tr>\n",
       "  </thead>\n",
       "  <tbody>\n",
       "    <tr>\n",
       "      <th>0</th>\n",
       "      <td>0.783202</td>\n",
       "      <td>0.762097</td>\n",
       "      <td>0.878788</td>\n",
       "    </tr>\n",
       "    <tr>\n",
       "      <th>1</th>\n",
       "      <td>0.149539</td>\n",
       "      <td>0.792339</td>\n",
       "      <td>0.703678</td>\n",
       "    </tr>\n",
       "    <tr>\n",
       "      <th>2</th>\n",
       "      <td>0.056333</td>\n",
       "      <td>0.925403</td>\n",
       "      <td>0.879435</td>\n",
       "    </tr>\n",
       "    <tr>\n",
       "      <th>3</th>\n",
       "      <td>0.514851</td>\n",
       "      <td>0.832661</td>\n",
       "      <td>0.806215</td>\n",
       "    </tr>\n",
       "    <tr>\n",
       "      <th>4</th>\n",
       "      <td>0.614886</td>\n",
       "      <td>0.217742</td>\n",
       "      <td>0.805502</td>\n",
       "    </tr>\n",
       "    <tr>\n",
       "      <th>...</th>\n",
       "      <td>...</td>\n",
       "      <td>...</td>\n",
       "      <td>...</td>\n",
       "    </tr>\n",
       "    <tr>\n",
       "      <th>193</th>\n",
       "      <td>0.128030</td>\n",
       "      <td>0.074597</td>\n",
       "      <td>0.359758</td>\n",
       "    </tr>\n",
       "    <tr>\n",
       "      <th>194</th>\n",
       "      <td>0.319222</td>\n",
       "      <td>0.098790</td>\n",
       "      <td>0.255878</td>\n",
       "    </tr>\n",
       "    <tr>\n",
       "      <th>195</th>\n",
       "      <td>0.601912</td>\n",
       "      <td>0.187500</td>\n",
       "      <td>0.217749</td>\n",
       "    </tr>\n",
       "    <tr>\n",
       "      <th>196</th>\n",
       "      <td>0.965859</td>\n",
       "      <td>0.846774</td>\n",
       "      <td>0.859129</td>\n",
       "    </tr>\n",
       "    <tr>\n",
       "      <th>197</th>\n",
       "      <td>0.790031</td>\n",
       "      <td>0.173387</td>\n",
       "      <td>0.268336</td>\n",
       "    </tr>\n",
       "  </tbody>\n",
       "</table>\n",
       "<p>198 rows × 3 columns</p>\n",
       "</div>"
      ],
      "text/plain": [
       "           TV     radio  newspaper\n",
       "0    0.783202  0.762097   0.878788\n",
       "1    0.149539  0.792339   0.703678\n",
       "2    0.056333  0.925403   0.879435\n",
       "3    0.514851  0.832661   0.806215\n",
       "4    0.614886  0.217742   0.805502\n",
       "..        ...       ...        ...\n",
       "193  0.128030  0.074597   0.359758\n",
       "194  0.319222  0.098790   0.255878\n",
       "195  0.601912  0.187500   0.217749\n",
       "196  0.965859  0.846774   0.859129\n",
       "197  0.790031  0.173387   0.268336\n",
       "\n",
       "[198 rows x 3 columns]"
      ]
     },
     "execution_count": 38,
     "metadata": {},
     "output_type": "execute_result"
    }
   ],
   "source": [
    "x"
   ]
  },
  {
   "cell_type": "markdown",
   "id": "b237bf7e",
   "metadata": {},
   "source": [
    "# 4- Modeling"
   ]
  },
  {
   "cell_type": "code",
   "execution_count": 39,
   "id": "7048844e",
   "metadata": {},
   "outputs": [],
   "source": [
    "#importing Libraries for testing and predicting\n",
    "\n",
    "from sklearn.linear_model import LinearRegression, Lasso, Ridge\n",
    "from sklearn.neighbors import KNeighborsRegressor\n",
    "from sklearn.ensemble import RandomForestRegressor\n",
    "from sklearn.svm import SVR\n",
    "from sklearn.tree import DecisionTreeRegressor\n",
    "from sklearn.linear_model import SGDRegressor\n",
    "from sklearn.model_selection import train_test_split, cross_val_score\n",
    "from sklearn.model_selection import GridSearchCV \n",
    "from sklearn.metrics import r2_score, mean_absolute_error, mean_squared_error"
   ]
  },
  {
   "cell_type": "code",
   "execution_count": 40,
   "id": "3d1badfd",
   "metadata": {},
   "outputs": [
    {
     "name": "stdout",
     "output_type": "stream",
     "text": [
      "The max accuracy is 0.9358346827439896 seen for random state: 99\n"
     ]
    }
   ],
   "source": [
    "#Selecting the best random state to get maximum accuracy.\n",
    "max_acc=0\n",
    "max_RS=0\n",
    "for i in range(1,100):\n",
    "    x_train, x_test, y_train, y_test = train_test_split(x, y, test_size=0.30, random_state=i)\n",
    "    lr= LinearRegression()\n",
    "    lr.fit(x_train,y_train)\n",
    "    pred = lr.predict(x_test)\n",
    "    acc = r2_score(y_test, pred)\n",
    "    if acc > max_acc:\n",
    "        max_acc= acc\n",
    "        max_RS=i\n",
    "print(\"The max accuracy is\",max_acc, 'seen for random state:',i)"
   ]
  },
  {
   "cell_type": "code",
   "execution_count": 41,
   "id": "11472916",
   "metadata": {},
   "outputs": [],
   "source": [
    "#selecting 99 as randomstate as we got best result\n",
    "\n",
    "x_train, x_test, y_train, y_test = train_test_split(x, y, test_size=0.30, random_state=max_RS)"
   ]
  },
  {
   "cell_type": "code",
   "execution_count": 42,
   "id": "ef7b0dc7",
   "metadata": {},
   "outputs": [
    {
     "name": "stdout",
     "output_type": "stream",
     "text": [
      "The r2 score is: 0.9358346827439896\n",
      "The mean absolute error 1.0293867863083983\n",
      "The mean squared error 1.5796296226361297\n",
      "The cross validation score 0.8857739370001966\n"
     ]
    }
   ],
   "source": [
    "#Linear Regression\n",
    "\n",
    "lm = LinearRegression()\n",
    "lm.fit(x_train, y_train)\n",
    "y_pred = lm.predict(x_test)\n",
    "\n",
    "print('The r2 score is:', r2_score(y_test, y_pred))\n",
    "print('The mean absolute error', mean_absolute_error(y_test, y_pred))\n",
    "print('The mean squared error', mean_squared_error(y_test, y_pred))\n",
    "cv = cross_val_score(lm, x,y,cv=5)\n",
    "print('The cross validation score', cv.mean())\n"
   ]
  },
  {
   "cell_type": "code",
   "execution_count": 43,
   "id": "d6239e36",
   "metadata": {},
   "outputs": [
    {
     "name": "stdout",
     "output_type": "stream",
     "text": [
      "Fitting 5 folds for each of 8 candidates, totalling 40 fits\n",
      "The best estimators: LinearRegression(normalize=True)\n",
      "The best score: 0.8517266552462008\n",
      "The best parameters: {'copy_X': True, 'fit_intercept': True, 'normalize': True}\n"
     ]
    }
   ],
   "source": [
    "#Hyperparameter tuning for Linear Regression\n",
    "\n",
    "par_grid =  {'fit_intercept':[True,False], 'normalize':[True,False], 'copy_X':[True, False]}\n",
    "grid_lm = GridSearchCV(estimator=lm, param_grid=par_grid, cv=5,n_jobs=1, verbose=1)\n",
    "\n",
    "grid_lm.fit(x_train, y_train)\n",
    "print(\"The best estimators:\", grid_lm.best_estimator_)\n",
    "print(\"The best score:\", grid_lm.best_score_)\n",
    "print(\"The best parameters:\", grid_lm.best_params_)\n"
   ]
  },
  {
   "cell_type": "code",
   "execution_count": 44,
   "id": "81faa767",
   "metadata": {},
   "outputs": [
    {
     "name": "stdout",
     "output_type": "stream",
     "text": [
      "The r2 score is: 0.9358346827439896\n",
      "The mean absolute error 1.0293867863083983\n",
      "The mean squared error 1.5796296226361297\n",
      "The cross validation score 0.8857739370001966\n"
     ]
    }
   ],
   "source": [
    "#RE INSTANTIATING WITH BEST PARAMETERS\n",
    "\n",
    "grid_lm = LinearRegression(copy_X=True, fit_intercept=True, normalize=True)\n",
    "grid_lm.fit(x_train, y_train)\n",
    "y_pred1 = lm.predict(x_test)\n",
    "\n",
    "print('The r2 score is:', r2_score(y_test, y_pred1))\n",
    "print('The mean absolute error', mean_absolute_error(y_test, y_pred1))\n",
    "print('The mean squared error', mean_squared_error(y_test, y_pred1))\n",
    "cv = cross_val_score(grid_lm, x,y,cv=5)\n",
    "print('The cross validation score', cv.mean())"
   ]
  },
  {
   "cell_type": "code",
   "execution_count": 45,
   "id": "ee46e24c",
   "metadata": {},
   "outputs": [
    {
     "data": {
      "text/plain": [
       "Lasso()"
      ]
     },
     "execution_count": 45,
     "metadata": {},
     "output_type": "execute_result"
    }
   ],
   "source": [
    "#Lasso Regularization\n",
    "\n",
    "ls = Lasso()\n",
    "ls.fit(x_train,y_train)"
   ]
  },
  {
   "cell_type": "code",
   "execution_count": 46,
   "id": "b6d39247",
   "metadata": {},
   "outputs": [
    {
     "name": "stdout",
     "output_type": "stream",
     "text": [
      "The r2 score is: 0.18088286896217554\n",
      "The mean absolute error 3.7833304778511203\n",
      "The mean squared error 20.16512564620518\n",
      "The cross validation score 0.1545277837938553\n"
     ]
    }
   ],
   "source": [
    "pred = ls.predict(x_test)\n",
    "print('The r2 score is:', r2_score(y_test, pred))\n",
    "print('The mean absolute error', mean_absolute_error(y_test, pred))\n",
    "print('The mean squared error', mean_squared_error(y_test, pred))\n",
    "cv = cross_val_score(ls, x,y,cv=5)\n",
    "print('The cross validation score', cv.mean())"
   ]
  },
  {
   "cell_type": "code",
   "execution_count": 47,
   "id": "cdd0f583",
   "metadata": {},
   "outputs": [
    {
     "name": "stdout",
     "output_type": "stream",
     "text": [
      "Fitting 5 folds for each of 100 candidates, totalling 500 fits\n",
      "The best estimators: Lasso(alpha=0.0031)\n",
      "The r2 score is: 0.9358245007480164\n",
      "The best score: 0.8517410052751115\n"
     ]
    }
   ],
   "source": [
    "#Lasso has very less score and high error. applying GridsearchCV to improve accuracy\n",
    "\n",
    "param = {'alpha': np.arange(0.0001,0.1,0.001)}\n",
    "grid_ls= GridSearchCV(estimator=ls,param_grid=param,n_jobs=2,cv=5,verbose=2)\n",
    "\n",
    "grid_ls.fit(x_train,y_train)\n",
    "pred1 = grid_ls.predict(x_test)\n",
    "print(\"The best estimators:\", grid_ls.best_estimator_)\n",
    "print('The r2 score is:', r2_score(y_test, pred1))\n",
    "print(\"The best score:\", grid_ls.best_score_)"
   ]
  },
  {
   "cell_type": "code",
   "execution_count": 48,
   "id": "22c36127",
   "metadata": {},
   "outputs": [
    {
     "name": "stdout",
     "output_type": "stream",
     "text": [
      "The r2 score is: 0.9358245007480164\n",
      "The mean absolute error 1.0287032030020764\n",
      "The mean squared error 1.5798802842574635\n",
      "The cross validation score 0.8860921613522178\n"
     ]
    }
   ],
   "source": [
    "#RE INSTANTIATING WITH BEST PARAMETERS\n",
    "\n",
    "ls = Lasso(alpha=0.0031)\n",
    "ls.fit(x_train,y_train)\n",
    "pred = ls.predict(x_test)\n",
    "print('The r2 score is:', r2_score(y_test, pred))\n",
    "print('The mean absolute error', mean_absolute_error(y_test, pred))\n",
    "print('The mean squared error', mean_squared_error(y_test, pred))\n",
    "cv = cross_val_score(ls, x,y,cv=5)\n",
    "print('The cross validation score', cv.mean())"
   ]
  },
  {
   "cell_type": "markdown",
   "id": "5ca51763",
   "metadata": {},
   "source": [
    "We have improved the score very high"
   ]
  },
  {
   "cell_type": "code",
   "execution_count": 49,
   "id": "507b6440",
   "metadata": {},
   "outputs": [
    {
     "name": "stdout",
     "output_type": "stream",
     "text": [
      "The r2 score is: 0.9418441969804539\n",
      "The mean absolute error 0.8663333333333334\n",
      "The mean squared error 1.4316866666666663\n",
      "The cross validation score 0.9407052322824345\n"
     ]
    }
   ],
   "source": [
    "#KNN Algorithm\n",
    "\n",
    "knn = KNeighborsRegressor()\n",
    "knn.fit(x_train,y_train)\n",
    "y_pred = knn.predict(x_test)\n",
    "\n",
    "print('The r2 score is:', r2_score(y_test, y_pred))\n",
    "print('The mean absolute error', mean_absolute_error(y_test, y_pred))\n",
    "print('The mean squared error', mean_squared_error(y_test, y_pred))\n",
    "cv = cross_val_score(knn, x,y,cv=5)\n",
    "print('The cross validation score', cv.mean())"
   ]
  },
  {
   "cell_type": "code",
   "execution_count": 50,
   "id": "3b52ee7e",
   "metadata": {},
   "outputs": [
    {
     "name": "stdout",
     "output_type": "stream",
     "text": [
      "The best estimators: KNeighborsRegressor(algorithm='kd_tree', n_neighbors=4)\n",
      "The r2 score is: 0.9402616568372621\n",
      "The best score: 0.9294748034132223\n"
     ]
    }
   ],
   "source": [
    "#applying GridsearchCV to improve accuracy\n",
    "\n",
    "param = {'algorithm':['kd_tree'], \n",
    "         'n_neighbors':[3,2,4,6,8,10,14,7,11]}\n",
    "grid_knn = GridSearchCV(estimator=knn, param_grid=param)\n",
    "grid_knn.fit(x_train,y_train)\n",
    "\n",
    "grid_knn.fit(x_train,y_train)\n",
    "\n",
    "pred1 = grid_knn.predict(x_test)\n",
    "\n",
    "print(\"The best estimators:\", grid_knn.best_estimator_)\n",
    "print('The r2 score is:', r2_score(y_test, pred1))\n",
    "print(\"The best score:\", grid_knn.best_score_)"
   ]
  },
  {
   "cell_type": "code",
   "execution_count": 51,
   "id": "f6dc5037",
   "metadata": {},
   "outputs": [
    {
     "name": "stdout",
     "output_type": "stream",
     "text": [
      "The r2 score is: 0.9658293474861113\n",
      "The mean absolute error 0.7513333333333326\n",
      "The mean squared error 0.8412172999999981\n",
      "The cross validation score 0.9761350783924968\n"
     ]
    }
   ],
   "source": [
    "#Random Forest Regressor\n",
    "\n",
    "rdf = RandomForestRegressor()\n",
    "rdf.fit(x_train,y_train)\n",
    "y_pred = rdf.predict(x_test)\n",
    "\n",
    "print('The r2 score is:', r2_score(y_test, y_pred))\n",
    "print('The mean absolute error', mean_absolute_error(y_test, y_pred))\n",
    "print('The mean squared error', mean_squared_error(y_test, y_pred))\n",
    "cv = cross_val_score(rdf, x,y,cv=5)\n",
    "print('The cross validation score', cv.mean())"
   ]
  },
  {
   "cell_type": "code",
   "execution_count": 52,
   "id": "6e693715",
   "metadata": {},
   "outputs": [
    {
     "name": "stdout",
     "output_type": "stream",
     "text": [
      "R2_score: 0.9388708730222921\n",
      "The cross validation score 0.91278463451271\n"
     ]
    }
   ],
   "source": [
    "#Support vector Regressor\n",
    "\n",
    "svr=SVR()\n",
    "svr.fit(x_train,y_train)\n",
    "pred=svr.predict(x_test)\n",
    "print('R2_score:',r2_score(y_test,pred))\n",
    "cv = cross_val_score(svr, x,y,cv=5)\n",
    "print('The cross validation score', cv.mean())"
   ]
  },
  {
   "cell_type": "code",
   "execution_count": 53,
   "id": "49f512a4",
   "metadata": {},
   "outputs": [
    {
     "name": "stdout",
     "output_type": "stream",
     "text": [
      "R2_score: 0.9207050977076704\n",
      "The cross validation score 0.882865406137137\n"
     ]
    }
   ],
   "source": [
    "#SGD Regressor\n",
    "\n",
    "sgd=SGDRegressor()\n",
    "sgd.fit(x_train,y_train)\n",
    "pred=sgd.predict(x_test)\n",
    "print('R2_score:',r2_score(y_test,pred))\n",
    "cv = cross_val_score(sgd, x,y,cv=5)\n",
    "print('The cross validation score', cv.mean())"
   ]
  },
  {
   "cell_type": "markdown",
   "id": "7c8a1f5b",
   "metadata": {},
   "source": [
    "# From above we can see that Random Forest Regressor has the best R2 score (97.06) and CV Score(97.55) and both are equal. So we can take random forest regressor as our final model."
   ]
  },
  {
   "cell_type": "code",
   "execution_count": 54,
   "id": "e5d41688",
   "metadata": {},
   "outputs": [
    {
     "name": "stdout",
     "output_type": "stream",
     "text": [
      "The max accuracy is 0.9878752381948184 seen for random state: 99\n"
     ]
    }
   ],
   "source": [
    "#Selecting the best random state to get maximum accuracy.\n",
    "max_acc=0\n",
    "max_RS=0\n",
    "for i in range(1,100):\n",
    "    x_train, x_test, y_train, y_test = train_test_split(x, y, test_size=0.30, random_state=i)\n",
    "    rf = RandomForestRegressor()\n",
    "    rf.fit(x_train,y_train)\n",
    "    pred = rf.predict(x_test)\n",
    "    acc = r2_score(y_test, pred)\n",
    "    if acc > max_acc:\n",
    "        max_acc= acc\n",
    "        max_RS=i\n",
    "print(\"The max accuracy is\",max_acc, 'seen for random state:',i)"
   ]
  },
  {
   "cell_type": "code",
   "execution_count": 55,
   "id": "b9d3fbd1",
   "metadata": {},
   "outputs": [],
   "source": [
    "x_train, x_test, y_train, y_test = train_test_split(x, y, test_size=0.30, random_state=max_RS)"
   ]
  },
  {
   "cell_type": "code",
   "execution_count": 56,
   "id": "9e2d7800",
   "metadata": {},
   "outputs": [
    {
     "name": "stdout",
     "output_type": "stream",
     "text": [
      "Fitting 3 folds for each of 288 candidates, totalling 864 fits\n",
      "The best estimators: RandomForestRegressor(max_depth=90, max_features=3, min_samples_leaf=3,\n",
      "                      min_samples_split=8, n_estimators=200)\n",
      "The r2 score is: 0.9796281857439498\n",
      "The best score: 0.941437480618765\n"
     ]
    }
   ],
   "source": [
    "#hyperparameter tuning for RandomForest regressor\n",
    "\n",
    "param_grid = {\n",
    "    'bootstrap': [True],\n",
    "    'max_depth': [80, 90, 100, 110],\n",
    "    'max_features': [2, 3],\n",
    "    'min_samples_leaf': [3, 4, 5],\n",
    "    'min_samples_split': [8, 10, 12],\n",
    "    'n_estimators': [100, 200, 300, 1000]}\n",
    "\n",
    "grid_search = GridSearchCV(estimator = rf, param_grid = param_grid, cv = 3, n_jobs = -1, verbose = 2)\n",
    "grid_search.fit(x_train, y_train)\n",
    "pred1 = grid_search.predict(x_test)\n",
    "\n",
    "print(\"The best estimators:\", grid_search.best_estimator_)\n",
    "print('The r2 score is:', r2_score(y_test, pred1))\n",
    "print(\"The best score:\", grid_search.best_score_)\n"
   ]
  },
  {
   "cell_type": "code",
   "execution_count": 59,
   "id": "60eca023",
   "metadata": {},
   "outputs": [
    {
     "name": "stdout",
     "output_type": "stream",
     "text": [
      "The r2 score is: 97.98007211977274\n",
      "The mean absolute error 5.393533333333336\n",
      "The mean squared error 47.02744063333336\n",
      "The cross validation score 97.66792366806321\n"
     ]
    }
   ],
   "source": [
    "Final_Model=RandomForestRegressor(max_depth=90, max_features=3, min_samples_leaf=3,min_samples_split=8, n_estimators=200)\n",
    "Final_Model.fit(x_train,y_train)\n",
    "pred=Final_Model.predict(x_test)\n",
    "acc= r2_score(y_test,pred)\n",
    "print('The r2 score is:', acc*100)\n",
    "print('The mean absolute error', mean_absolute_error(y_test, y_pred))\n",
    "print('The mean squared error', mean_squared_error(y_test, y_pred))\n",
    "cv = cross_val_score(rdf, x,y,cv=5)\n",
    "print('The cross validation score', (cv.mean()*100))"
   ]
  },
  {
   "cell_type": "markdown",
   "id": "3ac7b9f9",
   "metadata": {},
   "source": [
    "# 5-Saving the Model for forecasting"
   ]
  },
  {
   "cell_type": "code",
   "execution_count": 60,
   "id": "d38bc98a",
   "metadata": {},
   "outputs": [
    {
     "data": {
      "text/plain": [
       "['Advertisement_Sales_Channel_Prediction.pkl']"
      ]
     },
     "execution_count": 60,
     "metadata": {},
     "output_type": "execute_result"
    }
   ],
   "source": [
    "import joblib\n",
    "joblib.dump(Final_Model,\"Advertisement_Sales_Channel_Prediction.pkl\")"
   ]
  },
  {
   "cell_type": "code",
   "execution_count": 61,
   "id": "95e05758",
   "metadata": {},
   "outputs": [
    {
     "data": {
      "text/plain": [
       "<AxesSubplot:>"
      ]
     },
     "execution_count": 61,
     "metadata": {},
     "output_type": "execute_result"
    },
    {
     "data": {
      "image/png": "[encoded data removed]",
      "text/plain": [
       "<Figure size 432x432 with 1 Axes>"
      ]
     },
     "metadata": {
      "needs_background": "light"
     },
     "output_type": "display_data"
    }
   ],
   "source": [
    "feat_importances = pd.Series(Final_Model.feature_importances_, index=x.columns)\n",
    "feat_importances.nlargest(100).plot(kind='barh',figsize=(6,6))"
   ]
  }
 ],
 "metadata": {
  "kernelspec": {
   "display_name": "Python 3",
   "language": "python",
   "name": "python3"
  },
  "language_info": {
   "codemirror_mode": {
    "name": "ipython",
    "version": 3
   },
   "file_extension": ".py",
   "mimetype": "text/x-python",
   "name": "python",
   "nbconvert_exporter": "python",
   "pygments_lexer": "ipython3",
   "version": "3.8.8"
  }
 },
 "nbformat": 4,
 "nbformat_minor": 5
}
