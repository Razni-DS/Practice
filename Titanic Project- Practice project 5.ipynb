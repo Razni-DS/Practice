{
 "cells": [
  {
   "cell_type": "markdown",
   "id": "fcf3526d",
   "metadata": {},
   "source": [
    "# Titanic Project"
   ]
  },
  {
   "cell_type": "markdown",
   "id": "6fc8a28e",
   "metadata": {},
   "source": [
    "# Problem Statement:"
   ]
  },
  {
   "cell_type": "markdown",
   "id": "3d5f5eaa",
   "metadata": {},
   "source": [
    "The sinking of the Titanic is one of the most infamous shipwrecks in history.\n",
    "\n",
    "On April 15, 1912, during her maiden voyage, the widely considered “unsinkable” RMS Titanic sank after colliding with an iceberg. Unfortunately, there weren’t enough lifeboats for everyone onboard, resulting in the death of 1502 out of 2224 passengers and crew.\n",
    "\n",
    "While there was some element of luck involved in surviving, it seems some groups of people were more likely to survive than others.\n",
    "\n",
    "In this challenge, I try to build a predictive model that answers the question: “what sorts of people were more likely to survive?” using passenger data (ie name, age, gender, socio-economic class, etc)."
   ]
  },
  {
   "cell_type": "markdown",
   "id": "f6dd234f",
   "metadata": {},
   "source": [
    "# Loading the DataSet and Importing Libraries"
   ]
  },
  {
   "cell_type": "code",
   "execution_count": 1,
   "id": "60b80a68",
   "metadata": {},
   "outputs": [],
   "source": [
    "import pandas as pd\n",
    "import numpy as np\n",
    "import seaborn as sns\n",
    "import matplotlib.pyplot as plt\n",
    "import warnings\n",
    "warnings.filterwarnings('ignore')"
   ]
  },
  {
   "cell_type": "code",
   "execution_count": 2,
   "id": "66878d5a",
   "metadata": {},
   "outputs": [
    {
     "data": {
      "text/html": [
       "<div>\n",
       "<style scoped>\n",
       "    .dataframe tbody tr th:only-of-type {\n",
       "        vertical-align: middle;\n",
       "    }\n",
       "\n",
       "    .dataframe tbody tr th {\n",
       "        vertical-align: top;\n",
       "    }\n",
       "\n",
       "    .dataframe thead th {\n",
       "        text-align: right;\n",
       "    }\n",
       "</style>\n",
       "<table border=\"1\" class=\"dataframe\">\n",
       "  <thead>\n",
       "    <tr style=\"text-align: right;\">\n",
       "      <th></th>\n",
       "      <th>PassengerId</th>\n",
       "      <th>Survived</th>\n",
       "      <th>Pclass</th>\n",
       "      <th>Name</th>\n",
       "      <th>Sex</th>\n",
       "      <th>Age</th>\n",
       "      <th>SibSp</th>\n",
       "      <th>Parch</th>\n",
       "      <th>Ticket</th>\n",
       "      <th>Fare</th>\n",
       "      <th>Cabin</th>\n",
       "      <th>Embarked</th>\n",
       "    </tr>\n",
       "  </thead>\n",
       "  <tbody>\n",
       "    <tr>\n",
       "      <th>0</th>\n",
       "      <td>1</td>\n",
       "      <td>0</td>\n",
       "      <td>3</td>\n",
       "      <td>Braund, Mr. Owen Harris</td>\n",
       "      <td>male</td>\n",
       "      <td>22.0</td>\n",
       "      <td>1</td>\n",
       "      <td>0</td>\n",
       "      <td>A/5 21171</td>\n",
       "      <td>7.2500</td>\n",
       "      <td>NaN</td>\n",
       "      <td>S</td>\n",
       "    </tr>\n",
       "    <tr>\n",
       "      <th>1</th>\n",
       "      <td>2</td>\n",
       "      <td>1</td>\n",
       "      <td>1</td>\n",
       "      <td>Cumings, Mrs. John Bradley (Florence Briggs Th...</td>\n",
       "      <td>female</td>\n",
       "      <td>38.0</td>\n",
       "      <td>1</td>\n",
       "      <td>0</td>\n",
       "      <td>PC 17599</td>\n",
       "      <td>71.2833</td>\n",
       "      <td>C85</td>\n",
       "      <td>C</td>\n",
       "    </tr>\n",
       "    <tr>\n",
       "      <th>2</th>\n",
       "      <td>3</td>\n",
       "      <td>1</td>\n",
       "      <td>3</td>\n",
       "      <td>Heikkinen, Miss. Laina</td>\n",
       "      <td>female</td>\n",
       "      <td>26.0</td>\n",
       "      <td>0</td>\n",
       "      <td>0</td>\n",
       "      <td>STON/O2. 3101282</td>\n",
       "      <td>7.9250</td>\n",
       "      <td>NaN</td>\n",
       "      <td>S</td>\n",
       "    </tr>\n",
       "    <tr>\n",
       "      <th>3</th>\n",
       "      <td>4</td>\n",
       "      <td>1</td>\n",
       "      <td>1</td>\n",
       "      <td>Futrelle, Mrs. Jacques Heath (Lily May Peel)</td>\n",
       "      <td>female</td>\n",
       "      <td>35.0</td>\n",
       "      <td>1</td>\n",
       "      <td>0</td>\n",
       "      <td>113803</td>\n",
       "      <td>53.1000</td>\n",
       "      <td>C123</td>\n",
       "      <td>S</td>\n",
       "    </tr>\n",
       "    <tr>\n",
       "      <th>4</th>\n",
       "      <td>5</td>\n",
       "      <td>0</td>\n",
       "      <td>3</td>\n",
       "      <td>Allen, Mr. William Henry</td>\n",
       "      <td>male</td>\n",
       "      <td>35.0</td>\n",
       "      <td>0</td>\n",
       "      <td>0</td>\n",
       "      <td>373450</td>\n",
       "      <td>8.0500</td>\n",
       "      <td>NaN</td>\n",
       "      <td>S</td>\n",
       "    </tr>\n",
       "    <tr>\n",
       "      <th>...</th>\n",
       "      <td>...</td>\n",
       "      <td>...</td>\n",
       "      <td>...</td>\n",
       "      <td>...</td>\n",
       "      <td>...</td>\n",
       "      <td>...</td>\n",
       "      <td>...</td>\n",
       "      <td>...</td>\n",
       "      <td>...</td>\n",
       "      <td>...</td>\n",
       "      <td>...</td>\n",
       "      <td>...</td>\n",
       "    </tr>\n",
       "    <tr>\n",
       "      <th>886</th>\n",
       "      <td>887</td>\n",
       "      <td>0</td>\n",
       "      <td>2</td>\n",
       "      <td>Montvila, Rev. Juozas</td>\n",
       "      <td>male</td>\n",
       "      <td>27.0</td>\n",
       "      <td>0</td>\n",
       "      <td>0</td>\n",
       "      <td>211536</td>\n",
       "      <td>13.0000</td>\n",
       "      <td>NaN</td>\n",
       "      <td>S</td>\n",
       "    </tr>\n",
       "    <tr>\n",
       "      <th>887</th>\n",
       "      <td>888</td>\n",
       "      <td>1</td>\n",
       "      <td>1</td>\n",
       "      <td>Graham, Miss. Margaret Edith</td>\n",
       "      <td>female</td>\n",
       "      <td>19.0</td>\n",
       "      <td>0</td>\n",
       "      <td>0</td>\n",
       "      <td>112053</td>\n",
       "      <td>30.0000</td>\n",
       "      <td>B42</td>\n",
       "      <td>S</td>\n",
       "    </tr>\n",
       "    <tr>\n",
       "      <th>888</th>\n",
       "      <td>889</td>\n",
       "      <td>0</td>\n",
       "      <td>3</td>\n",
       "      <td>Johnston, Miss. Catherine Helen \"Carrie\"</td>\n",
       "      <td>female</td>\n",
       "      <td>NaN</td>\n",
       "      <td>1</td>\n",
       "      <td>2</td>\n",
       "      <td>W./C. 6607</td>\n",
       "      <td>23.4500</td>\n",
       "      <td>NaN</td>\n",
       "      <td>S</td>\n",
       "    </tr>\n",
       "    <tr>\n",
       "      <th>889</th>\n",
       "      <td>890</td>\n",
       "      <td>1</td>\n",
       "      <td>1</td>\n",
       "      <td>Behr, Mr. Karl Howell</td>\n",
       "      <td>male</td>\n",
       "      <td>26.0</td>\n",
       "      <td>0</td>\n",
       "      <td>0</td>\n",
       "      <td>111369</td>\n",
       "      <td>30.0000</td>\n",
       "      <td>C148</td>\n",
       "      <td>C</td>\n",
       "    </tr>\n",
       "    <tr>\n",
       "      <th>890</th>\n",
       "      <td>891</td>\n",
       "      <td>0</td>\n",
       "      <td>3</td>\n",
       "      <td>Dooley, Mr. Patrick</td>\n",
       "      <td>male</td>\n",
       "      <td>32.0</td>\n",
       "      <td>0</td>\n",
       "      <td>0</td>\n",
       "      <td>370376</td>\n",
       "      <td>7.7500</td>\n",
       "      <td>NaN</td>\n",
       "      <td>Q</td>\n",
       "    </tr>\n",
       "  </tbody>\n",
       "</table>\n",
       "<p>891 rows × 12 columns</p>\n",
       "</div>"
      ],
      "text/plain": [
       "     PassengerId  Survived  Pclass  \\\n",
       "0              1         0       3   \n",
       "1              2         1       1   \n",
       "2              3         1       3   \n",
       "3              4         1       1   \n",
       "4              5         0       3   \n",
       "..           ...       ...     ...   \n",
       "886          887         0       2   \n",
       "887          888         1       1   \n",
       "888          889         0       3   \n",
       "889          890         1       1   \n",
       "890          891         0       3   \n",
       "\n",
       "                                                  Name     Sex   Age  SibSp  \\\n",
       "0                              Braund, Mr. Owen Harris    male  22.0      1   \n",
       "1    Cumings, Mrs. John Bradley (Florence Briggs Th...  female  38.0      1   \n",
       "2                               Heikkinen, Miss. Laina  female  26.0      0   \n",
       "3         Futrelle, Mrs. Jacques Heath (Lily May Peel)  female  35.0      1   \n",
       "4                             Allen, Mr. William Henry    male  35.0      0   \n",
       "..                                                 ...     ...   ...    ...   \n",
       "886                              Montvila, Rev. Juozas    male  27.0      0   \n",
       "887                       Graham, Miss. Margaret Edith  female  19.0      0   \n",
       "888           Johnston, Miss. Catherine Helen \"Carrie\"  female   NaN      1   \n",
       "889                              Behr, Mr. Karl Howell    male  26.0      0   \n",
       "890                                Dooley, Mr. Patrick    male  32.0      0   \n",
       "\n",
       "     Parch            Ticket     Fare Cabin Embarked  \n",
       "0        0         A/5 21171   7.2500   NaN        S  \n",
       "1        0          PC 17599  71.2833   C85        C  \n",
       "2        0  STON/O2. 3101282   7.9250   NaN        S  \n",
       "3        0            113803  53.1000  C123        S  \n",
       "4        0            373450   8.0500   NaN        S  \n",
       "..     ...               ...      ...   ...      ...  \n",
       "886      0            211536  13.0000   NaN        S  \n",
       "887      0            112053  30.0000   B42        S  \n",
       "888      2        W./C. 6607  23.4500   NaN        S  \n",
       "889      0            111369  30.0000  C148        C  \n",
       "890      0            370376   7.7500   NaN        Q  \n",
       "\n",
       "[891 rows x 12 columns]"
      ]
     },
     "execution_count": 2,
     "metadata": {},
     "output_type": "execute_result"
    }
   ],
   "source": [
    "df=pd.read_csv(\"Titanic_train.csv\")\n",
    "df"
   ]
  },
  {
   "cell_type": "markdown",
   "id": "de50d03b",
   "metadata": {},
   "source": [
    "Above is the training dataset of the titanic survival problem. It has 891 rows (number of passengers), and 12 columns (data about the passenger) including the target variable “Survived”."
   ]
  },
  {
   "cell_type": "code",
   "execution_count": 3,
   "id": "de4c202f",
   "metadata": {},
   "outputs": [
    {
     "data": {
      "text/plain": [
       "Index(['PassengerId', 'Survived', 'Pclass', 'Name', 'Sex', 'Age', 'SibSp',\n",
       "       'Parch', 'Ticket', 'Fare', 'Cabin', 'Embarked'],\n",
       "      dtype='object')"
      ]
     },
     "execution_count": 3,
     "metadata": {},
     "output_type": "execute_result"
    }
   ],
   "source": [
    "df.columns"
   ]
  },
  {
   "cell_type": "markdown",
   "id": "2ebc63d2",
   "metadata": {},
   "source": [
    "# Variable Description"
   ]
  },
  {
   "cell_type": "markdown",
   "id": "d7119390",
   "metadata": {},
   "source": [
    "* Passenger ID : It is the unique id given to each passenger from 1-891\n",
    "* Survived-  0 = No, 1 = Yes \n",
    "* Pclas- Ticket class 1 = 1st, 2 = 2nd, 3 = 3rd\n",
    "  Variable Notes pclass: A proxy for socio-economic status (SES)\n",
    "  1st = Upper, 2nd = Middle, 3rd = Lower\n",
    "* Name : Name of the Passenger\n",
    "* Sex- Sex of the passengers\n",
    "* Age- Age in years\n",
    "  Age: Age is fractional if less than 1. If the age is estimated, is it in the form of xx.5\n",
    "* Sibsp- # of siblings / spouses aboard the Titanic. \n",
    "  The dataset defines family relations in this way… \n",
    "  Sibling = brother, sister, stepbrother, stepsister.  \n",
    "  Spouse =husband, wife (mistresses and fiancés were ignored).\n",
    "* Parch- # of parents / children aboard the Titanic. \n",
    "  The dataset defines family relations in this way… \n",
    "  Parent = mother, father. \n",
    "  Child = daughter, son, stepdaughter, stepson.  \n",
    "  Some children travelled only with a nanny, therefore parch=0 for them. \n",
    "* Ticket- Ticket number\n",
    "* Fare- Passenger fare\n",
    "* Cabin- Cabin number\n",
    "* embarked-\n",
    "  Port of Embarkation: \n",
    "  C = Cherbourg, Q = Queenstown, S = Southampton "
   ]
  },
  {
   "cell_type": "code",
   "execution_count": 4,
   "id": "6128b652",
   "metadata": {},
   "outputs": [
    {
     "name": "stdout",
     "output_type": "stream",
     "text": [
      "<class 'pandas.core.frame.DataFrame'>\n",
      "RangeIndex: 891 entries, 0 to 890\n",
      "Data columns (total 12 columns):\n",
      " #   Column       Non-Null Count  Dtype  \n",
      "---  ------       --------------  -----  \n",
      " 0   PassengerId  891 non-null    int64  \n",
      " 1   Survived     891 non-null    int64  \n",
      " 2   Pclass       891 non-null    int64  \n",
      " 3   Name         891 non-null    object \n",
      " 4   Sex          891 non-null    object \n",
      " 5   Age          714 non-null    float64\n",
      " 6   SibSp        891 non-null    int64  \n",
      " 7   Parch        891 non-null    int64  \n",
      " 8   Ticket       891 non-null    object \n",
      " 9   Fare         891 non-null    float64\n",
      " 10  Cabin        204 non-null    object \n",
      " 11  Embarked     889 non-null    object \n",
      "dtypes: float64(2), int64(5), object(5)\n",
      "memory usage: 83.7+ KB\n"
     ]
    }
   ],
   "source": [
    "df.info()"
   ]
  },
  {
   "cell_type": "code",
   "execution_count": 5,
   "id": "3c518f9a",
   "metadata": {},
   "outputs": [
    {
     "data": {
      "text/plain": [
       "PassengerId      0\n",
       "Survived         0\n",
       "Pclass           0\n",
       "Name             0\n",
       "Sex              0\n",
       "Age            177\n",
       "SibSp            0\n",
       "Parch            0\n",
       "Ticket           0\n",
       "Fare             0\n",
       "Cabin          687\n",
       "Embarked         2\n",
       "dtype: int64"
      ]
     },
     "execution_count": 5,
     "metadata": {},
     "output_type": "execute_result"
    }
   ],
   "source": [
    "df.isnull().sum()"
   ]
  },
  {
   "cell_type": "markdown",
   "id": "43f7cd31",
   "metadata": {},
   "source": [
    "The columns having null values are: Age, Cabin, Embarked. They need to be filled up with appropriate values later on."
   ]
  },
  {
   "cell_type": "code",
   "execution_count": 6,
   "id": "a7e39eef",
   "metadata": {},
   "outputs": [
    {
     "data": {
      "text/plain": [
       "<AxesSubplot:>"
      ]
     },
     "execution_count": 6,
     "metadata": {},
     "output_type": "execute_result"
    },
    {
     "data": {
      "image/png": "[encoded data removed]",
      "text/plain": [
       "<Figure size 432x288 with 1 Axes>"
      ]
     },
     "metadata": {
      "needs_background": "light"
     },
     "output_type": "display_data"
    }
   ],
   "source": [
    "sns.heatmap(df.isnull(),yticklabels=False,cbar=False,cmap='viridis')"
   ]
  },
  {
   "cell_type": "markdown",
   "id": "198ccd68",
   "metadata": {},
   "source": [
    "As we can see from the diagram the column ‘Age’ and ‘Cabin’ have got null values. While ‘Cabin’ has huge amount null values, ‘Age’ has moderate amount of null values. Since Embarked has only 2 missing values its not clearly visible in the heatmap.\n",
    "Here we would drop the ‘Cabin’ column as it has got mostly NULL values."
   ]
  },
  {
   "cell_type": "code",
   "execution_count": 7,
   "id": "71ba1920",
   "metadata": {},
   "outputs": [
    {
     "data": {
      "text/plain": [
       "0    549\n",
       "1    342\n",
       "Name: Survived, dtype: int64"
      ]
     },
     "execution_count": 7,
     "metadata": {},
     "output_type": "execute_result"
    }
   ],
   "source": [
    "#Checking the Survived data\n",
    "\n",
    "df['Survived'].value_counts()"
   ]
  },
  {
   "cell_type": "markdown",
   "id": "68082392",
   "metadata": {},
   "source": [
    "There are 891 datas and no empty values and missing values present in survived(target) column"
   ]
  },
  {
   "cell_type": "markdown",
   "id": "30280dd1",
   "metadata": {},
   "source": [
    "# Data Description"
   ]
  },
  {
   "cell_type": "code",
   "execution_count": 8,
   "id": "f75dc886",
   "metadata": {},
   "outputs": [
    {
     "data": {
      "text/html": [
       "<div>\n",
       "<style scoped>\n",
       "    .dataframe tbody tr th:only-of-type {\n",
       "        vertical-align: middle;\n",
       "    }\n",
       "\n",
       "    .dataframe tbody tr th {\n",
       "        vertical-align: top;\n",
       "    }\n",
       "\n",
       "    .dataframe thead th {\n",
       "        text-align: right;\n",
       "    }\n",
       "</style>\n",
       "<table border=\"1\" class=\"dataframe\">\n",
       "  <thead>\n",
       "    <tr style=\"text-align: right;\">\n",
       "      <th></th>\n",
       "      <th>PassengerId</th>\n",
       "      <th>Survived</th>\n",
       "      <th>Pclass</th>\n",
       "      <th>Age</th>\n",
       "      <th>SibSp</th>\n",
       "      <th>Parch</th>\n",
       "      <th>Fare</th>\n",
       "    </tr>\n",
       "  </thead>\n",
       "  <tbody>\n",
       "    <tr>\n",
       "      <th>count</th>\n",
       "      <td>891.000000</td>\n",
       "      <td>891.000000</td>\n",
       "      <td>891.000000</td>\n",
       "      <td>714.000000</td>\n",
       "      <td>891.000000</td>\n",
       "      <td>891.000000</td>\n",
       "      <td>891.000000</td>\n",
       "    </tr>\n",
       "    <tr>\n",
       "      <th>mean</th>\n",
       "      <td>446.000000</td>\n",
       "      <td>0.383838</td>\n",
       "      <td>2.308642</td>\n",
       "      <td>29.699118</td>\n",
       "      <td>0.523008</td>\n",
       "      <td>0.381594</td>\n",
       "      <td>32.204208</td>\n",
       "    </tr>\n",
       "    <tr>\n",
       "      <th>std</th>\n",
       "      <td>257.353842</td>\n",
       "      <td>0.486592</td>\n",
       "      <td>0.836071</td>\n",
       "      <td>14.526497</td>\n",
       "      <td>1.102743</td>\n",
       "      <td>0.806057</td>\n",
       "      <td>49.693429</td>\n",
       "    </tr>\n",
       "    <tr>\n",
       "      <th>min</th>\n",
       "      <td>1.000000</td>\n",
       "      <td>0.000000</td>\n",
       "      <td>1.000000</td>\n",
       "      <td>0.420000</td>\n",
       "      <td>0.000000</td>\n",
       "      <td>0.000000</td>\n",
       "      <td>0.000000</td>\n",
       "    </tr>\n",
       "    <tr>\n",
       "      <th>25%</th>\n",
       "      <td>223.500000</td>\n",
       "      <td>0.000000</td>\n",
       "      <td>2.000000</td>\n",
       "      <td>20.125000</td>\n",
       "      <td>0.000000</td>\n",
       "      <td>0.000000</td>\n",
       "      <td>7.910400</td>\n",
       "    </tr>\n",
       "    <tr>\n",
       "      <th>50%</th>\n",
       "      <td>446.000000</td>\n",
       "      <td>0.000000</td>\n",
       "      <td>3.000000</td>\n",
       "      <td>28.000000</td>\n",
       "      <td>0.000000</td>\n",
       "      <td>0.000000</td>\n",
       "      <td>14.454200</td>\n",
       "    </tr>\n",
       "    <tr>\n",
       "      <th>75%</th>\n",
       "      <td>668.500000</td>\n",
       "      <td>1.000000</td>\n",
       "      <td>3.000000</td>\n",
       "      <td>38.000000</td>\n",
       "      <td>1.000000</td>\n",
       "      <td>0.000000</td>\n",
       "      <td>31.000000</td>\n",
       "    </tr>\n",
       "    <tr>\n",
       "      <th>max</th>\n",
       "      <td>891.000000</td>\n",
       "      <td>1.000000</td>\n",
       "      <td>3.000000</td>\n",
       "      <td>80.000000</td>\n",
       "      <td>8.000000</td>\n",
       "      <td>6.000000</td>\n",
       "      <td>512.329200</td>\n",
       "    </tr>\n",
       "  </tbody>\n",
       "</table>\n",
       "</div>"
      ],
      "text/plain": [
       "       PassengerId    Survived      Pclass         Age       SibSp  \\\n",
       "count   891.000000  891.000000  891.000000  714.000000  891.000000   \n",
       "mean    446.000000    0.383838    2.308642   29.699118    0.523008   \n",
       "std     257.353842    0.486592    0.836071   14.526497    1.102743   \n",
       "min       1.000000    0.000000    1.000000    0.420000    0.000000   \n",
       "25%     223.500000    0.000000    2.000000   20.125000    0.000000   \n",
       "50%     446.000000    0.000000    3.000000   28.000000    0.000000   \n",
       "75%     668.500000    1.000000    3.000000   38.000000    1.000000   \n",
       "max     891.000000    1.000000    3.000000   80.000000    8.000000   \n",
       "\n",
       "            Parch        Fare  \n",
       "count  891.000000  891.000000  \n",
       "mean     0.381594   32.204208  \n",
       "std      0.806057   49.693429  \n",
       "min      0.000000    0.000000  \n",
       "25%      0.000000    7.910400  \n",
       "50%      0.000000   14.454200  \n",
       "75%      0.000000   31.000000  \n",
       "max      6.000000  512.329200  "
      ]
     },
     "execution_count": 8,
     "metadata": {},
     "output_type": "execute_result"
    }
   ],
   "source": [
    "df.describe()"
   ]
  },
  {
   "cell_type": "markdown",
   "id": "cab3db1d",
   "metadata": {},
   "source": [
    "* The description of some features like Passenger ID, can be ignored\n",
    "* In all the columns we can see count as 891 but Age column has 714 because of Nan Vlues\n",
    "* We have Mean of the age as 29.69 and Standard Deviation of 14.52, which means most of the people in the data are in the age group of (15 to 43).\n",
    "* Minimum Age as per description is 0.42 that means Infants with few months old were also aboard.\n",
    "* 25% of passengers have age less than 20 and 50% of passengers have age less than 28 and 75% of passengers have 38 or lesser age.\n",
    "* Maximum Age is 80.\n",
    "* In Fare Column, we can see that Maximum fare is 512.32 and minimum fare is 0. We can find out which rows gives the fares zero as it could be an error in data.\n",
    "* Titanic charged reduced fares to children under 12, and a further reduced fare to infants less than 1 year old. So we cant exactly calculate the fare on each passenger wise. Some purchased the ticket for group as a family and so Fare is 0 for others and only purchased passenger data reflects the Fare."
   ]
  },
  {
   "cell_type": "code",
   "execution_count": 9,
   "id": "c52177d0",
   "metadata": {},
   "outputs": [
    {
     "data": {
      "text/html": [
       "<div>\n",
       "<style scoped>\n",
       "    .dataframe tbody tr th:only-of-type {\n",
       "        vertical-align: middle;\n",
       "    }\n",
       "\n",
       "    .dataframe tbody tr th {\n",
       "        vertical-align: top;\n",
       "    }\n",
       "\n",
       "    .dataframe thead th {\n",
       "        text-align: right;\n",
       "    }\n",
       "</style>\n",
       "<table border=\"1\" class=\"dataframe\">\n",
       "  <thead>\n",
       "    <tr style=\"text-align: right;\">\n",
       "      <th></th>\n",
       "      <th>PassengerId</th>\n",
       "      <th>Survived</th>\n",
       "      <th>Pclass</th>\n",
       "      <th>Name</th>\n",
       "      <th>Sex</th>\n",
       "      <th>Age</th>\n",
       "      <th>SibSp</th>\n",
       "      <th>Parch</th>\n",
       "      <th>Ticket</th>\n",
       "      <th>Fare</th>\n",
       "      <th>Cabin</th>\n",
       "      <th>Embarked</th>\n",
       "    </tr>\n",
       "  </thead>\n",
       "  <tbody>\n",
       "    <tr>\n",
       "      <th>179</th>\n",
       "      <td>180</td>\n",
       "      <td>0</td>\n",
       "      <td>3</td>\n",
       "      <td>Leonard, Mr. Lionel</td>\n",
       "      <td>male</td>\n",
       "      <td>36.0</td>\n",
       "      <td>0</td>\n",
       "      <td>0</td>\n",
       "      <td>LINE</td>\n",
       "      <td>0.0</td>\n",
       "      <td>NaN</td>\n",
       "      <td>S</td>\n",
       "    </tr>\n",
       "    <tr>\n",
       "      <th>263</th>\n",
       "      <td>264</td>\n",
       "      <td>0</td>\n",
       "      <td>1</td>\n",
       "      <td>Harrison, Mr. William</td>\n",
       "      <td>male</td>\n",
       "      <td>40.0</td>\n",
       "      <td>0</td>\n",
       "      <td>0</td>\n",
       "      <td>112059</td>\n",
       "      <td>0.0</td>\n",
       "      <td>B94</td>\n",
       "      <td>S</td>\n",
       "    </tr>\n",
       "    <tr>\n",
       "      <th>271</th>\n",
       "      <td>272</td>\n",
       "      <td>1</td>\n",
       "      <td>3</td>\n",
       "      <td>Tornquist, Mr. William Henry</td>\n",
       "      <td>male</td>\n",
       "      <td>25.0</td>\n",
       "      <td>0</td>\n",
       "      <td>0</td>\n",
       "      <td>LINE</td>\n",
       "      <td>0.0</td>\n",
       "      <td>NaN</td>\n",
       "      <td>S</td>\n",
       "    </tr>\n",
       "    <tr>\n",
       "      <th>277</th>\n",
       "      <td>278</td>\n",
       "      <td>0</td>\n",
       "      <td>2</td>\n",
       "      <td>Parkes, Mr. Francis \"Frank\"</td>\n",
       "      <td>male</td>\n",
       "      <td>NaN</td>\n",
       "      <td>0</td>\n",
       "      <td>0</td>\n",
       "      <td>239853</td>\n",
       "      <td>0.0</td>\n",
       "      <td>NaN</td>\n",
       "      <td>S</td>\n",
       "    </tr>\n",
       "    <tr>\n",
       "      <th>302</th>\n",
       "      <td>303</td>\n",
       "      <td>0</td>\n",
       "      <td>3</td>\n",
       "      <td>Johnson, Mr. William Cahoone Jr</td>\n",
       "      <td>male</td>\n",
       "      <td>19.0</td>\n",
       "      <td>0</td>\n",
       "      <td>0</td>\n",
       "      <td>LINE</td>\n",
       "      <td>0.0</td>\n",
       "      <td>NaN</td>\n",
       "      <td>S</td>\n",
       "    </tr>\n",
       "    <tr>\n",
       "      <th>413</th>\n",
       "      <td>414</td>\n",
       "      <td>0</td>\n",
       "      <td>2</td>\n",
       "      <td>Cunningham, Mr. Alfred Fleming</td>\n",
       "      <td>male</td>\n",
       "      <td>NaN</td>\n",
       "      <td>0</td>\n",
       "      <td>0</td>\n",
       "      <td>239853</td>\n",
       "      <td>0.0</td>\n",
       "      <td>NaN</td>\n",
       "      <td>S</td>\n",
       "    </tr>\n",
       "    <tr>\n",
       "      <th>466</th>\n",
       "      <td>467</td>\n",
       "      <td>0</td>\n",
       "      <td>2</td>\n",
       "      <td>Campbell, Mr. William</td>\n",
       "      <td>male</td>\n",
       "      <td>NaN</td>\n",
       "      <td>0</td>\n",
       "      <td>0</td>\n",
       "      <td>239853</td>\n",
       "      <td>0.0</td>\n",
       "      <td>NaN</td>\n",
       "      <td>S</td>\n",
       "    </tr>\n",
       "    <tr>\n",
       "      <th>481</th>\n",
       "      <td>482</td>\n",
       "      <td>0</td>\n",
       "      <td>2</td>\n",
       "      <td>Frost, Mr. Anthony Wood \"Archie\"</td>\n",
       "      <td>male</td>\n",
       "      <td>NaN</td>\n",
       "      <td>0</td>\n",
       "      <td>0</td>\n",
       "      <td>239854</td>\n",
       "      <td>0.0</td>\n",
       "      <td>NaN</td>\n",
       "      <td>S</td>\n",
       "    </tr>\n",
       "    <tr>\n",
       "      <th>597</th>\n",
       "      <td>598</td>\n",
       "      <td>0</td>\n",
       "      <td>3</td>\n",
       "      <td>Johnson, Mr. Alfred</td>\n",
       "      <td>male</td>\n",
       "      <td>49.0</td>\n",
       "      <td>0</td>\n",
       "      <td>0</td>\n",
       "      <td>LINE</td>\n",
       "      <td>0.0</td>\n",
       "      <td>NaN</td>\n",
       "      <td>S</td>\n",
       "    </tr>\n",
       "    <tr>\n",
       "      <th>633</th>\n",
       "      <td>634</td>\n",
       "      <td>0</td>\n",
       "      <td>1</td>\n",
       "      <td>Parr, Mr. William Henry Marsh</td>\n",
       "      <td>male</td>\n",
       "      <td>NaN</td>\n",
       "      <td>0</td>\n",
       "      <td>0</td>\n",
       "      <td>112052</td>\n",
       "      <td>0.0</td>\n",
       "      <td>NaN</td>\n",
       "      <td>S</td>\n",
       "    </tr>\n",
       "    <tr>\n",
       "      <th>674</th>\n",
       "      <td>675</td>\n",
       "      <td>0</td>\n",
       "      <td>2</td>\n",
       "      <td>Watson, Mr. Ennis Hastings</td>\n",
       "      <td>male</td>\n",
       "      <td>NaN</td>\n",
       "      <td>0</td>\n",
       "      <td>0</td>\n",
       "      <td>239856</td>\n",
       "      <td>0.0</td>\n",
       "      <td>NaN</td>\n",
       "      <td>S</td>\n",
       "    </tr>\n",
       "    <tr>\n",
       "      <th>732</th>\n",
       "      <td>733</td>\n",
       "      <td>0</td>\n",
       "      <td>2</td>\n",
       "      <td>Knight, Mr. Robert J</td>\n",
       "      <td>male</td>\n",
       "      <td>NaN</td>\n",
       "      <td>0</td>\n",
       "      <td>0</td>\n",
       "      <td>239855</td>\n",
       "      <td>0.0</td>\n",
       "      <td>NaN</td>\n",
       "      <td>S</td>\n",
       "    </tr>\n",
       "    <tr>\n",
       "      <th>806</th>\n",
       "      <td>807</td>\n",
       "      <td>0</td>\n",
       "      <td>1</td>\n",
       "      <td>Andrews, Mr. Thomas Jr</td>\n",
       "      <td>male</td>\n",
       "      <td>39.0</td>\n",
       "      <td>0</td>\n",
       "      <td>0</td>\n",
       "      <td>112050</td>\n",
       "      <td>0.0</td>\n",
       "      <td>A36</td>\n",
       "      <td>S</td>\n",
       "    </tr>\n",
       "    <tr>\n",
       "      <th>815</th>\n",
       "      <td>816</td>\n",
       "      <td>0</td>\n",
       "      <td>1</td>\n",
       "      <td>Fry, Mr. Richard</td>\n",
       "      <td>male</td>\n",
       "      <td>NaN</td>\n",
       "      <td>0</td>\n",
       "      <td>0</td>\n",
       "      <td>112058</td>\n",
       "      <td>0.0</td>\n",
       "      <td>B102</td>\n",
       "      <td>S</td>\n",
       "    </tr>\n",
       "    <tr>\n",
       "      <th>822</th>\n",
       "      <td>823</td>\n",
       "      <td>0</td>\n",
       "      <td>1</td>\n",
       "      <td>Reuchlin, Jonkheer. John George</td>\n",
       "      <td>male</td>\n",
       "      <td>38.0</td>\n",
       "      <td>0</td>\n",
       "      <td>0</td>\n",
       "      <td>19972</td>\n",
       "      <td>0.0</td>\n",
       "      <td>NaN</td>\n",
       "      <td>S</td>\n",
       "    </tr>\n",
       "  </tbody>\n",
       "</table>\n",
       "</div>"
      ],
      "text/plain": [
       "     PassengerId  Survived  Pclass                              Name   Sex  \\\n",
       "179          180         0       3               Leonard, Mr. Lionel  male   \n",
       "263          264         0       1             Harrison, Mr. William  male   \n",
       "271          272         1       3      Tornquist, Mr. William Henry  male   \n",
       "277          278         0       2       Parkes, Mr. Francis \"Frank\"  male   \n",
       "302          303         0       3   Johnson, Mr. William Cahoone Jr  male   \n",
       "413          414         0       2    Cunningham, Mr. Alfred Fleming  male   \n",
       "466          467         0       2             Campbell, Mr. William  male   \n",
       "481          482         0       2  Frost, Mr. Anthony Wood \"Archie\"  male   \n",
       "597          598         0       3               Johnson, Mr. Alfred  male   \n",
       "633          634         0       1     Parr, Mr. William Henry Marsh  male   \n",
       "674          675         0       2        Watson, Mr. Ennis Hastings  male   \n",
       "732          733         0       2              Knight, Mr. Robert J  male   \n",
       "806          807         0       1            Andrews, Mr. Thomas Jr  male   \n",
       "815          816         0       1                  Fry, Mr. Richard  male   \n",
       "822          823         0       1   Reuchlin, Jonkheer. John George  male   \n",
       "\n",
       "      Age  SibSp  Parch  Ticket  Fare Cabin Embarked  \n",
       "179  36.0      0      0    LINE   0.0   NaN        S  \n",
       "263  40.0      0      0  112059   0.0   B94        S  \n",
       "271  25.0      0      0    LINE   0.0   NaN        S  \n",
       "277   NaN      0      0  239853   0.0   NaN        S  \n",
       "302  19.0      0      0    LINE   0.0   NaN        S  \n",
       "413   NaN      0      0  239853   0.0   NaN        S  \n",
       "466   NaN      0      0  239853   0.0   NaN        S  \n",
       "481   NaN      0      0  239854   0.0   NaN        S  \n",
       "597  49.0      0      0    LINE   0.0   NaN        S  \n",
       "633   NaN      0      0  112052   0.0   NaN        S  \n",
       "674   NaN      0      0  239856   0.0   NaN        S  \n",
       "732   NaN      0      0  239855   0.0   NaN        S  \n",
       "806  39.0      0      0  112050   0.0   A36        S  \n",
       "815   NaN      0      0  112058   0.0  B102        S  \n",
       "822  38.0      0      0   19972   0.0   NaN        S  "
      ]
     },
     "execution_count": 9,
     "metadata": {},
     "output_type": "execute_result"
    }
   ],
   "source": [
    "df.loc[df['Fare'] == 0.0000]"
   ]
  },
  {
   "cell_type": "markdown",
   "id": "990429c0",
   "metadata": {},
   "source": [
    "* There are a handful of 1st class passengers who had a Fare of 0.\n",
    "* Joseph Ismay's was the chairman of the company that owned the Titanic. William Harrison was his private secretary, and got a free ride.\n",
    "* Similarly, Thomas Andrews was the naval architect in charge of the plans for the ocean liner Titanic.\n",
    "* Titanic charged reduced fares to children under 12, and a further reduced fare to infants less than 1 year old. So we cant exactly calculate the fare on each passenger wise. Some purchased the ticket for group as a family and so Fare is 0 for others and only purchased passenger data reflects the Fare. \n",
    "* Since the data contain only 891 passengers out of 2224 passengers, we couldnt identify if thier Family members or Friends have purchased tickets for them. "
   ]
  },
  {
   "cell_type": "markdown",
   "id": "72ddd3e8",
   "metadata": {},
   "source": [
    "# Data Visualization"
   ]
  },
  {
   "cell_type": "markdown",
   "id": "8845fd54",
   "metadata": {},
   "source": [
    "# Univariate Analysis"
   ]
  },
  {
   "cell_type": "code",
   "execution_count": 10,
   "id": "434714e7",
   "metadata": {},
   "outputs": [
    {
     "data": {
      "text/plain": [
       "<AxesSubplot:xlabel='Survived', ylabel='count'>"
      ]
     },
     "execution_count": 10,
     "metadata": {},
     "output_type": "execute_result"
    },
    {
     "data": {
      "image/png": "[encoded data removed]",
      "text/plain": [
       "<Figure size 432x288 with 1 Axes>"
      ]
     },
     "metadata": {
      "needs_background": "light"
     },
     "output_type": "display_data"
    }
   ],
   "source": [
    "#1. Survived Feature\n",
    "\n",
    "sns.countplot(df[\"Survived\"],data = df)"
   ]
  },
  {
   "cell_type": "markdown",
   "id": "40cffc48",
   "metadata": {},
   "source": [
    "* We can see that number of \"No\" is more than 500 as we have seen from the data description of Survived above.\n",
    "* Number of Survived passengers are around 350."
   ]
  },
  {
   "cell_type": "code",
   "execution_count": 11,
   "id": "6376e295",
   "metadata": {},
   "outputs": [
    {
     "data": {
      "text/plain": [
       "<AxesSubplot:xlabel='Pclass', ylabel='count'>"
      ]
     },
     "execution_count": 11,
     "metadata": {},
     "output_type": "execute_result"
    },
    {
     "data": {
      "image/png": "[encoded data removed]",
      "text/plain": [
       "<Figure size 432x288 with 1 Axes>"
      ]
     },
     "metadata": {
      "needs_background": "light"
     },
     "output_type": "display_data"
    }
   ],
   "source": [
    "#2. Pclass Feature\n",
    "\n",
    "sns.countplot(df[\"Pclass\"],data = df)"
   ]
  },
  {
   "cell_type": "markdown",
   "id": "2aa4308d",
   "metadata": {},
   "source": [
    "* We can see that, out of the available data, !st class passengers are around 215, 2nd class below 200.\n",
    "* Most of the passengers in the Dataset is from 3rd class- around 490."
   ]
  },
  {
   "cell_type": "code",
   "execution_count": 12,
   "id": "2f3ac037",
   "metadata": {},
   "outputs": [
    {
     "data": {
      "text/plain": [
       "3    491\n",
       "1    216\n",
       "2    184\n",
       "Name: Pclass, dtype: int64"
      ]
     },
     "execution_count": 12,
     "metadata": {},
     "output_type": "execute_result"
    }
   ],
   "source": [
    "df['Pclass'].value_counts()"
   ]
  },
  {
   "cell_type": "code",
   "execution_count": 13,
   "id": "1c10cb1f",
   "metadata": {},
   "outputs": [
    {
     "data": {
      "text/plain": [
       "<AxesSubplot:xlabel='Pclass', ylabel='count'>"
      ]
     },
     "execution_count": 13,
     "metadata": {},
     "output_type": "execute_result"
    },
    {
     "data": {
      "image/png": "[encoded data removed]",
      "text/plain": [
       "<Figure size 432x288 with 1 Axes>"
      ]
     },
     "metadata": {
      "needs_background": "light"
     },
     "output_type": "display_data"
    }
   ],
   "source": [
    "sns.countplot(df[\"Pclass\"],hue=df[\"Survived\"],data = df)"
   ]
  },
  {
   "cell_type": "markdown",
   "id": "dc2e43f8",
   "metadata": {},
   "source": [
    "Here, we can clearly see that Money matters.\n",
    "* The first class passengers have higher survival rate than second or third class.\n",
    "* More than 60% of 3rd class passengers did not survive.\n",
    "* Almost equal number of people in 2nd Class have survived and died.\n",
    "* Passengers in 1st Class, Out of a large number survived and some of the passengers died.\n",
    "* in Conclusion, Passengers in Higher Class have more chance to survive and passengers in Lower classes have higher chance of death."
   ]
  },
  {
   "cell_type": "code",
   "execution_count": 14,
   "id": "1b6201e8",
   "metadata": {},
   "outputs": [
    {
     "data": {
      "text/plain": [
       "<AxesSubplot:xlabel='Sex', ylabel='count'>"
      ]
     },
     "execution_count": 14,
     "metadata": {},
     "output_type": "execute_result"
    },
    {
     "data": {
      "image/png": "[encoded data removed]",
      "text/plain": [
       "<Figure size 432x288 with 1 Axes>"
      ]
     },
     "metadata": {
      "needs_background": "light"
     },
     "output_type": "display_data"
    }
   ],
   "source": [
    "#3. Sex Feature\n",
    "\n",
    "sns.countplot(df[\"Sex\"],hue=df[\"Survived\"],data = df)"
   ]
  },
  {
   "cell_type": "markdown",
   "id": "db2be008",
   "metadata": {},
   "source": [
    "* Comparing to males, Females have more chance to survive.\n",
    "* Because of Women and children comes first policy, Women were given priorities to get off the ship when it started to sink."
   ]
  },
  {
   "cell_type": "code",
   "execution_count": 15,
   "id": "89b289c0",
   "metadata": {},
   "outputs": [
    {
     "data": {
      "image/png": "[encoded data removed]",
      "text/plain": [
       "<Figure size 411.875x360 with 1 Axes>"
      ]
     },
     "metadata": {
      "needs_background": "light"
     },
     "output_type": "display_data"
    }
   ],
   "source": [
    "#4. Age Feature\n",
    "\n",
    "sns.FacetGrid(df, hue=\"Survived\", size=5) \\\n",
    "   .map(sns.distplot, \"Age\") \\\n",
    "   .add_legend()\n",
    "plt.show()"
   ]
  },
  {
   "cell_type": "markdown",
   "id": "e263d42b",
   "metadata": {},
   "source": [
    "* Passengers below age 20 years have higher chances of Survival.\n",
    "* Out of the Passengers between the age of 20 and 45, more number have died than survived.\n",
    "* Almost all passengers greater than 65 years have died. This could be because more chances were given to young people than aged passengers or they couldnt survive the cold water."
   ]
  },
  {
   "cell_type": "code",
   "execution_count": 16,
   "id": "9dc62665",
   "metadata": {
    "scrolled": true
   },
   "outputs": [
    {
     "data": {
      "text/plain": [
       "<AxesSubplot:xlabel='Age', ylabel='Density'>"
      ]
     },
     "execution_count": 16,
     "metadata": {},
     "output_type": "execute_result"
    },
    {
     "data": {
      "image/png": "[encoded data removed]",
      "text/plain": [
       "<Figure size 432x288 with 1 Axes>"
      ]
     },
     "metadata": {
      "needs_background": "light"
     },
     "output_type": "display_data"
    }
   ],
   "source": [
    "#Since Age is numeric feature, we can find the distribution of the Data\n",
    "\n",
    "sns.distplot(df['Age'])"
   ]
  },
  {
   "cell_type": "markdown",
   "id": "c7a0cadb",
   "metadata": {},
   "source": [
    "Age is almost normally distributed"
   ]
  },
  {
   "cell_type": "code",
   "execution_count": 17,
   "id": "cb0f3966",
   "metadata": {},
   "outputs": [
    {
     "data": {
      "text/plain": [
       "<AxesSubplot:xlabel='SibSp', ylabel='count'>"
      ]
     },
     "execution_count": 17,
     "metadata": {},
     "output_type": "execute_result"
    },
    {
     "data": {
      "image/png": "[encoded data removed]",
      "text/plain": [
       "<Figure size 432x288 with 1 Axes>"
      ]
     },
     "metadata": {
      "needs_background": "light"
     },
     "output_type": "display_data"
    }
   ],
   "source": [
    "#5-Sibsp Feature\n",
    "\n",
    "sns.countplot(df[\"SibSp\"],hue=df[\"Survived\"],data = df)"
   ]
  },
  {
   "cell_type": "markdown",
   "id": "bc211c50",
   "metadata": {},
   "source": [
    "* Out of the 0 Siblings Passengers, most of them died.\n",
    "* Passengers with 1 sibling have almost equal chances of survival and death.\n",
    "* Passengers with more number of siblings have a lower chance of survival.\n",
    "* For passengers with siblings 5 or more did not survive any.\n",
    "\n",
    "We can conclude that higher the siblings, higher the chance of Death."
   ]
  },
  {
   "cell_type": "code",
   "execution_count": 18,
   "id": "d50ea569",
   "metadata": {},
   "outputs": [
    {
     "data": {
      "text/plain": [
       "<AxesSubplot:xlabel='Parch', ylabel='count'>"
      ]
     },
     "execution_count": 18,
     "metadata": {},
     "output_type": "execute_result"
    },
    {
     "data": {
      "image/png": "[encoded data removed]",
      "text/plain": [
       "<Figure size 432x288 with 1 Axes>"
      ]
     },
     "metadata": {
      "needs_background": "light"
     },
     "output_type": "display_data"
    }
   ],
   "source": [
    "#6. Parch Feauture\n",
    "\n",
    "sns.countplot(df[\"Parch\"],hue=df[\"Survived\"],data = df)"
   ]
  },
  {
   "cell_type": "markdown",
   "id": "55186095",
   "metadata": {},
   "source": [
    "* Same as SibSp, 0 Parch most of them died.\n",
    "* More passengers have survived when Parch is 1\n",
    "* Equal number of survival and death when parch is 2.\n",
    "* More survival than death when Parch is 3.\n",
    "* No one survived when Parch is 4 and 6\n",
    "* Few survived and more died at Parch 5."
   ]
  },
  {
   "cell_type": "code",
   "execution_count": 19,
   "id": "e69a0181",
   "metadata": {},
   "outputs": [
    {
     "data": {
      "image/png": "[encoded data removed]",
      "text/plain": [
       "<Figure size 411.875x360 with 1 Axes>"
      ]
     },
     "metadata": {
      "needs_background": "light"
     },
     "output_type": "display_data"
    }
   ],
   "source": [
    "#7. Fare Feauture\n",
    "\n",
    "sns.FacetGrid(df, hue=\"Survived\", size=5) \\\n",
    " .map(sns.distplot, \"Fare\") \\\n",
    " .add_legend();\n",
    "plt.show();"
   ]
  },
  {
   "cell_type": "markdown",
   "id": "f7e1657d",
   "metadata": {},
   "source": [
    "Passengers who paid low fare have a higher chance to die. On the other hand, passengers who paid high fair have a higher chance to survive. This observation is the same as pclass persons who were rich have a higher chance to survive and poor lower chance to survive."
   ]
  },
  {
   "cell_type": "code",
   "execution_count": 20,
   "id": "78f0a00e",
   "metadata": {},
   "outputs": [
    {
     "data": {
      "text/plain": [
       "<AxesSubplot:xlabel='Embarked', ylabel='count'>"
      ]
     },
     "execution_count": 20,
     "metadata": {},
     "output_type": "execute_result"
    },
    {
     "data": {
      "image/png": "[encoded data removed]",
      "text/plain": [
       "<Figure size 432x288 with 1 Axes>"
      ]
     },
     "metadata": {
      "needs_background": "light"
     },
     "output_type": "display_data"
    }
   ],
   "source": [
    "#8. Embarked Feature\n",
    "\n",
    "sns.countplot(df[\"Embarked\"],hue=df[\"Survived\"],data = df)"
   ]
  },
  {
   "cell_type": "markdown",
   "id": "59d20bfa",
   "metadata": {},
   "source": [
    "* More number of Passengers have been embarked from S-Southampton, most of them died.\n",
    "* A little more Passengers embarked from Cherbourg have survived than died."
   ]
  },
  {
   "cell_type": "markdown",
   "id": "964781cd",
   "metadata": {},
   "source": [
    "# Bivariate Analysis"
   ]
  },
  {
   "cell_type": "code",
   "execution_count": 21,
   "id": "685977f8",
   "metadata": {},
   "outputs": [
    {
     "data": {
      "image/png": "[encoded data removed]",
      "text/plain": [
       "<Figure size 430.5x360 with 1 Axes>"
      ]
     },
     "metadata": {
      "needs_background": "light"
     },
     "output_type": "display_data"
    }
   ],
   "source": [
    "# Comparison between Pclass and Sex\n",
    "g=sns.catplot(x='Pclass',y='Survived',hue='Sex',data=df,kind='bar')\n",
    "\n",
    "plt.show()"
   ]
  },
  {
   "cell_type": "markdown",
   "id": "06f805f2",
   "metadata": {},
   "source": [
    "* Here, I can see that most number of females in First and Second class have survived.\n",
    "* In 3rd class, more females than males have survival chance.\n",
    "* If you are rich and a female, chance of Survival are the highest."
   ]
  },
  {
   "cell_type": "code",
   "execution_count": 22,
   "id": "ea02310a",
   "metadata": {},
   "outputs": [
    {
     "data": {
      "text/plain": [
       "<AxesSubplot:xlabel='Sex', ylabel='Age'>"
      ]
     },
     "execution_count": 22,
     "metadata": {},
     "output_type": "execute_result"
    },
    {
     "data": {
      "image/png": "[encoded data removed]",
      "text/plain": [
       "<Figure size 432x288 with 1 Axes>"
      ]
     },
     "metadata": {
      "needs_background": "light"
     },
     "output_type": "display_data"
    }
   ],
   "source": [
    "#Comparison between Age and Sex on Survived\n",
    "\n",
    "sns.violinplot(x =\"Sex\", y =\"Age\", hue =\"Survived\",\n",
    "data = df, split = True)"
   ]
  },
  {
   "cell_type": "markdown",
   "id": "47ba61a1",
   "metadata": {},
   "source": [
    "This graph gives a summary of the age range of men, women and children who were saved. The survival rate is –  \n",
    "\n",
    "* Good for children.\n",
    "* High for women in the age range 20-50.\n",
    "* Less for men as the age increases."
   ]
  },
  {
   "cell_type": "code",
   "execution_count": 23,
   "id": "a794f809",
   "metadata": {},
   "outputs": [
    {
     "data": {
      "text/plain": [
       "<AxesSubplot:xlabel='Fare_Range', ylabel='Survived'>"
      ]
     },
     "execution_count": 23,
     "metadata": {},
     "output_type": "execute_result"
    },
    {
     "data": {
      "image/png": "[encoded data removed]",
      "text/plain": [
       "<Figure size 432x288 with 1 Axes>"
      ]
     },
     "metadata": {
      "needs_background": "light"
     },
     "output_type": "display_data"
    }
   ],
   "source": [
    "#Comparison between Fare and Survived\n",
    "\n",
    "df['Fare_Range'] = pd.qcut(df['Fare'], 4)\n",
    "sns.barplot(x ='Fare_Range', y ='Survived',\n",
    "data = df)"
   ]
  },
  {
   "cell_type": "markdown",
   "id": "9727d49b",
   "metadata": {},
   "source": [
    "Higher the Fare, Higher the chance of Survival."
   ]
  },
  {
   "cell_type": "code",
   "execution_count": 24,
   "id": "9e18ab5c",
   "metadata": {},
   "outputs": [],
   "source": [
    "df.drop(['Fare_Range'],axis=1,inplace=True)"
   ]
  },
  {
   "cell_type": "code",
   "execution_count": 25,
   "id": "c1389a9e",
   "metadata": {},
   "outputs": [
    {
     "data": {
      "text/plain": [
       "<seaborn.axisgrid.FacetGrid at 0x7f88622a7d90>"
      ]
     },
     "execution_count": 25,
     "metadata": {},
     "output_type": "execute_result"
    },
    {
     "data": {
      "image/png": "[encoded data removed]",
      "text/plain": [
       "<Figure size 1131.88x360 with 3 Axes>"
      ]
     },
     "metadata": {
      "needs_background": "light"
     },
     "output_type": "display_data"
    }
   ],
   "source": [
    "# Comparison between Embarked and Pclass on Survived\n",
    "\n",
    "sns.catplot(x ='Embarked', hue ='Survived',\n",
    "kind ='count', col ='Pclass', data = df)"
   ]
  },
  {
   "cell_type": "markdown",
   "id": "d0259536",
   "metadata": {},
   "source": [
    "Some notable observations are: \n",
    "\n",
    "* Majority of the passengers boarded from S-Southampton. So, the missing values can be filled with S.\n",
    "* Majority of class 3 passengers boarded from Q-Queenstown.\n",
    "* Compared to class 3, Passengers from Southampton have more survival rate in Pclass 1 and 2."
   ]
  },
  {
   "cell_type": "code",
   "execution_count": 26,
   "id": "53ac5cb7",
   "metadata": {},
   "outputs": [
    {
     "data": {
      "image/png": "[encoded data removed]",
      "text/plain": [
       "<Figure size 576x432 with 1 Axes>"
      ]
     },
     "metadata": {
      "needs_background": "light"
     },
     "output_type": "display_data"
    }
   ],
   "source": [
    "#Comparision between Age and Sibsp using scatter plot\n",
    "\n",
    "plt.figure(figsize=[8,6])\n",
    "plt.title('Comparision between Age and SibSp')\n",
    "sns.scatterplot(df['Age'],df['SibSp'],hue=df[\"Survived\"]);"
   ]
  },
  {
   "cell_type": "markdown",
   "id": "237ec8b2",
   "metadata": {},
   "source": [
    "* As i have seen earlier in univariate analysis, survival of sibsp with more than 4 is zero.\n",
    "* Chances of survival are higher if age is less than 20 and sibsp of 0.\n",
    "* Chances of Survival are higher at age 0 to 55 if sibsp is 1."
   ]
  },
  {
   "cell_type": "code",
   "execution_count": 27,
   "id": "ee96945e",
   "metadata": {},
   "outputs": [
    {
     "data": {
      "text/plain": [
       "<AxesSubplot:title={'center':'Comparision between Parch and Fare'}, xlabel='Parch', ylabel='Fare'>"
      ]
     },
     "execution_count": 27,
     "metadata": {},
     "output_type": "execute_result"
    },
    {
     "data": {
      "image/png": "[encoded data removed]",
      "text/plain": [
       "<Figure size 576x432 with 1 Axes>"
      ]
     },
     "metadata": {
      "needs_background": "light"
     },
     "output_type": "display_data"
    }
   ],
   "source": [
    "#Comparison between Parch and Fare on Survived \n",
    "\n",
    "plt.figure(figsize=[8,6])\n",
    "plt.title('Comparision between Parch and Fare')\n",
    "sns.scatterplot(df['Parch'],df['Fare'],hue=df[\"Survived\"])"
   ]
  },
  {
   "cell_type": "markdown",
   "id": "09190c40",
   "metadata": {},
   "source": [
    "* Chances of survival are higher when parch is 0 or 1 and fare is higher.\n",
    "* Passangers of Parch 4 and above did not survive at all."
   ]
  },
  {
   "cell_type": "code",
   "execution_count": 28,
   "id": "48efb561",
   "metadata": {},
   "outputs": [
    {
     "data": {
      "text/plain": [
       "<AxesSubplot:title={'center':'Comparision between Parch and Age'}, xlabel='Parch', ylabel='Age'>"
      ]
     },
     "execution_count": 28,
     "metadata": {},
     "output_type": "execute_result"
    },
    {
     "data": {
      "image/png": "[encoded data removed]",
      "text/plain": [
       "<Figure size 576x432 with 1 Axes>"
      ]
     },
     "metadata": {
      "needs_background": "light"
     },
     "output_type": "display_data"
    }
   ],
   "source": [
    "#Comparison between Parch and Age on Survived \n",
    "\n",
    "plt.figure(figsize=[8,6])\n",
    "plt.title('Comparision between Parch and Age')\n",
    "sns.scatterplot(df['Parch'],df['Age'],hue=df[\"Survived\"])"
   ]
  },
  {
   "cell_type": "markdown",
   "id": "f5e20cc0",
   "metadata": {},
   "source": [
    "* Mixed number of deaths and survived when parch is 0\n",
    "* More chances of Survival at Parch 1 and 2 and Age between 0 to 55\n",
    "* As parch increases, survival rate decreases."
   ]
  },
  {
   "cell_type": "code",
   "execution_count": 29,
   "id": "b8971edf",
   "metadata": {},
   "outputs": [
    {
     "data": {
      "text/plain": [
       "<AxesSubplot:xlabel='Pclass', ylabel='Age'>"
      ]
     },
     "execution_count": 29,
     "metadata": {},
     "output_type": "execute_result"
    },
    {
     "data": {
      "image/png": "[encoded data removed]",
      "text/plain": [
       "<Figure size 432x288 with 1 Axes>"
      ]
     },
     "metadata": {
      "needs_background": "light"
     },
     "output_type": "display_data"
    }
   ],
   "source": [
    "sns.boxplot(x='Pclass',y='Age',data=df,palette='winter')"
   ]
  },
  {
   "cell_type": "markdown",
   "id": "bf8e0606",
   "metadata": {},
   "source": [
    "From this graph we can find out the mean age for each of the Pclass. We would impute the same for missing ‘Age’ values. We can write a simple python function to get the same.\n",
    "* For class 1, Mean of Age is 38\n",
    "* for class 2, Mean is 29\n",
    "* and for class 3, Mean is 24"
   ]
  },
  {
   "cell_type": "markdown",
   "id": "7fee0d2f",
   "metadata": {},
   "source": [
    "# Multivariate Analysis"
   ]
  },
  {
   "cell_type": "code",
   "execution_count": 30,
   "id": "7b781a07",
   "metadata": {},
   "outputs": [
    {
     "data": {
      "image/png": "[encoded data removed]",
      "text/plain": [
       "<Figure size 911x864 with 20 Axes>"
      ]
     },
     "metadata": {},
     "output_type": "display_data"
    }
   ],
   "source": [
    "sns.set_style(\"whitegrid\");\n",
    "sns.pairplot(df[[\"Survived\",\"Pclass\",\"SibSp\",\"Fare\",\"Age\"]], hue=\"Survived\", size=3);\n",
    "plt.show()"
   ]
  },
  {
   "cell_type": "markdown",
   "id": "7b917b85",
   "metadata": {},
   "source": [
    "* we can see that passengers who paid higher fares or traveling in the upper class have a higher chance to survive.\n",
    "* Age is also giving some info like young persons have a higher chance to survive than old peoples.\n",
    "* In all the features, we can see death rate is more than survival rate."
   ]
  },
  {
   "cell_type": "markdown",
   "id": "906c9953",
   "metadata": {},
   "source": [
    "# Data Cleaning and Feature Engineering"
   ]
  },
  {
   "cell_type": "markdown",
   "id": "e3b72bf1",
   "metadata": {},
   "source": [
    "# 1-Treating the Missing Data"
   ]
  },
  {
   "cell_type": "code",
   "execution_count": 31,
   "id": "94347747",
   "metadata": {},
   "outputs": [
    {
     "data": {
      "text/html": [
       "<div>\n",
       "<style scoped>\n",
       "    .dataframe tbody tr th:only-of-type {\n",
       "        vertical-align: middle;\n",
       "    }\n",
       "\n",
       "    .dataframe tbody tr th {\n",
       "        vertical-align: top;\n",
       "    }\n",
       "\n",
       "    .dataframe thead th {\n",
       "        text-align: right;\n",
       "    }\n",
       "</style>\n",
       "<table border=\"1\" class=\"dataframe\">\n",
       "  <thead>\n",
       "    <tr style=\"text-align: right;\">\n",
       "      <th></th>\n",
       "      <th>PassengerId</th>\n",
       "      <th>Survived</th>\n",
       "      <th>Pclass</th>\n",
       "      <th>Name</th>\n",
       "      <th>Sex</th>\n",
       "      <th>Age</th>\n",
       "      <th>SibSp</th>\n",
       "      <th>Parch</th>\n",
       "      <th>Ticket</th>\n",
       "      <th>Fare</th>\n",
       "      <th>Cabin</th>\n",
       "      <th>Embarked</th>\n",
       "    </tr>\n",
       "  </thead>\n",
       "  <tbody>\n",
       "    <tr>\n",
       "      <th>61</th>\n",
       "      <td>62</td>\n",
       "      <td>1</td>\n",
       "      <td>1</td>\n",
       "      <td>Icard, Miss. Amelie</td>\n",
       "      <td>female</td>\n",
       "      <td>38.0</td>\n",
       "      <td>0</td>\n",
       "      <td>0</td>\n",
       "      <td>113572</td>\n",
       "      <td>80.0</td>\n",
       "      <td>B28</td>\n",
       "      <td>NaN</td>\n",
       "    </tr>\n",
       "    <tr>\n",
       "      <th>829</th>\n",
       "      <td>830</td>\n",
       "      <td>1</td>\n",
       "      <td>1</td>\n",
       "      <td>Stone, Mrs. George Nelson (Martha Evelyn)</td>\n",
       "      <td>female</td>\n",
       "      <td>62.0</td>\n",
       "      <td>0</td>\n",
       "      <td>0</td>\n",
       "      <td>113572</td>\n",
       "      <td>80.0</td>\n",
       "      <td>B28</td>\n",
       "      <td>NaN</td>\n",
       "    </tr>\n",
       "  </tbody>\n",
       "</table>\n",
       "</div>"
      ],
      "text/plain": [
       "     PassengerId  Survived  Pclass                                       Name  \\\n",
       "61            62         1       1                        Icard, Miss. Amelie   \n",
       "829          830         1       1  Stone, Mrs. George Nelson (Martha Evelyn)   \n",
       "\n",
       "        Sex   Age  SibSp  Parch  Ticket  Fare Cabin Embarked  \n",
       "61   female  38.0      0      0  113572  80.0   B28      NaN  \n",
       "829  female  62.0      0      0  113572  80.0   B28      NaN  "
      ]
     },
     "execution_count": 31,
     "metadata": {},
     "output_type": "execute_result"
    }
   ],
   "source": [
    "df[df[\"Embarked\"].isnull()]"
   ]
  },
  {
   "cell_type": "code",
   "execution_count": 32,
   "id": "a7d0425f",
   "metadata": {},
   "outputs": [],
   "source": [
    "#Embarked has only 2 missing values and we can fill it with mode\n",
    "\n",
    "df['Embarked']=df['Embarked'].fillna(df['Embarked'].mode()[0])"
   ]
  },
  {
   "cell_type": "code",
   "execution_count": 33,
   "id": "107040a0",
   "metadata": {},
   "outputs": [
    {
     "data": {
      "text/plain": [
       "S    646\n",
       "C    168\n",
       "Q     77\n",
       "Name: Embarked, dtype: int64"
      ]
     },
     "execution_count": 33,
     "metadata": {},
     "output_type": "execute_result"
    }
   ],
   "source": [
    "df['Embarked'].value_counts()"
   ]
  },
  {
   "cell_type": "code",
   "execution_count": 34,
   "id": "41f7118a",
   "metadata": {},
   "outputs": [],
   "source": [
    "#As the column ‘Cabin’ had a lot of missing data. I decided to categorize all the missing data as a different class.\n",
    "#I named it NA. I assigned all the missing values with this value.\n",
    "\n",
    "df.Cabin = df.Cabin.fillna('NA')"
   ]
  },
  {
   "cell_type": "code",
   "execution_count": 35,
   "id": "47659139",
   "metadata": {},
   "outputs": [
    {
     "data": {
      "text/html": [
       "<div>\n",
       "<style scoped>\n",
       "    .dataframe tbody tr th:only-of-type {\n",
       "        vertical-align: middle;\n",
       "    }\n",
       "\n",
       "    .dataframe tbody tr th {\n",
       "        vertical-align: top;\n",
       "    }\n",
       "\n",
       "    .dataframe thead th {\n",
       "        text-align: right;\n",
       "    }\n",
       "</style>\n",
       "<table border=\"1\" class=\"dataframe\">\n",
       "  <thead>\n",
       "    <tr style=\"text-align: right;\">\n",
       "      <th></th>\n",
       "      <th>PassengerId</th>\n",
       "      <th>Survived</th>\n",
       "      <th>Pclass</th>\n",
       "      <th>Name</th>\n",
       "      <th>Sex</th>\n",
       "      <th>Age</th>\n",
       "      <th>SibSp</th>\n",
       "      <th>Parch</th>\n",
       "      <th>Ticket</th>\n",
       "      <th>Fare</th>\n",
       "      <th>Cabin</th>\n",
       "      <th>Embarked</th>\n",
       "    </tr>\n",
       "  </thead>\n",
       "  <tbody>\n",
       "  </tbody>\n",
       "</table>\n",
       "</div>"
      ],
      "text/plain": [
       "Empty DataFrame\n",
       "Columns: [PassengerId, Survived, Pclass, Name, Sex, Age, SibSp, Parch, Ticket, Fare, Cabin, Embarked]\n",
       "Index: []"
      ]
     },
     "execution_count": 35,
     "metadata": {},
     "output_type": "execute_result"
    }
   ],
   "source": [
    "df[df[\"Cabin\"].isnull()]"
   ]
  },
  {
   "cell_type": "code",
   "execution_count": 36,
   "id": "76744db5",
   "metadata": {},
   "outputs": [],
   "source": [
    "#Age is a numerical data, so we can use mean or median, for beter view of data i am using Median.\n",
    "\n",
    "df[\"Age\"]=df[\"Age\"].fillna(df[\"Age\"].median())"
   ]
  },
  {
   "cell_type": "code",
   "execution_count": 37,
   "id": "88f6966e",
   "metadata": {},
   "outputs": [
    {
     "data": {
      "text/html": [
       "<div>\n",
       "<style scoped>\n",
       "    .dataframe tbody tr th:only-of-type {\n",
       "        vertical-align: middle;\n",
       "    }\n",
       "\n",
       "    .dataframe tbody tr th {\n",
       "        vertical-align: top;\n",
       "    }\n",
       "\n",
       "    .dataframe thead th {\n",
       "        text-align: right;\n",
       "    }\n",
       "</style>\n",
       "<table border=\"1\" class=\"dataframe\">\n",
       "  <thead>\n",
       "    <tr style=\"text-align: right;\">\n",
       "      <th></th>\n",
       "      <th>PassengerId</th>\n",
       "      <th>Survived</th>\n",
       "      <th>Pclass</th>\n",
       "      <th>Name</th>\n",
       "      <th>Sex</th>\n",
       "      <th>Age</th>\n",
       "      <th>SibSp</th>\n",
       "      <th>Parch</th>\n",
       "      <th>Ticket</th>\n",
       "      <th>Fare</th>\n",
       "      <th>Cabin</th>\n",
       "      <th>Embarked</th>\n",
       "    </tr>\n",
       "  </thead>\n",
       "  <tbody>\n",
       "  </tbody>\n",
       "</table>\n",
       "</div>"
      ],
      "text/plain": [
       "Empty DataFrame\n",
       "Columns: [PassengerId, Survived, Pclass, Name, Sex, Age, SibSp, Parch, Ticket, Fare, Cabin, Embarked]\n",
       "Index: []"
      ]
     },
     "execution_count": 37,
     "metadata": {},
     "output_type": "execute_result"
    }
   ],
   "source": [
    "df[df[\"Age\"].isnull()]"
   ]
  },
  {
   "cell_type": "code",
   "execution_count": 38,
   "id": "4ad67084",
   "metadata": {},
   "outputs": [
    {
     "data": {
      "text/plain": [
       "PassengerId    0\n",
       "Survived       0\n",
       "Pclass         0\n",
       "Name           0\n",
       "Sex            0\n",
       "Age            0\n",
       "SibSp          0\n",
       "Parch          0\n",
       "Ticket         0\n",
       "Fare           0\n",
       "Cabin          0\n",
       "Embarked       0\n",
       "dtype: int64"
      ]
     },
     "execution_count": 38,
     "metadata": {},
     "output_type": "execute_result"
    }
   ],
   "source": [
    "df.isnull().sum()"
   ]
  },
  {
   "cell_type": "markdown",
   "id": "502a749e",
   "metadata": {},
   "source": [
    "There are no null values now"
   ]
  },
  {
   "cell_type": "markdown",
   "id": "d0459c52",
   "metadata": {},
   "source": [
    "# 2-Encoding the Categorical Data"
   ]
  },
  {
   "cell_type": "code",
   "execution_count": 39,
   "id": "7a3ebb93",
   "metadata": {},
   "outputs": [],
   "source": [
    "from sklearn.preprocessing import LabelEncoder\n",
    "label_encoders = {}\n",
    "categorical_columns = ['Name','Sex','Ticket','Cabin','Embarked']\n",
    "\n",
    "for column in categorical_columns:\n",
    "    label_encoders[column] = LabelEncoder()\n",
    "    df[column] = label_encoders[column].fit_transform(df[column])"
   ]
  },
  {
   "cell_type": "code",
   "execution_count": 40,
   "id": "d2e0378f",
   "metadata": {},
   "outputs": [
    {
     "data": {
      "text/html": [
       "<div>\n",
       "<style scoped>\n",
       "    .dataframe tbody tr th:only-of-type {\n",
       "        vertical-align: middle;\n",
       "    }\n",
       "\n",
       "    .dataframe tbody tr th {\n",
       "        vertical-align: top;\n",
       "    }\n",
       "\n",
       "    .dataframe thead th {\n",
       "        text-align: right;\n",
       "    }\n",
       "</style>\n",
       "<table border=\"1\" class=\"dataframe\">\n",
       "  <thead>\n",
       "    <tr style=\"text-align: right;\">\n",
       "      <th></th>\n",
       "      <th>PassengerId</th>\n",
       "      <th>Survived</th>\n",
       "      <th>Pclass</th>\n",
       "      <th>Name</th>\n",
       "      <th>Sex</th>\n",
       "      <th>Age</th>\n",
       "      <th>SibSp</th>\n",
       "      <th>Parch</th>\n",
       "      <th>Ticket</th>\n",
       "      <th>Fare</th>\n",
       "      <th>Cabin</th>\n",
       "      <th>Embarked</th>\n",
       "    </tr>\n",
       "  </thead>\n",
       "  <tbody>\n",
       "    <tr>\n",
       "      <th>0</th>\n",
       "      <td>1</td>\n",
       "      <td>0</td>\n",
       "      <td>3</td>\n",
       "      <td>108</td>\n",
       "      <td>1</td>\n",
       "      <td>22.0</td>\n",
       "      <td>1</td>\n",
       "      <td>0</td>\n",
       "      <td>523</td>\n",
       "      <td>7.2500</td>\n",
       "      <td>146</td>\n",
       "      <td>2</td>\n",
       "    </tr>\n",
       "    <tr>\n",
       "      <th>1</th>\n",
       "      <td>2</td>\n",
       "      <td>1</td>\n",
       "      <td>1</td>\n",
       "      <td>190</td>\n",
       "      <td>0</td>\n",
       "      <td>38.0</td>\n",
       "      <td>1</td>\n",
       "      <td>0</td>\n",
       "      <td>596</td>\n",
       "      <td>71.2833</td>\n",
       "      <td>81</td>\n",
       "      <td>0</td>\n",
       "    </tr>\n",
       "    <tr>\n",
       "      <th>2</th>\n",
       "      <td>3</td>\n",
       "      <td>1</td>\n",
       "      <td>3</td>\n",
       "      <td>353</td>\n",
       "      <td>0</td>\n",
       "      <td>26.0</td>\n",
       "      <td>0</td>\n",
       "      <td>0</td>\n",
       "      <td>669</td>\n",
       "      <td>7.9250</td>\n",
       "      <td>146</td>\n",
       "      <td>2</td>\n",
       "    </tr>\n",
       "    <tr>\n",
       "      <th>3</th>\n",
       "      <td>4</td>\n",
       "      <td>1</td>\n",
       "      <td>1</td>\n",
       "      <td>272</td>\n",
       "      <td>0</td>\n",
       "      <td>35.0</td>\n",
       "      <td>1</td>\n",
       "      <td>0</td>\n",
       "      <td>49</td>\n",
       "      <td>53.1000</td>\n",
       "      <td>55</td>\n",
       "      <td>2</td>\n",
       "    </tr>\n",
       "    <tr>\n",
       "      <th>4</th>\n",
       "      <td>5</td>\n",
       "      <td>0</td>\n",
       "      <td>3</td>\n",
       "      <td>15</td>\n",
       "      <td>1</td>\n",
       "      <td>35.0</td>\n",
       "      <td>0</td>\n",
       "      <td>0</td>\n",
       "      <td>472</td>\n",
       "      <td>8.0500</td>\n",
       "      <td>146</td>\n",
       "      <td>2</td>\n",
       "    </tr>\n",
       "    <tr>\n",
       "      <th>...</th>\n",
       "      <td>...</td>\n",
       "      <td>...</td>\n",
       "      <td>...</td>\n",
       "      <td>...</td>\n",
       "      <td>...</td>\n",
       "      <td>...</td>\n",
       "      <td>...</td>\n",
       "      <td>...</td>\n",
       "      <td>...</td>\n",
       "      <td>...</td>\n",
       "      <td>...</td>\n",
       "      <td>...</td>\n",
       "    </tr>\n",
       "    <tr>\n",
       "      <th>886</th>\n",
       "      <td>887</td>\n",
       "      <td>0</td>\n",
       "      <td>2</td>\n",
       "      <td>548</td>\n",
       "      <td>1</td>\n",
       "      <td>27.0</td>\n",
       "      <td>0</td>\n",
       "      <td>0</td>\n",
       "      <td>101</td>\n",
       "      <td>13.0000</td>\n",
       "      <td>146</td>\n",
       "      <td>2</td>\n",
       "    </tr>\n",
       "    <tr>\n",
       "      <th>887</th>\n",
       "      <td>888</td>\n",
       "      <td>1</td>\n",
       "      <td>1</td>\n",
       "      <td>303</td>\n",
       "      <td>0</td>\n",
       "      <td>19.0</td>\n",
       "      <td>0</td>\n",
       "      <td>0</td>\n",
       "      <td>14</td>\n",
       "      <td>30.0000</td>\n",
       "      <td>30</td>\n",
       "      <td>2</td>\n",
       "    </tr>\n",
       "    <tr>\n",
       "      <th>888</th>\n",
       "      <td>889</td>\n",
       "      <td>0</td>\n",
       "      <td>3</td>\n",
       "      <td>413</td>\n",
       "      <td>0</td>\n",
       "      <td>28.0</td>\n",
       "      <td>1</td>\n",
       "      <td>2</td>\n",
       "      <td>675</td>\n",
       "      <td>23.4500</td>\n",
       "      <td>146</td>\n",
       "      <td>2</td>\n",
       "    </tr>\n",
       "    <tr>\n",
       "      <th>889</th>\n",
       "      <td>890</td>\n",
       "      <td>1</td>\n",
       "      <td>1</td>\n",
       "      <td>81</td>\n",
       "      <td>1</td>\n",
       "      <td>26.0</td>\n",
       "      <td>0</td>\n",
       "      <td>0</td>\n",
       "      <td>8</td>\n",
       "      <td>30.0000</td>\n",
       "      <td>60</td>\n",
       "      <td>0</td>\n",
       "    </tr>\n",
       "    <tr>\n",
       "      <th>890</th>\n",
       "      <td>891</td>\n",
       "      <td>0</td>\n",
       "      <td>3</td>\n",
       "      <td>220</td>\n",
       "      <td>1</td>\n",
       "      <td>32.0</td>\n",
       "      <td>0</td>\n",
       "      <td>0</td>\n",
       "      <td>466</td>\n",
       "      <td>7.7500</td>\n",
       "      <td>146</td>\n",
       "      <td>1</td>\n",
       "    </tr>\n",
       "  </tbody>\n",
       "</table>\n",
       "<p>891 rows × 12 columns</p>\n",
       "</div>"
      ],
      "text/plain": [
       "     PassengerId  Survived  Pclass  Name  Sex   Age  SibSp  Parch  Ticket  \\\n",
       "0              1         0       3   108    1  22.0      1      0     523   \n",
       "1              2         1       1   190    0  38.0      1      0     596   \n",
       "2              3         1       3   353    0  26.0      0      0     669   \n",
       "3              4         1       1   272    0  35.0      1      0      49   \n",
       "4              5         0       3    15    1  35.0      0      0     472   \n",
       "..           ...       ...     ...   ...  ...   ...    ...    ...     ...   \n",
       "886          887         0       2   548    1  27.0      0      0     101   \n",
       "887          888         1       1   303    0  19.0      0      0      14   \n",
       "888          889         0       3   413    0  28.0      1      2     675   \n",
       "889          890         1       1    81    1  26.0      0      0       8   \n",
       "890          891         0       3   220    1  32.0      0      0     466   \n",
       "\n",
       "        Fare  Cabin  Embarked  \n",
       "0     7.2500    146         2  \n",
       "1    71.2833     81         0  \n",
       "2     7.9250    146         2  \n",
       "3    53.1000     55         2  \n",
       "4     8.0500    146         2  \n",
       "..       ...    ...       ...  \n",
       "886  13.0000    146         2  \n",
       "887  30.0000     30         2  \n",
       "888  23.4500    146         2  \n",
       "889  30.0000     60         0  \n",
       "890   7.7500    146         1  \n",
       "\n",
       "[891 rows x 12 columns]"
      ]
     },
     "execution_count": 40,
     "metadata": {},
     "output_type": "execute_result"
    }
   ],
   "source": [
    "df"
   ]
  },
  {
   "cell_type": "code",
   "execution_count": 41,
   "id": "f9f1bae2",
   "metadata": {},
   "outputs": [
    {
     "data": {
      "text/plain": [
       "PassengerId    891\n",
       "Survived         2\n",
       "Pclass           3\n",
       "Name           891\n",
       "Sex              2\n",
       "Age             88\n",
       "SibSp            7\n",
       "Parch            7\n",
       "Ticket         681\n",
       "Fare           248\n",
       "Cabin          148\n",
       "Embarked         3\n",
       "dtype: int64"
      ]
     },
     "execution_count": 41,
     "metadata": {},
     "output_type": "execute_result"
    }
   ],
   "source": [
    "#Checking unique values in each column\n",
    "\n",
    "df.nunique()"
   ]
  },
  {
   "cell_type": "code",
   "execution_count": 42,
   "id": "a7586f7f",
   "metadata": {},
   "outputs": [
    {
     "data": {
      "text/plain": [
       "array([1, 0, 3, 4, 2, 5, 8])"
      ]
     },
     "execution_count": 42,
     "metadata": {},
     "output_type": "execute_result"
    }
   ],
   "source": [
    "#values from 0 to 8 except 6 and 7 for SibSp\n",
    "\n",
    "df['SibSp'].unique()"
   ]
  },
  {
   "cell_type": "code",
   "execution_count": 43,
   "id": "7ea1ae22",
   "metadata": {},
   "outputs": [
    {
     "data": {
      "text/plain": [
       "array([0, 1, 2, 5, 3, 4, 6])"
      ]
     },
     "execution_count": 43,
     "metadata": {},
     "output_type": "execute_result"
    }
   ],
   "source": [
    "#Values from 0 to 6 for Parch\n",
    "\n",
    "df['Parch'].unique()"
   ]
  },
  {
   "cell_type": "markdown",
   "id": "460ee77a",
   "metadata": {},
   "source": [
    "# 3- Identifying and Removing Outliers"
   ]
  },
  {
   "cell_type": "code",
   "execution_count": 44,
   "id": "a08db33d",
   "metadata": {},
   "outputs": [
    {
     "data": {
      "image/png": "[encoded data removed]",
      "text/plain": [
       "<Figure size 1080x720 with 12 Axes>"
      ]
     },
     "metadata": {},
     "output_type": "display_data"
    }
   ],
   "source": [
    "plt.figure(figsize=(15,10),facecolor='yellow')\n",
    "graph=1 \n",
    "\n",
    "for column in df:\n",
    "\n",
    "    plt.subplot(4,4,graph)\n",
    "\n",
    "    sns.boxplot(df[column],color='green',orient='v')\n",
    "\n",
    "    plt.xlabel(column,fontsize=10)\n",
    "\n",
    "    graph+=1\n",
    "\n",
    "    plt.tight_layout()"
   ]
  },
  {
   "cell_type": "markdown",
   "id": "858be407",
   "metadata": {},
   "source": [
    "Features:\n",
    "* Categorical/Nominal: Variables that can be divided into multiple categories but having no order or priority. \n",
    "  Eg. Embarked (C = Cherbourg; Q = Queenstown; S = Southampton)\n",
    "* Binary: A subtype of categorical features, where the variable has only two categories. \n",
    "  Eg: Sex (Male/Female)\n",
    "* Ordinal: They are similar to categorical features but they have an order(i.e can be sorted). \n",
    "  Eg. Pclass (1, 2, 3)\n",
    "* Continuous: They can take up any value between the minimum and maximum values in a column. \n",
    "  Eg. Age, Fare\n",
    "* Count: They represent the count of a variable. \n",
    "  Eg. SibSp, Parch\n",
    "* No Use: They don’t contribute to the final outcome of an ML model. Here, PassengerId, Name, Cabin and Ticket might     fall into this category."
   ]
  },
  {
   "cell_type": "markdown",
   "id": "32c5e922",
   "metadata": {},
   "source": [
    "* Continuous Data is present only in Age and Fare. So we can remove outliers of those groups only and ignore the others. "
   ]
  },
  {
   "cell_type": "markdown",
   "id": "8ca2974f",
   "metadata": {},
   "source": [
    "# Zscore method"
   ]
  },
  {
   "cell_type": "code",
   "execution_count": 45,
   "id": "6e5f06a0",
   "metadata": {},
   "outputs": [],
   "source": [
    "dfCont_Cols = df[[\"Age\", \"Fare\"]]"
   ]
  },
  {
   "cell_type": "code",
   "execution_count": 46,
   "id": "3a99cd85",
   "metadata": {},
   "outputs": [
    {
     "data": {
      "text/html": [
       "<div>\n",
       "<style scoped>\n",
       "    .dataframe tbody tr th:only-of-type {\n",
       "        vertical-align: middle;\n",
       "    }\n",
       "\n",
       "    .dataframe tbody tr th {\n",
       "        vertical-align: top;\n",
       "    }\n",
       "\n",
       "    .dataframe thead th {\n",
       "        text-align: right;\n",
       "    }\n",
       "</style>\n",
       "<table border=\"1\" class=\"dataframe\">\n",
       "  <thead>\n",
       "    <tr style=\"text-align: right;\">\n",
       "      <th></th>\n",
       "      <th>PassengerId</th>\n",
       "      <th>Survived</th>\n",
       "      <th>Pclass</th>\n",
       "      <th>Name</th>\n",
       "      <th>Sex</th>\n",
       "      <th>Age</th>\n",
       "      <th>SibSp</th>\n",
       "      <th>Parch</th>\n",
       "      <th>Ticket</th>\n",
       "      <th>Fare</th>\n",
       "      <th>Cabin</th>\n",
       "      <th>Embarked</th>\n",
       "    </tr>\n",
       "  </thead>\n",
       "  <tbody>\n",
       "    <tr>\n",
       "      <th>0</th>\n",
       "      <td>1</td>\n",
       "      <td>0</td>\n",
       "      <td>3</td>\n",
       "      <td>108</td>\n",
       "      <td>1</td>\n",
       "      <td>22.0</td>\n",
       "      <td>1</td>\n",
       "      <td>0</td>\n",
       "      <td>523</td>\n",
       "      <td>7.2500</td>\n",
       "      <td>146</td>\n",
       "      <td>2</td>\n",
       "    </tr>\n",
       "    <tr>\n",
       "      <th>1</th>\n",
       "      <td>2</td>\n",
       "      <td>1</td>\n",
       "      <td>1</td>\n",
       "      <td>190</td>\n",
       "      <td>0</td>\n",
       "      <td>38.0</td>\n",
       "      <td>1</td>\n",
       "      <td>0</td>\n",
       "      <td>596</td>\n",
       "      <td>71.2833</td>\n",
       "      <td>81</td>\n",
       "      <td>0</td>\n",
       "    </tr>\n",
       "    <tr>\n",
       "      <th>2</th>\n",
       "      <td>3</td>\n",
       "      <td>1</td>\n",
       "      <td>3</td>\n",
       "      <td>353</td>\n",
       "      <td>0</td>\n",
       "      <td>26.0</td>\n",
       "      <td>0</td>\n",
       "      <td>0</td>\n",
       "      <td>669</td>\n",
       "      <td>7.9250</td>\n",
       "      <td>146</td>\n",
       "      <td>2</td>\n",
       "    </tr>\n",
       "    <tr>\n",
       "      <th>3</th>\n",
       "      <td>4</td>\n",
       "      <td>1</td>\n",
       "      <td>1</td>\n",
       "      <td>272</td>\n",
       "      <td>0</td>\n",
       "      <td>35.0</td>\n",
       "      <td>1</td>\n",
       "      <td>0</td>\n",
       "      <td>49</td>\n",
       "      <td>53.1000</td>\n",
       "      <td>55</td>\n",
       "      <td>2</td>\n",
       "    </tr>\n",
       "    <tr>\n",
       "      <th>4</th>\n",
       "      <td>5</td>\n",
       "      <td>0</td>\n",
       "      <td>3</td>\n",
       "      <td>15</td>\n",
       "      <td>1</td>\n",
       "      <td>35.0</td>\n",
       "      <td>0</td>\n",
       "      <td>0</td>\n",
       "      <td>472</td>\n",
       "      <td>8.0500</td>\n",
       "      <td>146</td>\n",
       "      <td>2</td>\n",
       "    </tr>\n",
       "    <tr>\n",
       "      <th>...</th>\n",
       "      <td>...</td>\n",
       "      <td>...</td>\n",
       "      <td>...</td>\n",
       "      <td>...</td>\n",
       "      <td>...</td>\n",
       "      <td>...</td>\n",
       "      <td>...</td>\n",
       "      <td>...</td>\n",
       "      <td>...</td>\n",
       "      <td>...</td>\n",
       "      <td>...</td>\n",
       "      <td>...</td>\n",
       "    </tr>\n",
       "    <tr>\n",
       "      <th>886</th>\n",
       "      <td>887</td>\n",
       "      <td>0</td>\n",
       "      <td>2</td>\n",
       "      <td>548</td>\n",
       "      <td>1</td>\n",
       "      <td>27.0</td>\n",
       "      <td>0</td>\n",
       "      <td>0</td>\n",
       "      <td>101</td>\n",
       "      <td>13.0000</td>\n",
       "      <td>146</td>\n",
       "      <td>2</td>\n",
       "    </tr>\n",
       "    <tr>\n",
       "      <th>887</th>\n",
       "      <td>888</td>\n",
       "      <td>1</td>\n",
       "      <td>1</td>\n",
       "      <td>303</td>\n",
       "      <td>0</td>\n",
       "      <td>19.0</td>\n",
       "      <td>0</td>\n",
       "      <td>0</td>\n",
       "      <td>14</td>\n",
       "      <td>30.0000</td>\n",
       "      <td>30</td>\n",
       "      <td>2</td>\n",
       "    </tr>\n",
       "    <tr>\n",
       "      <th>888</th>\n",
       "      <td>889</td>\n",
       "      <td>0</td>\n",
       "      <td>3</td>\n",
       "      <td>413</td>\n",
       "      <td>0</td>\n",
       "      <td>28.0</td>\n",
       "      <td>1</td>\n",
       "      <td>2</td>\n",
       "      <td>675</td>\n",
       "      <td>23.4500</td>\n",
       "      <td>146</td>\n",
       "      <td>2</td>\n",
       "    </tr>\n",
       "    <tr>\n",
       "      <th>889</th>\n",
       "      <td>890</td>\n",
       "      <td>1</td>\n",
       "      <td>1</td>\n",
       "      <td>81</td>\n",
       "      <td>1</td>\n",
       "      <td>26.0</td>\n",
       "      <td>0</td>\n",
       "      <td>0</td>\n",
       "      <td>8</td>\n",
       "      <td>30.0000</td>\n",
       "      <td>60</td>\n",
       "      <td>0</td>\n",
       "    </tr>\n",
       "    <tr>\n",
       "      <th>890</th>\n",
       "      <td>891</td>\n",
       "      <td>0</td>\n",
       "      <td>3</td>\n",
       "      <td>220</td>\n",
       "      <td>1</td>\n",
       "      <td>32.0</td>\n",
       "      <td>0</td>\n",
       "      <td>0</td>\n",
       "      <td>466</td>\n",
       "      <td>7.7500</td>\n",
       "      <td>146</td>\n",
       "      <td>1</td>\n",
       "    </tr>\n",
       "  </tbody>\n",
       "</table>\n",
       "<p>864 rows × 12 columns</p>\n",
       "</div>"
      ],
      "text/plain": [
       "     PassengerId  Survived  Pclass  Name  Sex   Age  SibSp  Parch  Ticket  \\\n",
       "0              1         0       3   108    1  22.0      1      0     523   \n",
       "1              2         1       1   190    0  38.0      1      0     596   \n",
       "2              3         1       3   353    0  26.0      0      0     669   \n",
       "3              4         1       1   272    0  35.0      1      0      49   \n",
       "4              5         0       3    15    1  35.0      0      0     472   \n",
       "..           ...       ...     ...   ...  ...   ...    ...    ...     ...   \n",
       "886          887         0       2   548    1  27.0      0      0     101   \n",
       "887          888         1       1   303    0  19.0      0      0      14   \n",
       "888          889         0       3   413    0  28.0      1      2     675   \n",
       "889          890         1       1    81    1  26.0      0      0       8   \n",
       "890          891         0       3   220    1  32.0      0      0     466   \n",
       "\n",
       "        Fare  Cabin  Embarked  \n",
       "0     7.2500    146         2  \n",
       "1    71.2833     81         0  \n",
       "2     7.9250    146         2  \n",
       "3    53.1000     55         2  \n",
       "4     8.0500    146         2  \n",
       "..       ...    ...       ...  \n",
       "886  13.0000    146         2  \n",
       "887  30.0000     30         2  \n",
       "888  23.4500    146         2  \n",
       "889  30.0000     60         0  \n",
       "890   7.7500    146         1  \n",
       "\n",
       "[864 rows x 12 columns]"
      ]
     },
     "execution_count": 46,
     "metadata": {},
     "output_type": "execute_result"
    }
   ],
   "source": [
    "from scipy.stats import zscore\n",
    "z=np.abs(zscore(dfCont_Cols))\n",
    "df_new=df[(z<3).all(axis=1)]\n",
    "df_new"
   ]
  },
  {
   "cell_type": "code",
   "execution_count": 47,
   "id": "3d642b6d",
   "metadata": {},
   "outputs": [
    {
     "data": {
      "text/plain": [
       "3.0303030303030303"
      ]
     },
     "execution_count": 47,
     "metadata": {},
     "output_type": "execute_result"
    }
   ],
   "source": [
    "# finding the loss percentage\n",
    "\n",
    "dfloss=(((891-864)/891)*100)\n",
    "dfloss"
   ]
  },
  {
   "cell_type": "markdown",
   "id": "294df821",
   "metadata": {},
   "source": [
    "Since the data loss percentage is just 3.03% we can continue with this model"
   ]
  },
  {
   "cell_type": "code",
   "execution_count": 48,
   "id": "5499978c",
   "metadata": {},
   "outputs": [
    {
     "data": {
      "text/plain": [
       "(864, 12)"
      ]
     },
     "execution_count": 48,
     "metadata": {},
     "output_type": "execute_result"
    }
   ],
   "source": [
    "df_new.shape"
   ]
  },
  {
   "cell_type": "markdown",
   "id": "fb6398b4",
   "metadata": {},
   "source": [
    "# 4-Skewness"
   ]
  },
  {
   "cell_type": "code",
   "execution_count": 49,
   "id": "c5a8e1ce",
   "metadata": {},
   "outputs": [
    {
     "data": {
      "text/plain": [
       "PassengerId    0.011620\n",
       "Survived       0.502011\n",
       "Pclass        -0.708375\n",
       "Name          -0.014382\n",
       "Sex           -0.632203\n",
       "Age            0.321096\n",
       "SibSp          3.751753\n",
       "Parch          2.840412\n",
       "Ticket         0.012485\n",
       "Fare           2.257178\n",
       "Cabin         -2.401124\n",
       "Embarked      -1.328443\n",
       "dtype: float64"
      ]
     },
     "execution_count": 49,
     "metadata": {},
     "output_type": "execute_result"
    }
   ],
   "source": [
    "df_new.skew()"
   ]
  },
  {
   "cell_type": "markdown",
   "id": "b41a0ebd",
   "metadata": {},
   "source": [
    "Skewness is present in the following when threshold is taken as +/-0.50\n",
    "* Pclass\n",
    "* Sex\n",
    "* SibSP\n",
    "* Parch\n",
    "* Fare\n",
    "* Cabin\n",
    "* Embarked\n"
   ]
  },
  {
   "cell_type": "code",
   "execution_count": 50,
   "id": "2b6e1aa3",
   "metadata": {},
   "outputs": [],
   "source": [
    "#Removing the Skewness\n",
    "\n",
    "from sklearn.preprocessing import PowerTransformer\n",
    "scaler = PowerTransformer(method='yeo-johnson')\n",
    "cols=['Pclass','Sex','SibSp','Parch','Fare','Cabin','Embarked']\n",
    "df_new[cols] = scaler.fit_transform(df_new[cols].values)"
   ]
  },
  {
   "cell_type": "code",
   "execution_count": 51,
   "id": "3478561b",
   "metadata": {},
   "outputs": [
    {
     "data": {
      "text/plain": [
       "PassengerId    0.011620\n",
       "Survived       0.502011\n",
       "Pclass        -0.480433\n",
       "Name          -0.014382\n",
       "Sex           -0.632203\n",
       "Age            0.321096\n",
       "SibSp          0.805038\n",
       "Parch          1.277888\n",
       "Ticket         0.012485\n",
       "Fare          -0.009095\n",
       "Cabin         -1.728778\n",
       "Embarked      -1.109262\n",
       "dtype: float64"
      ]
     },
     "execution_count": 51,
     "metadata": {},
     "output_type": "execute_result"
    }
   ],
   "source": [
    "df_new.skew()"
   ]
  },
  {
   "cell_type": "markdown",
   "id": "5d559b8c",
   "metadata": {},
   "source": [
    "The skewness is removed upto a limit"
   ]
  },
  {
   "cell_type": "markdown",
   "id": "e0ac622d",
   "metadata": {},
   "source": [
    "# Correlation"
   ]
  },
  {
   "cell_type": "code",
   "execution_count": 52,
   "id": "c72aacab",
   "metadata": {},
   "outputs": [
    {
     "data": {
      "text/html": [
       "<div>\n",
       "<style scoped>\n",
       "    .dataframe tbody tr th:only-of-type {\n",
       "        vertical-align: middle;\n",
       "    }\n",
       "\n",
       "    .dataframe tbody tr th {\n",
       "        vertical-align: top;\n",
       "    }\n",
       "\n",
       "    .dataframe thead th {\n",
       "        text-align: right;\n",
       "    }\n",
       "</style>\n",
       "<table border=\"1\" class=\"dataframe\">\n",
       "  <thead>\n",
       "    <tr style=\"text-align: right;\">\n",
       "      <th></th>\n",
       "      <th>PassengerId</th>\n",
       "      <th>Survived</th>\n",
       "      <th>Pclass</th>\n",
       "      <th>Name</th>\n",
       "      <th>Sex</th>\n",
       "      <th>Age</th>\n",
       "      <th>SibSp</th>\n",
       "      <th>Parch</th>\n",
       "      <th>Ticket</th>\n",
       "      <th>Fare</th>\n",
       "      <th>Cabin</th>\n",
       "      <th>Embarked</th>\n",
       "    </tr>\n",
       "  </thead>\n",
       "  <tbody>\n",
       "    <tr>\n",
       "      <th>PassengerId</th>\n",
       "      <td>1.000000</td>\n",
       "      <td>-0.014399</td>\n",
       "      <td>-0.029821</td>\n",
       "      <td>-0.043518</td>\n",
       "      <td>0.047309</td>\n",
       "      <td>0.026087</td>\n",
       "      <td>-0.053324</td>\n",
       "      <td>0.009120</td>\n",
       "      <td>-0.064635</td>\n",
       "      <td>-0.017867</td>\n",
       "      <td>-0.024157</td>\n",
       "      <td>0.016490</td>\n",
       "    </tr>\n",
       "    <tr>\n",
       "      <th>Survived</th>\n",
       "      <td>-0.014399</td>\n",
       "      <td>1.000000</td>\n",
       "      <td>-0.334725</td>\n",
       "      <td>-0.053716</td>\n",
       "      <td>-0.534012</td>\n",
       "      <td>-0.058724</td>\n",
       "      <td>0.103005</td>\n",
       "      <td>0.141854</td>\n",
       "      <td>-0.175168</td>\n",
       "      <td>0.322012</td>\n",
       "      <td>-0.292538</td>\n",
       "      <td>-0.153775</td>\n",
       "    </tr>\n",
       "    <tr>\n",
       "      <th>Pclass</th>\n",
       "      <td>-0.029821</td>\n",
       "      <td>-0.334725</td>\n",
       "      <td>1.000000</td>\n",
       "      <td>0.039166</td>\n",
       "      <td>0.129101</td>\n",
       "      <td>-0.335783</td>\n",
       "      <td>-0.060038</td>\n",
       "      <td>-0.001549</td>\n",
       "      <td>0.359153</td>\n",
       "      <td>-0.601053</td>\n",
       "      <td>0.679183</td>\n",
       "      <td>0.054069</td>\n",
       "    </tr>\n",
       "    <tr>\n",
       "      <th>Name</th>\n",
       "      <td>-0.043518</td>\n",
       "      <td>-0.053716</td>\n",
       "      <td>0.039166</td>\n",
       "      <td>1.000000</td>\n",
       "      <td>0.020680</td>\n",
       "      <td>0.073091</td>\n",
       "      <td>-0.091281</td>\n",
       "      <td>-0.045219</td>\n",
       "      <td>0.058393</td>\n",
       "      <td>-0.039313</td>\n",
       "      <td>0.028168</td>\n",
       "      <td>-0.015137</td>\n",
       "    </tr>\n",
       "    <tr>\n",
       "      <th>Sex</th>\n",
       "      <td>0.047309</td>\n",
       "      <td>-0.534012</td>\n",
       "      <td>0.129101</td>\n",
       "      <td>0.020680</td>\n",
       "      <td>1.000000</td>\n",
       "      <td>0.065600</td>\n",
       "      <td>-0.198531</td>\n",
       "      <td>-0.249661</td>\n",
       "      <td>0.061305</td>\n",
       "      <td>-0.262301</td>\n",
       "      <td>0.117309</td>\n",
       "      <td>0.114884</td>\n",
       "    </tr>\n",
       "    <tr>\n",
       "      <th>Age</th>\n",
       "      <td>0.026087</td>\n",
       "      <td>-0.058724</td>\n",
       "      <td>-0.335783</td>\n",
       "      <td>0.073091</td>\n",
       "      <td>0.065600</td>\n",
       "      <td>1.000000</td>\n",
       "      <td>-0.157487</td>\n",
       "      <td>-0.270779</td>\n",
       "      <td>-0.097952</td>\n",
       "      <td>0.110097</td>\n",
       "      <td>-0.268519</td>\n",
       "      <td>-0.000692</td>\n",
       "    </tr>\n",
       "    <tr>\n",
       "      <th>SibSp</th>\n",
       "      <td>-0.053324</td>\n",
       "      <td>0.103005</td>\n",
       "      <td>-0.060038</td>\n",
       "      <td>-0.091281</td>\n",
       "      <td>-0.198531</td>\n",
       "      <td>-0.157487</td>\n",
       "      <td>1.000000</td>\n",
       "      <td>0.436627</td>\n",
       "      <td>0.012016</td>\n",
       "      <td>0.432721</td>\n",
       "      <td>-0.046600</td>\n",
       "      <td>-0.004257</td>\n",
       "    </tr>\n",
       "    <tr>\n",
       "      <th>Parch</th>\n",
       "      <td>0.009120</td>\n",
       "      <td>0.141854</td>\n",
       "      <td>-0.001549</td>\n",
       "      <td>-0.045219</td>\n",
       "      <td>-0.249661</td>\n",
       "      <td>-0.270779</td>\n",
       "      <td>0.436627</td>\n",
       "      <td>1.000000</td>\n",
       "      <td>0.003003</td>\n",
       "      <td>0.354063</td>\n",
       "      <td>-0.008030</td>\n",
       "      <td>0.029787</td>\n",
       "    </tr>\n",
       "    <tr>\n",
       "      <th>Ticket</th>\n",
       "      <td>-0.064635</td>\n",
       "      <td>-0.175168</td>\n",
       "      <td>0.359153</td>\n",
       "      <td>0.058393</td>\n",
       "      <td>0.061305</td>\n",
       "      <td>-0.097952</td>\n",
       "      <td>0.012016</td>\n",
       "      <td>0.003003</td>\n",
       "      <td>1.000000</td>\n",
       "      <td>-0.153268</td>\n",
       "      <td>0.277254</td>\n",
       "      <td>0.022412</td>\n",
       "    </tr>\n",
       "    <tr>\n",
       "      <th>Fare</th>\n",
       "      <td>-0.017867</td>\n",
       "      <td>0.322012</td>\n",
       "      <td>-0.601053</td>\n",
       "      <td>-0.039313</td>\n",
       "      <td>-0.262301</td>\n",
       "      <td>0.110097</td>\n",
       "      <td>0.432721</td>\n",
       "      <td>0.354063</td>\n",
       "      <td>-0.153268</td>\n",
       "      <td>1.000000</td>\n",
       "      <td>-0.537076</td>\n",
       "      <td>-0.117631</td>\n",
       "    </tr>\n",
       "    <tr>\n",
       "      <th>Cabin</th>\n",
       "      <td>-0.024157</td>\n",
       "      <td>-0.292538</td>\n",
       "      <td>0.679183</td>\n",
       "      <td>0.028168</td>\n",
       "      <td>0.117309</td>\n",
       "      <td>-0.268519</td>\n",
       "      <td>-0.046600</td>\n",
       "      <td>-0.008030</td>\n",
       "      <td>0.277254</td>\n",
       "      <td>-0.537076</td>\n",
       "      <td>1.000000</td>\n",
       "      <td>0.153391</td>\n",
       "    </tr>\n",
       "    <tr>\n",
       "      <th>Embarked</th>\n",
       "      <td>0.016490</td>\n",
       "      <td>-0.153775</td>\n",
       "      <td>0.054069</td>\n",
       "      <td>-0.015137</td>\n",
       "      <td>0.114884</td>\n",
       "      <td>-0.000692</td>\n",
       "      <td>-0.004257</td>\n",
       "      <td>0.029787</td>\n",
       "      <td>0.022412</td>\n",
       "      <td>-0.117631</td>\n",
       "      <td>0.153391</td>\n",
       "      <td>1.000000</td>\n",
       "    </tr>\n",
       "  </tbody>\n",
       "</table>\n",
       "</div>"
      ],
      "text/plain": [
       "             PassengerId  Survived    Pclass      Name       Sex       Age  \\\n",
       "PassengerId     1.000000 -0.014399 -0.029821 -0.043518  0.047309  0.026087   \n",
       "Survived       -0.014399  1.000000 -0.334725 -0.053716 -0.534012 -0.058724   \n",
       "Pclass         -0.029821 -0.334725  1.000000  0.039166  0.129101 -0.335783   \n",
       "Name           -0.043518 -0.053716  0.039166  1.000000  0.020680  0.073091   \n",
       "Sex             0.047309 -0.534012  0.129101  0.020680  1.000000  0.065600   \n",
       "Age             0.026087 -0.058724 -0.335783  0.073091  0.065600  1.000000   \n",
       "SibSp          -0.053324  0.103005 -0.060038 -0.091281 -0.198531 -0.157487   \n",
       "Parch           0.009120  0.141854 -0.001549 -0.045219 -0.249661 -0.270779   \n",
       "Ticket         -0.064635 -0.175168  0.359153  0.058393  0.061305 -0.097952   \n",
       "Fare           -0.017867  0.322012 -0.601053 -0.039313 -0.262301  0.110097   \n",
       "Cabin          -0.024157 -0.292538  0.679183  0.028168  0.117309 -0.268519   \n",
       "Embarked        0.016490 -0.153775  0.054069 -0.015137  0.114884 -0.000692   \n",
       "\n",
       "                SibSp     Parch    Ticket      Fare     Cabin  Embarked  \n",
       "PassengerId -0.053324  0.009120 -0.064635 -0.017867 -0.024157  0.016490  \n",
       "Survived     0.103005  0.141854 -0.175168  0.322012 -0.292538 -0.153775  \n",
       "Pclass      -0.060038 -0.001549  0.359153 -0.601053  0.679183  0.054069  \n",
       "Name        -0.091281 -0.045219  0.058393 -0.039313  0.028168 -0.015137  \n",
       "Sex         -0.198531 -0.249661  0.061305 -0.262301  0.117309  0.114884  \n",
       "Age         -0.157487 -0.270779 -0.097952  0.110097 -0.268519 -0.000692  \n",
       "SibSp        1.000000  0.436627  0.012016  0.432721 -0.046600 -0.004257  \n",
       "Parch        0.436627  1.000000  0.003003  0.354063 -0.008030  0.029787  \n",
       "Ticket       0.012016  0.003003  1.000000 -0.153268  0.277254  0.022412  \n",
       "Fare         0.432721  0.354063 -0.153268  1.000000 -0.537076 -0.117631  \n",
       "Cabin       -0.046600 -0.008030  0.277254 -0.537076  1.000000  0.153391  \n",
       "Embarked    -0.004257  0.029787  0.022412 -0.117631  0.153391  1.000000  "
      ]
     },
     "execution_count": 52,
     "metadata": {},
     "output_type": "execute_result"
    }
   ],
   "source": [
    "df_new.corr()"
   ]
  },
  {
   "cell_type": "code",
   "execution_count": 53,
   "id": "8556094b",
   "metadata": {},
   "outputs": [
    {
     "data": {
      "text/plain": [
       "<AxesSubplot:>"
      ]
     },
     "execution_count": 53,
     "metadata": {},
     "output_type": "execute_result"
    },
    {
     "data": {
      "image/png": "[encoded data removed]",
      "text/plain": [
       "<Figure size 1080x720 with 2 Axes>"
      ]
     },
     "metadata": {},
     "output_type": "display_data"
    }
   ],
   "source": [
    "corr = df_new.corr()\n",
    "plt.subplots(figsize=(15,10))\n",
    "sns.heatmap(corr, xticklabels=corr.columns, yticklabels=corr.columns, annot=True, cmap=sns.diverging_palette(220, 20, as_cmap=True))"
   ]
  },
  {
   "cell_type": "markdown",
   "id": "ff5a9fb5",
   "metadata": {},
   "source": [
    "From the output, we know that: \n",
    "* The most correlated columns are Pclass and Cabin, with a Pearson correlation 0.68.\n",
    "* The second most correlated columns are Parch and SibSp, with a Pearson correlation 0.44.\n",
    "* Ticket and Pclass are somewhat correlated to each other with 0.32.\n",
    "\n",
    "* Our target variable Survived has highest positive corelation with Fare with a correlation of 0.32\n",
    "* Survived column is negatively correlated with Sex and Pclass with a Pearson correlation of -0.53 and -0.33 respectively as we have seen in bivariate analysis. "
   ]
  },
  {
   "cell_type": "code",
   "execution_count": 54,
   "id": "cd553c97",
   "metadata": {},
   "outputs": [
    {
     "data": {
      "image/png": "[encoded data removed]",
      "text/plain": [
       "<Figure size 1584x504 with 1 Axes>"
      ]
     },
     "metadata": {},
     "output_type": "display_data"
    }
   ],
   "source": [
    "plt.figure(figsize=(22,7))\n",
    "df_new.corr()['Survived'].sort_values(ascending=False).drop(['Survived']).plot(kind='bar',color='r')\n",
    "plt.xlabel('Feature',fontsize=14)\n",
    "plt.ylabel(\"Column with target\",fontsize=14)\n",
    "plt.title(\"Correlation\",fontsize=18)\n",
    "plt.show()"
   ]
  },
  {
   "cell_type": "markdown",
   "id": "6ca32bef",
   "metadata": {},
   "source": [
    "Highest Correlation of Survived is with Fare followed by Parch.\n",
    "\n",
    "Sex is also highly negatively correlated followed by Pclass and Cabin.\n",
    "\n",
    "PassengerID is the least correlated among all."
   ]
  },
  {
   "cell_type": "code",
   "execution_count": 55,
   "id": "5ef8dfdf",
   "metadata": {},
   "outputs": [],
   "source": [
    "#Dropping the No Use features in the Dataset\n",
    "df_new = df_new.drop([\"PassengerId\"],axis=1)"
   ]
  },
  {
   "cell_type": "code",
   "execution_count": 56,
   "id": "1816da3b",
   "metadata": {},
   "outputs": [],
   "source": [
    "df_new = df_new.drop([\"Name\"],axis=1)"
   ]
  },
  {
   "cell_type": "code",
   "execution_count": 57,
   "id": "0fa75ad2",
   "metadata": {},
   "outputs": [
    {
     "data": {
      "text/html": [
       "<div>\n",
       "<style scoped>\n",
       "    .dataframe tbody tr th:only-of-type {\n",
       "        vertical-align: middle;\n",
       "    }\n",
       "\n",
       "    .dataframe tbody tr th {\n",
       "        vertical-align: top;\n",
       "    }\n",
       "\n",
       "    .dataframe thead th {\n",
       "        text-align: right;\n",
       "    }\n",
       "</style>\n",
       "<table border=\"1\" class=\"dataframe\">\n",
       "  <thead>\n",
       "    <tr style=\"text-align: right;\">\n",
       "      <th></th>\n",
       "      <th>Survived</th>\n",
       "      <th>Pclass</th>\n",
       "      <th>Sex</th>\n",
       "      <th>Age</th>\n",
       "      <th>SibSp</th>\n",
       "      <th>Parch</th>\n",
       "      <th>Ticket</th>\n",
       "      <th>Fare</th>\n",
       "      <th>Cabin</th>\n",
       "      <th>Embarked</th>\n",
       "    </tr>\n",
       "  </thead>\n",
       "  <tbody>\n",
       "    <tr>\n",
       "      <th>0</th>\n",
       "      <td>0</td>\n",
       "      <td>0.842705</td>\n",
       "      <td>0.733053</td>\n",
       "      <td>22.0</td>\n",
       "      <td>1.374574</td>\n",
       "      <td>-0.548637</td>\n",
       "      <td>523</td>\n",
       "      <td>-0.882769</td>\n",
       "      <td>0.479825</td>\n",
       "      <td>0.597626</td>\n",
       "    </tr>\n",
       "    <tr>\n",
       "      <th>1</th>\n",
       "      <td>1</td>\n",
       "      <td>-1.501903</td>\n",
       "      <td>-1.364158</td>\n",
       "      <td>38.0</td>\n",
       "      <td>1.374574</td>\n",
       "      <td>-0.548637</td>\n",
       "      <td>596</td>\n",
       "      <td>1.529038</td>\n",
       "      <td>-2.217508</td>\n",
       "      <td>-1.816819</td>\n",
       "    </tr>\n",
       "    <tr>\n",
       "      <th>2</th>\n",
       "      <td>1</td>\n",
       "      <td>0.842705</td>\n",
       "      <td>-1.364158</td>\n",
       "      <td>26.0</td>\n",
       "      <td>-0.680931</td>\n",
       "      <td>-0.548637</td>\n",
       "      <td>669</td>\n",
       "      <td>-0.792444</td>\n",
       "      <td>0.479825</td>\n",
       "      <td>0.597626</td>\n",
       "    </tr>\n",
       "    <tr>\n",
       "      <th>3</th>\n",
       "      <td>1</td>\n",
       "      <td>-1.501903</td>\n",
       "      <td>-1.364158</td>\n",
       "      <td>35.0</td>\n",
       "      <td>1.374574</td>\n",
       "      <td>-0.548637</td>\n",
       "      <td>49</td>\n",
       "      <td>1.216581</td>\n",
       "      <td>-2.366021</td>\n",
       "      <td>0.597626</td>\n",
       "    </tr>\n",
       "    <tr>\n",
       "      <th>4</th>\n",
       "      <td>0</td>\n",
       "      <td>0.842705</td>\n",
       "      <td>0.733053</td>\n",
       "      <td>35.0</td>\n",
       "      <td>-0.680931</td>\n",
       "      <td>-0.548637</td>\n",
       "      <td>472</td>\n",
       "      <td>-0.776493</td>\n",
       "      <td>0.479825</td>\n",
       "      <td>0.597626</td>\n",
       "    </tr>\n",
       "    <tr>\n",
       "      <th>...</th>\n",
       "      <td>...</td>\n",
       "      <td>...</td>\n",
       "      <td>...</td>\n",
       "      <td>...</td>\n",
       "      <td>...</td>\n",
       "      <td>...</td>\n",
       "      <td>...</td>\n",
       "      <td>...</td>\n",
       "      <td>...</td>\n",
       "      <td>...</td>\n",
       "    </tr>\n",
       "    <tr>\n",
       "      <th>886</th>\n",
       "      <td>0</td>\n",
       "      <td>-0.676050</td>\n",
       "      <td>0.733053</td>\n",
       "      <td>27.0</td>\n",
       "      <td>-0.680931</td>\n",
       "      <td>-0.548637</td>\n",
       "      <td>101</td>\n",
       "      <td>-0.279691</td>\n",
       "      <td>0.479825</td>\n",
       "      <td>0.597626</td>\n",
       "    </tr>\n",
       "    <tr>\n",
       "      <th>887</th>\n",
       "      <td>1</td>\n",
       "      <td>-1.501903</td>\n",
       "      <td>-1.364158</td>\n",
       "      <td>19.0</td>\n",
       "      <td>-0.680931</td>\n",
       "      <td>-0.548637</td>\n",
       "      <td>14</td>\n",
       "      <td>0.607981</td>\n",
       "      <td>-2.393016</td>\n",
       "      <td>0.597626</td>\n",
       "    </tr>\n",
       "    <tr>\n",
       "      <th>888</th>\n",
       "      <td>0</td>\n",
       "      <td>0.842705</td>\n",
       "      <td>-1.364158</td>\n",
       "      <td>28.0</td>\n",
       "      <td>1.374574</td>\n",
       "      <td>1.879004</td>\n",
       "      <td>675</td>\n",
       "      <td>0.345275</td>\n",
       "      <td>0.479825</td>\n",
       "      <td>0.597626</td>\n",
       "    </tr>\n",
       "    <tr>\n",
       "      <th>889</th>\n",
       "      <td>1</td>\n",
       "      <td>-1.501903</td>\n",
       "      <td>0.733053</td>\n",
       "      <td>26.0</td>\n",
       "      <td>-0.680931</td>\n",
       "      <td>-0.548637</td>\n",
       "      <td>8</td>\n",
       "      <td>0.607981</td>\n",
       "      <td>-2.351551</td>\n",
       "      <td>-1.816819</td>\n",
       "    </tr>\n",
       "    <tr>\n",
       "      <th>890</th>\n",
       "      <td>0</td>\n",
       "      <td>0.842705</td>\n",
       "      <td>0.733053</td>\n",
       "      <td>32.0</td>\n",
       "      <td>-0.680931</td>\n",
       "      <td>-0.548637</td>\n",
       "      <td>466</td>\n",
       "      <td>-0.815167</td>\n",
       "      <td>0.479825</td>\n",
       "      <td>-1.304014</td>\n",
       "    </tr>\n",
       "  </tbody>\n",
       "</table>\n",
       "<p>864 rows × 10 columns</p>\n",
       "</div>"
      ],
      "text/plain": [
       "     Survived    Pclass       Sex   Age     SibSp     Parch  Ticket      Fare  \\\n",
       "0           0  0.842705  0.733053  22.0  1.374574 -0.548637     523 -0.882769   \n",
       "1           1 -1.501903 -1.364158  38.0  1.374574 -0.548637     596  1.529038   \n",
       "2           1  0.842705 -1.364158  26.0 -0.680931 -0.548637     669 -0.792444   \n",
       "3           1 -1.501903 -1.364158  35.0  1.374574 -0.548637      49  1.216581   \n",
       "4           0  0.842705  0.733053  35.0 -0.680931 -0.548637     472 -0.776493   \n",
       "..        ...       ...       ...   ...       ...       ...     ...       ...   \n",
       "886         0 -0.676050  0.733053  27.0 -0.680931 -0.548637     101 -0.279691   \n",
       "887         1 -1.501903 -1.364158  19.0 -0.680931 -0.548637      14  0.607981   \n",
       "888         0  0.842705 -1.364158  28.0  1.374574  1.879004     675  0.345275   \n",
       "889         1 -1.501903  0.733053  26.0 -0.680931 -0.548637       8  0.607981   \n",
       "890         0  0.842705  0.733053  32.0 -0.680931 -0.548637     466 -0.815167   \n",
       "\n",
       "        Cabin  Embarked  \n",
       "0    0.479825  0.597626  \n",
       "1   -2.217508 -1.816819  \n",
       "2    0.479825  0.597626  \n",
       "3   -2.366021  0.597626  \n",
       "4    0.479825  0.597626  \n",
       "..        ...       ...  \n",
       "886  0.479825  0.597626  \n",
       "887 -2.393016  0.597626  \n",
       "888  0.479825  0.597626  \n",
       "889 -2.351551 -1.816819  \n",
       "890  0.479825 -1.304014  \n",
       "\n",
       "[864 rows x 10 columns]"
      ]
     },
     "execution_count": 57,
     "metadata": {},
     "output_type": "execute_result"
    }
   ],
   "source": [
    "df_new"
   ]
  },
  {
   "cell_type": "markdown",
   "id": "ac8feac8",
   "metadata": {},
   "source": [
    "# Data Preprocessing"
   ]
  },
  {
   "cell_type": "code",
   "execution_count": 58,
   "id": "d5c0ee59",
   "metadata": {},
   "outputs": [],
   "source": [
    "#Assigning values of Independant variables to x and Dependant variable or target to y\n",
    "\n",
    "x = df_new.drop(\"Survived\",axis=1)\n",
    "y = df_new[\"Survived\"]"
   ]
  },
  {
   "cell_type": "code",
   "execution_count": 59,
   "id": "00d70dfb",
   "metadata": {},
   "outputs": [
    {
     "data": {
      "text/html": [
       "<div>\n",
       "<style scoped>\n",
       "    .dataframe tbody tr th:only-of-type {\n",
       "        vertical-align: middle;\n",
       "    }\n",
       "\n",
       "    .dataframe tbody tr th {\n",
       "        vertical-align: top;\n",
       "    }\n",
       "\n",
       "    .dataframe thead th {\n",
       "        text-align: right;\n",
       "    }\n",
       "</style>\n",
       "<table border=\"1\" class=\"dataframe\">\n",
       "  <thead>\n",
       "    <tr style=\"text-align: right;\">\n",
       "      <th></th>\n",
       "      <th>Pclass</th>\n",
       "      <th>Sex</th>\n",
       "      <th>Age</th>\n",
       "      <th>SibSp</th>\n",
       "      <th>Parch</th>\n",
       "      <th>Ticket</th>\n",
       "      <th>Fare</th>\n",
       "      <th>Cabin</th>\n",
       "      <th>Embarked</th>\n",
       "    </tr>\n",
       "  </thead>\n",
       "  <tbody>\n",
       "    <tr>\n",
       "      <th>0</th>\n",
       "      <td>0.842705</td>\n",
       "      <td>0.733053</td>\n",
       "      <td>22.0</td>\n",
       "      <td>1.374574</td>\n",
       "      <td>-0.548637</td>\n",
       "      <td>523</td>\n",
       "      <td>-0.882769</td>\n",
       "      <td>0.479825</td>\n",
       "      <td>0.597626</td>\n",
       "    </tr>\n",
       "    <tr>\n",
       "      <th>1</th>\n",
       "      <td>-1.501903</td>\n",
       "      <td>-1.364158</td>\n",
       "      <td>38.0</td>\n",
       "      <td>1.374574</td>\n",
       "      <td>-0.548637</td>\n",
       "      <td>596</td>\n",
       "      <td>1.529038</td>\n",
       "      <td>-2.217508</td>\n",
       "      <td>-1.816819</td>\n",
       "    </tr>\n",
       "    <tr>\n",
       "      <th>2</th>\n",
       "      <td>0.842705</td>\n",
       "      <td>-1.364158</td>\n",
       "      <td>26.0</td>\n",
       "      <td>-0.680931</td>\n",
       "      <td>-0.548637</td>\n",
       "      <td>669</td>\n",
       "      <td>-0.792444</td>\n",
       "      <td>0.479825</td>\n",
       "      <td>0.597626</td>\n",
       "    </tr>\n",
       "    <tr>\n",
       "      <th>3</th>\n",
       "      <td>-1.501903</td>\n",
       "      <td>-1.364158</td>\n",
       "      <td>35.0</td>\n",
       "      <td>1.374574</td>\n",
       "      <td>-0.548637</td>\n",
       "      <td>49</td>\n",
       "      <td>1.216581</td>\n",
       "      <td>-2.366021</td>\n",
       "      <td>0.597626</td>\n",
       "    </tr>\n",
       "    <tr>\n",
       "      <th>4</th>\n",
       "      <td>0.842705</td>\n",
       "      <td>0.733053</td>\n",
       "      <td>35.0</td>\n",
       "      <td>-0.680931</td>\n",
       "      <td>-0.548637</td>\n",
       "      <td>472</td>\n",
       "      <td>-0.776493</td>\n",
       "      <td>0.479825</td>\n",
       "      <td>0.597626</td>\n",
       "    </tr>\n",
       "    <tr>\n",
       "      <th>...</th>\n",
       "      <td>...</td>\n",
       "      <td>...</td>\n",
       "      <td>...</td>\n",
       "      <td>...</td>\n",
       "      <td>...</td>\n",
       "      <td>...</td>\n",
       "      <td>...</td>\n",
       "      <td>...</td>\n",
       "      <td>...</td>\n",
       "    </tr>\n",
       "    <tr>\n",
       "      <th>886</th>\n",
       "      <td>-0.676050</td>\n",
       "      <td>0.733053</td>\n",
       "      <td>27.0</td>\n",
       "      <td>-0.680931</td>\n",
       "      <td>-0.548637</td>\n",
       "      <td>101</td>\n",
       "      <td>-0.279691</td>\n",
       "      <td>0.479825</td>\n",
       "      <td>0.597626</td>\n",
       "    </tr>\n",
       "    <tr>\n",
       "      <th>887</th>\n",
       "      <td>-1.501903</td>\n",
       "      <td>-1.364158</td>\n",
       "      <td>19.0</td>\n",
       "      <td>-0.680931</td>\n",
       "      <td>-0.548637</td>\n",
       "      <td>14</td>\n",
       "      <td>0.607981</td>\n",
       "      <td>-2.393016</td>\n",
       "      <td>0.597626</td>\n",
       "    </tr>\n",
       "    <tr>\n",
       "      <th>888</th>\n",
       "      <td>0.842705</td>\n",
       "      <td>-1.364158</td>\n",
       "      <td>28.0</td>\n",
       "      <td>1.374574</td>\n",
       "      <td>1.879004</td>\n",
       "      <td>675</td>\n",
       "      <td>0.345275</td>\n",
       "      <td>0.479825</td>\n",
       "      <td>0.597626</td>\n",
       "    </tr>\n",
       "    <tr>\n",
       "      <th>889</th>\n",
       "      <td>-1.501903</td>\n",
       "      <td>0.733053</td>\n",
       "      <td>26.0</td>\n",
       "      <td>-0.680931</td>\n",
       "      <td>-0.548637</td>\n",
       "      <td>8</td>\n",
       "      <td>0.607981</td>\n",
       "      <td>-2.351551</td>\n",
       "      <td>-1.816819</td>\n",
       "    </tr>\n",
       "    <tr>\n",
       "      <th>890</th>\n",
       "      <td>0.842705</td>\n",
       "      <td>0.733053</td>\n",
       "      <td>32.0</td>\n",
       "      <td>-0.680931</td>\n",
       "      <td>-0.548637</td>\n",
       "      <td>466</td>\n",
       "      <td>-0.815167</td>\n",
       "      <td>0.479825</td>\n",
       "      <td>-1.304014</td>\n",
       "    </tr>\n",
       "  </tbody>\n",
       "</table>\n",
       "<p>864 rows × 9 columns</p>\n",
       "</div>"
      ],
      "text/plain": [
       "       Pclass       Sex   Age     SibSp     Parch  Ticket      Fare     Cabin  \\\n",
       "0    0.842705  0.733053  22.0  1.374574 -0.548637     523 -0.882769  0.479825   \n",
       "1   -1.501903 -1.364158  38.0  1.374574 -0.548637     596  1.529038 -2.217508   \n",
       "2    0.842705 -1.364158  26.0 -0.680931 -0.548637     669 -0.792444  0.479825   \n",
       "3   -1.501903 -1.364158  35.0  1.374574 -0.548637      49  1.216581 -2.366021   \n",
       "4    0.842705  0.733053  35.0 -0.680931 -0.548637     472 -0.776493  0.479825   \n",
       "..        ...       ...   ...       ...       ...     ...       ...       ...   \n",
       "886 -0.676050  0.733053  27.0 -0.680931 -0.548637     101 -0.279691  0.479825   \n",
       "887 -1.501903 -1.364158  19.0 -0.680931 -0.548637      14  0.607981 -2.393016   \n",
       "888  0.842705 -1.364158  28.0  1.374574  1.879004     675  0.345275  0.479825   \n",
       "889 -1.501903  0.733053  26.0 -0.680931 -0.548637       8  0.607981 -2.351551   \n",
       "890  0.842705  0.733053  32.0 -0.680931 -0.548637     466 -0.815167  0.479825   \n",
       "\n",
       "     Embarked  \n",
       "0    0.597626  \n",
       "1   -1.816819  \n",
       "2    0.597626  \n",
       "3    0.597626  \n",
       "4    0.597626  \n",
       "..        ...  \n",
       "886  0.597626  \n",
       "887  0.597626  \n",
       "888  0.597626  \n",
       "889 -1.816819  \n",
       "890 -1.304014  \n",
       "\n",
       "[864 rows x 9 columns]"
      ]
     },
     "execution_count": 59,
     "metadata": {},
     "output_type": "execute_result"
    }
   ],
   "source": [
    "x"
   ]
  },
  {
   "cell_type": "code",
   "execution_count": 60,
   "id": "baa85f72",
   "metadata": {},
   "outputs": [
    {
     "data": {
      "text/plain": [
       "0      0\n",
       "1      1\n",
       "2      1\n",
       "3      1\n",
       "4      0\n",
       "      ..\n",
       "886    0\n",
       "887    1\n",
       "888    0\n",
       "889    1\n",
       "890    0\n",
       "Name: Survived, Length: 864, dtype: int64"
      ]
     },
     "execution_count": 60,
     "metadata": {},
     "output_type": "execute_result"
    }
   ],
   "source": [
    "y"
   ]
  },
  {
   "cell_type": "code",
   "execution_count": 61,
   "id": "67bfaf86",
   "metadata": {},
   "outputs": [
    {
     "data": {
      "text/plain": [
       "array([0, 1])"
      ]
     },
     "execution_count": 61,
     "metadata": {},
     "output_type": "execute_result"
    }
   ],
   "source": [
    "y.unique()"
   ]
  },
  {
   "cell_type": "markdown",
   "id": "06e2e4b9",
   "metadata": {},
   "source": [
    "# Scaling the Data"
   ]
  },
  {
   "cell_type": "code",
   "execution_count": 62,
   "id": "30337c18",
   "metadata": {},
   "outputs": [],
   "source": [
    "#since the data is not scaled and have different values, we are using minmaxscaler\n",
    "\n",
    "from sklearn.preprocessing import MinMaxScaler\n",
    "mms = MinMaxScaler()\n",
    "x=pd.DataFrame(mms.fit_transform(x),columns=x.columns)"
   ]
  },
  {
   "cell_type": "code",
   "execution_count": 63,
   "id": "dac83ff6",
   "metadata": {},
   "outputs": [
    {
     "data": {
      "text/html": [
       "<div>\n",
       "<style scoped>\n",
       "    .dataframe tbody tr th:only-of-type {\n",
       "        vertical-align: middle;\n",
       "    }\n",
       "\n",
       "    .dataframe tbody tr th {\n",
       "        vertical-align: top;\n",
       "    }\n",
       "\n",
       "    .dataframe thead th {\n",
       "        text-align: right;\n",
       "    }\n",
       "</style>\n",
       "<table border=\"1\" class=\"dataframe\">\n",
       "  <thead>\n",
       "    <tr style=\"text-align: right;\">\n",
       "      <th></th>\n",
       "      <th>Pclass</th>\n",
       "      <th>Sex</th>\n",
       "      <th>Age</th>\n",
       "      <th>SibSp</th>\n",
       "      <th>Parch</th>\n",
       "      <th>Ticket</th>\n",
       "      <th>Fare</th>\n",
       "      <th>Cabin</th>\n",
       "      <th>Embarked</th>\n",
       "    </tr>\n",
       "  </thead>\n",
       "  <tbody>\n",
       "    <tr>\n",
       "      <th>0</th>\n",
       "      <td>1.000000</td>\n",
       "      <td>1.0</td>\n",
       "      <td>0.329064</td>\n",
       "      <td>0.83479</td>\n",
       "      <td>0.000000</td>\n",
       "      <td>0.769118</td>\n",
       "      <td>0.432617</td>\n",
       "      <td>0.968156</td>\n",
       "      <td>1.00000</td>\n",
       "    </tr>\n",
       "    <tr>\n",
       "      <th>1</th>\n",
       "      <td>0.000000</td>\n",
       "      <td>0.0</td>\n",
       "      <td>0.573041</td>\n",
       "      <td>0.83479</td>\n",
       "      <td>0.000000</td>\n",
       "      <td>0.876471</td>\n",
       "      <td>0.848336</td>\n",
       "      <td>0.059686</td>\n",
       "      <td>0.00000</td>\n",
       "    </tr>\n",
       "    <tr>\n",
       "      <th>2</th>\n",
       "      <td>1.000000</td>\n",
       "      <td>0.0</td>\n",
       "      <td>0.390058</td>\n",
       "      <td>0.00000</td>\n",
       "      <td>0.000000</td>\n",
       "      <td>0.983824</td>\n",
       "      <td>0.448186</td>\n",
       "      <td>0.968156</td>\n",
       "      <td>1.00000</td>\n",
       "    </tr>\n",
       "    <tr>\n",
       "      <th>3</th>\n",
       "      <td>0.000000</td>\n",
       "      <td>0.0</td>\n",
       "      <td>0.527295</td>\n",
       "      <td>0.83479</td>\n",
       "      <td>0.000000</td>\n",
       "      <td>0.072059</td>\n",
       "      <td>0.794478</td>\n",
       "      <td>0.009667</td>\n",
       "      <td>1.00000</td>\n",
       "    </tr>\n",
       "    <tr>\n",
       "      <th>4</th>\n",
       "      <td>1.000000</td>\n",
       "      <td>1.0</td>\n",
       "      <td>0.527295</td>\n",
       "      <td>0.00000</td>\n",
       "      <td>0.000000</td>\n",
       "      <td>0.694118</td>\n",
       "      <td>0.450936</td>\n",
       "      <td>0.968156</td>\n",
       "      <td>1.00000</td>\n",
       "    </tr>\n",
       "    <tr>\n",
       "      <th>...</th>\n",
       "      <td>...</td>\n",
       "      <td>...</td>\n",
       "      <td>...</td>\n",
       "      <td>...</td>\n",
       "      <td>...</td>\n",
       "      <td>...</td>\n",
       "      <td>...</td>\n",
       "      <td>...</td>\n",
       "      <td>...</td>\n",
       "    </tr>\n",
       "    <tr>\n",
       "      <th>859</th>\n",
       "      <td>0.352235</td>\n",
       "      <td>1.0</td>\n",
       "      <td>0.405306</td>\n",
       "      <td>0.00000</td>\n",
       "      <td>0.000000</td>\n",
       "      <td>0.148529</td>\n",
       "      <td>0.536569</td>\n",
       "      <td>0.968156</td>\n",
       "      <td>1.00000</td>\n",
       "    </tr>\n",
       "    <tr>\n",
       "      <th>860</th>\n",
       "      <td>0.000000</td>\n",
       "      <td>0.0</td>\n",
       "      <td>0.283318</td>\n",
       "      <td>0.00000</td>\n",
       "      <td>0.000000</td>\n",
       "      <td>0.020588</td>\n",
       "      <td>0.689575</td>\n",
       "      <td>0.000575</td>\n",
       "      <td>1.00000</td>\n",
       "    </tr>\n",
       "    <tr>\n",
       "      <th>861</th>\n",
       "      <td>1.000000</td>\n",
       "      <td>0.0</td>\n",
       "      <td>0.420555</td>\n",
       "      <td>0.83479</td>\n",
       "      <td>0.990972</td>\n",
       "      <td>0.992647</td>\n",
       "      <td>0.644293</td>\n",
       "      <td>0.968156</td>\n",
       "      <td>1.00000</td>\n",
       "    </tr>\n",
       "    <tr>\n",
       "      <th>862</th>\n",
       "      <td>0.000000</td>\n",
       "      <td>1.0</td>\n",
       "      <td>0.390058</td>\n",
       "      <td>0.00000</td>\n",
       "      <td>0.000000</td>\n",
       "      <td>0.011765</td>\n",
       "      <td>0.689575</td>\n",
       "      <td>0.014540</td>\n",
       "      <td>0.00000</td>\n",
       "    </tr>\n",
       "    <tr>\n",
       "      <th>863</th>\n",
       "      <td>1.000000</td>\n",
       "      <td>1.0</td>\n",
       "      <td>0.481549</td>\n",
       "      <td>0.00000</td>\n",
       "      <td>0.000000</td>\n",
       "      <td>0.685294</td>\n",
       "      <td>0.444270</td>\n",
       "      <td>0.968156</td>\n",
       "      <td>0.21239</td>\n",
       "    </tr>\n",
       "  </tbody>\n",
       "</table>\n",
       "<p>864 rows × 9 columns</p>\n",
       "</div>"
      ],
      "text/plain": [
       "       Pclass  Sex       Age    SibSp     Parch    Ticket      Fare     Cabin  \\\n",
       "0    1.000000  1.0  0.329064  0.83479  0.000000  0.769118  0.432617  0.968156   \n",
       "1    0.000000  0.0  0.573041  0.83479  0.000000  0.876471  0.848336  0.059686   \n",
       "2    1.000000  0.0  0.390058  0.00000  0.000000  0.983824  0.448186  0.968156   \n",
       "3    0.000000  0.0  0.527295  0.83479  0.000000  0.072059  0.794478  0.009667   \n",
       "4    1.000000  1.0  0.527295  0.00000  0.000000  0.694118  0.450936  0.968156   \n",
       "..        ...  ...       ...      ...       ...       ...       ...       ...   \n",
       "859  0.352235  1.0  0.405306  0.00000  0.000000  0.148529  0.536569  0.968156   \n",
       "860  0.000000  0.0  0.283318  0.00000  0.000000  0.020588  0.689575  0.000575   \n",
       "861  1.000000  0.0  0.420555  0.83479  0.990972  0.992647  0.644293  0.968156   \n",
       "862  0.000000  1.0  0.390058  0.00000  0.000000  0.011765  0.689575  0.014540   \n",
       "863  1.000000  1.0  0.481549  0.00000  0.000000  0.685294  0.444270  0.968156   \n",
       "\n",
       "     Embarked  \n",
       "0     1.00000  \n",
       "1     0.00000  \n",
       "2     1.00000  \n",
       "3     1.00000  \n",
       "4     1.00000  \n",
       "..        ...  \n",
       "859   1.00000  \n",
       "860   1.00000  \n",
       "861   1.00000  \n",
       "862   0.00000  \n",
       "863   0.21239  \n",
       "\n",
       "[864 rows x 9 columns]"
      ]
     },
     "execution_count": 63,
     "metadata": {},
     "output_type": "execute_result"
    }
   ],
   "source": [
    "x"
   ]
  },
  {
   "cell_type": "code",
   "execution_count": 64,
   "id": "059f4a34",
   "metadata": {},
   "outputs": [
    {
     "data": {
      "text/plain": [
       "0    537\n",
       "1    327\n",
       "Name: Survived, dtype: int64"
      ]
     },
     "execution_count": 64,
     "metadata": {},
     "output_type": "execute_result"
    }
   ],
   "source": [
    "y.value_counts()"
   ]
  },
  {
   "cell_type": "markdown",
   "id": "75718a2b",
   "metadata": {},
   "source": [
    "# SMOTE Analysis"
   ]
  },
  {
   "cell_type": "code",
   "execution_count": 65,
   "id": "c18d95f2",
   "metadata": {},
   "outputs": [],
   "source": [
    "#since the target is not balanced we can use SMOTE Analysis\n",
    "\n",
    "from imblearn.over_sampling import SMOTE\n",
    "s=SMOTE()\n",
    "x, y=s.fit_resample(x, y)"
   ]
  },
  {
   "cell_type": "code",
   "execution_count": 66,
   "id": "db13f10a",
   "metadata": {},
   "outputs": [
    {
     "data": {
      "text/plain": [
       "0    537\n",
       "1    537\n",
       "Name: Survived, dtype: int64"
      ]
     },
     "execution_count": 66,
     "metadata": {},
     "output_type": "execute_result"
    }
   ],
   "source": [
    "y.value_counts()"
   ]
  },
  {
   "cell_type": "markdown",
   "id": "cf00c93b",
   "metadata": {},
   "source": [
    "# Modeling"
   ]
  },
  {
   "cell_type": "code",
   "execution_count": 67,
   "id": "0ff11fda",
   "metadata": {},
   "outputs": [],
   "source": [
    "from sklearn.model_selection import train_test_split\n",
    "from sklearn.metrics import classification_report, confusion_matrix, roc_curve, roc_auc_score, accuracy_score\n",
    "from sklearn.metrics import classification_report\n",
    "from sklearn.model_selection import StratifiedKFold, GridSearchCV\n",
    "from sklearn.tree import DecisionTreeClassifier\n",
    "from sklearn.linear_model import LogisticRegression\n",
    "from sklearn.svm import SVC\n",
    "from sklearn.neighbors import KNeighborsClassifier\n",
    "from sklearn.ensemble import RandomForestClassifier\n",
    "from sklearn.model_selection import cross_val_score"
   ]
  },
  {
   "cell_type": "markdown",
   "id": "d4de9a04",
   "metadata": {},
   "source": [
    "# Finding Best Random state"
   ]
  },
  {
   "cell_type": "code",
   "execution_count": 68,
   "id": "ec3c2038",
   "metadata": {},
   "outputs": [
    {
     "name": "stdout",
     "output_type": "stream",
     "text": [
      "Best accuracy is  0.848297213622291  on Random_state  28\n"
     ]
    }
   ],
   "source": [
    "Accu=0\n",
    "RS=0\n",
    "for i in range(1,200):\n",
    "    x_train,x_test,y_train,y_test = train_test_split(x,y,test_size=.30, random_state =i)\n",
    "    dt = DecisionTreeClassifier()\n",
    "    dt.fit(x_train, y_train)\n",
    "    pred = dt.predict(x_test)\n",
    "    acc=accuracy_score(y_test, pred)\n",
    "    if acc>Accu:\n",
    "        Accu=acc\n",
    "        RS=i\n",
    "print(\"Best accuracy is \",Accu,\" on Random_state \",RS)"
   ]
  },
  {
   "cell_type": "code",
   "execution_count": 69,
   "id": "e8b61e7d",
   "metadata": {},
   "outputs": [
    {
     "name": "stdout",
     "output_type": "stream",
     "text": [
      "Best accuracy is  0.8328173374613003  on Random_state  39\n"
     ]
    }
   ],
   "source": [
    "Accu=0\n",
    "RS=0\n",
    "for i in range(1,200):\n",
    "    x_train,x_test,y_train,y_test = train_test_split(x,y,test_size=.30, random_state =i)\n",
    "    sv=SVC()\n",
    "    sv.fit(x_train, y_train)\n",
    "    pred = sv.predict(x_test)\n",
    "    acc=accuracy_score(y_test, pred)\n",
    "    if acc>Accu:\n",
    "        Accu=acc\n",
    "        RS=i\n",
    "print(\"Best accuracy is \",Accu,\" on Random_state \",RS)"
   ]
  },
  {
   "cell_type": "code",
   "execution_count": 70,
   "id": "5d6e2e67",
   "metadata": {},
   "outputs": [
    {
     "name": "stdout",
     "output_type": "stream",
     "text": [
      "Best accuracy is  0.8885448916408669  on Random_state  137\n"
     ]
    }
   ],
   "source": [
    "Accu=0\n",
    "RS=0\n",
    "for i in range(1,200):\n",
    "    x_train,x_test,y_train,y_test = train_test_split(x,y,test_size=.30, random_state =i)\n",
    "    rf=RandomForestClassifier()\n",
    "    rf.fit(x_train, y_train)\n",
    "    pred = rf.predict(x_test)\n",
    "    acc=accuracy_score(y_test, pred)\n",
    "    if acc>Accu:\n",
    "        Accu=acc\n",
    "        RS=i\n",
    "print(\"Best accuracy is \",Accu,\" on Random_state \",RS)"
   ]
  },
  {
   "cell_type": "code",
   "execution_count": 71,
   "id": "7abd7bec",
   "metadata": {},
   "outputs": [
    {
     "name": "stdout",
     "output_type": "stream",
     "text": [
      "Best accuracy is  0.8421052631578947  on Random_state  87\n"
     ]
    }
   ],
   "source": [
    "Accu=0\n",
    "RS=0\n",
    "for i in range(1,200):\n",
    "    x_train,x_test,y_train,y_test = train_test_split(x,y,test_size=.30, random_state =i)\n",
    "    lr=LogisticRegression()\n",
    "    lr.fit(x_train, y_train)\n",
    "    pred = lr.predict(x_test)\n",
    "    acc=accuracy_score(y_test, pred)\n",
    "    if acc>Accu:\n",
    "        Accu=acc\n",
    "        RS=i\n",
    "print(\"Best accuracy is \",Accu,\" on Random_state \",RS)"
   ]
  },
  {
   "cell_type": "code",
   "execution_count": 72,
   "id": "ed567612",
   "metadata": {},
   "outputs": [
    {
     "name": "stdout",
     "output_type": "stream",
     "text": [
      "Best accuracy is  0.8544891640866873  on Random_state  117\n"
     ]
    }
   ],
   "source": [
    "Accu=0\n",
    "RS=0\n",
    "for i in range(1,200):\n",
    "    x_train,x_test,y_train,y_test = train_test_split(x,y,test_size=.30, random_state =i)\n",
    "    knn=KNeighborsClassifier()\n",
    "    knn.fit(x_train, y_train)\n",
    "    pred = knn.predict(x_test)\n",
    "    acc=accuracy_score(y_test, pred)\n",
    "    if acc>Accu:\n",
    "        Accu=acc\n",
    "        RS=i\n",
    "print(\"Best accuracy is \",Accu,\" on Random_state \",RS)"
   ]
  },
  {
   "cell_type": "markdown",
   "id": "ac271b5c",
   "metadata": {},
   "source": [
    "* for DTC- Best accuracy is  0.8359133126934984  on Random_state  90\n",
    "* for svc- Best accuracy is  0.8390092879256966  on Random_state  66\n",
    "* for rf- Best accuracy is  0.8885448916408669  on Random_state  56\n",
    "* for lr- Best accuracy is  0.8328173374613003  on Random_state  84\n",
    "* for knn- Best accuracy is  0.8513931888544891  on Random_state  197"
   ]
  },
  {
   "cell_type": "markdown",
   "id": "c820b506",
   "metadata": {},
   "source": [
    "# Hyperparameter Tuning of 5 Machine Learning Classifiers"
   ]
  },
  {
   "cell_type": "code",
   "execution_count": 73,
   "id": "25e1b023",
   "metadata": {},
   "outputs": [
    {
     "name": "stdout",
     "output_type": "stream",
     "text": [
      "{'criterion': 'gini', 'max_depth': 7, 'max_features': 'auto', 'max_leaf_nodes': 30}\n",
      "0.8286850684633776\n"
     ]
    }
   ],
   "source": [
    "x_train,x_test,y_train,y_test=train_test_split(x,y,test_size=.30,random_state=90)\n",
    "\n",
    "dtc= DecisionTreeClassifier()\n",
    "dt_grid_param={'criterion':['gini','entropy'],\n",
    "             'max_depth':np.arange(2,50),\n",
    "             'max_features':[\"auto\",\"sqrt\",\"log2\"],\n",
    "             'max_leaf_nodes':[10,20,30]}\n",
    "\n",
    "gd_sr=GridSearchCV(estimator=dtc,param_grid=dt_grid_param,scoring='accuracy',cv=5)\n",
    "\n",
    "gd_sr.fit(x,y)\n",
    "\n",
    "best_parameters=gd_sr.best_params_\n",
    "print(best_parameters)\n",
    "\n",
    "print(gd_sr.best_score_)"
   ]
  },
  {
   "cell_type": "code",
   "execution_count": 74,
   "id": "4edffc14",
   "metadata": {},
   "outputs": [
    {
     "name": "stdout",
     "output_type": "stream",
     "text": [
      "{'C': 300, 'gamma': 1, 'kernel': 'rbf'}\n",
      "0.835227124538144\n"
     ]
    }
   ],
   "source": [
    "x_train,x_test,y_train,y_test=train_test_split(x,y,test_size=.30,random_state=66)\n",
    "\n",
    "sv=SVC()\n",
    "sv_grid_param={\"kernel\" : [\"rbf\"],\n",
    "                 \"gamma\": [0.001, 0.01, 0.1, 1],\n",
    "                 \"C\": [1,10,50,100,200,300,1000]}\n",
    "\n",
    "gd_sr=GridSearchCV(estimator=sv,param_grid=sv_grid_param,scoring='accuracy',cv=5)\n",
    "\n",
    "gd_sr.fit(x,y)\n",
    "\n",
    "best_parameters=gd_sr.best_params_\n",
    "print(best_parameters)\n",
    "\n",
    "print(gd_sr.best_score_)"
   ]
  },
  {
   "cell_type": "code",
   "execution_count": 75,
   "id": "c2a1029f",
   "metadata": {},
   "outputs": [
    {
     "name": "stdout",
     "output_type": "stream",
     "text": [
      "{'bootstrap': False, 'criterion': 'entropy', 'max_features': 1, 'min_samples_leaf': 1, 'min_samples_split': 10, 'n_estimators': 300}\n",
      "0.8538535101064987\n"
     ]
    }
   ],
   "source": [
    "x_train,x_test,y_train,y_test=train_test_split(x,y,test_size=.30,random_state=56)\n",
    "\n",
    "rf=RandomForestClassifier()\n",
    "rf_grid_param={\"max_features\": [1,3,10],\n",
    "                \"min_samples_split\":[2,3,10],\n",
    "                \"min_samples_leaf\":[1,3,10],\n",
    "                \"bootstrap\":[False],\n",
    "                \"n_estimators\":[100,300],\n",
    "                \"criterion\":[\"gini\",'entropy']}\n",
    "\n",
    "gd_sr=GridSearchCV(estimator=rf,param_grid=rf_grid_param,scoring='accuracy',cv=5)\n",
    "\n",
    "gd_sr.fit(x,y)\n",
    "\n",
    "best_parameters=gd_sr.best_params_\n",
    "print(best_parameters)\n",
    "\n",
    "print(gd_sr.best_score_)"
   ]
  },
  {
   "cell_type": "code",
   "execution_count": 76,
   "id": "554215b3",
   "metadata": {},
   "outputs": [
    {
     "name": "stdout",
     "output_type": "stream",
     "text": [
      "{'C': 100.0, 'penalty': 'l2'}\n",
      "0.7821299717452728\n"
     ]
    }
   ],
   "source": [
    "x_train,x_test,y_train,y_test=train_test_split(x,y,test_size=.30,random_state=84)\n",
    "\n",
    "lr=LogisticRegression()\n",
    "lr_grid_param={\"C\":np.logspace(-3,3,7),\n",
    "                    \"penalty\": [\"l1\",\"l2\"]}\n",
    "\n",
    "gd_sr=GridSearchCV(estimator=lr,param_grid=lr_grid_param,scoring='accuracy',cv=5)\n",
    "\n",
    "gd_sr.fit(x,y)\n",
    "\n",
    "best_parameters=gd_sr.best_params_\n",
    "print(best_parameters)\n",
    "\n",
    "print(gd_sr.best_score_)"
   ]
  },
  {
   "cell_type": "code",
   "execution_count": 77,
   "id": "25f0f1ab",
   "metadata": {},
   "outputs": [
    {
     "name": "stdout",
     "output_type": "stream",
     "text": [
      "{'metric': 'manhattan', 'n_neighbors': 11, 'weights': 'distance'}\n",
      "0.8333579656596392\n"
     ]
    }
   ],
   "source": [
    "x_train,x_test,y_train,y_test=train_test_split(x,y,test_size=.30,random_state=197)\n",
    "\n",
    "knn=KNeighborsClassifier()\n",
    "knn_grid_param={\"n_neighbors\": np.linspace(1,19,10, dtype = int).tolist(),\n",
    "                 \"weights\": [\"uniform\",\"distance\"],\n",
    "                 \"metric\":[\"euclidean\",\"manhattan\"]}\n",
    "\n",
    "gd_sr=GridSearchCV(estimator=knn,param_grid=knn_grid_param,scoring='accuracy',cv=5)\n",
    "\n",
    "gd_sr.fit(x,y)\n",
    "\n",
    "best_parameters=gd_sr.best_params_\n",
    "print(best_parameters)\n",
    "\n",
    "print(gd_sr.best_score_)"
   ]
  },
  {
   "cell_type": "markdown",
   "id": "00170c18",
   "metadata": {},
   "source": [
    "# Cross Validating"
   ]
  },
  {
   "cell_type": "code",
   "execution_count": 78,
   "id": "534dfbe2",
   "metadata": {},
   "outputs": [
    {
     "name": "stdout",
     "output_type": "stream",
     "text": [
      "Cross_Val_Score of DTC: 0.8091545316235601\n"
     ]
    }
   ],
   "source": [
    "score=cross_val_score(dtc,x,y,cv=5)\n",
    "score1=score.mean()\n",
    "print(\"Cross_Val_Score of DTC:\",score1)"
   ]
  },
  {
   "cell_type": "code",
   "execution_count": 79,
   "id": "9b66f973",
   "metadata": {},
   "outputs": [
    {
     "name": "stdout",
     "output_type": "stream",
     "text": [
      "Cross_Val_Score of SVC: 0.795179308845903\n"
     ]
    }
   ],
   "source": [
    "score=cross_val_score(sv,x,y,cv=5)\n",
    "score2=score.mean()\n",
    "print(\"Cross_Val_Score of SVC:\",score2)"
   ]
  },
  {
   "cell_type": "code",
   "execution_count": 80,
   "id": "3c12dfc9",
   "metadata": {},
   "outputs": [
    {
     "name": "stdout",
     "output_type": "stream",
     "text": [
      "Cross_Val_Score of RandomForestClassifier: 0.8538535101064987\n"
     ]
    }
   ],
   "source": [
    "score=cross_val_score(rf,x,y,cv=5)\n",
    "score3=score.mean()\n",
    "print(\"Cross_Val_Score of RandomForestClassifier:\",score3)"
   ]
  },
  {
   "cell_type": "code",
   "execution_count": 81,
   "id": "57d8fd72",
   "metadata": {},
   "outputs": [
    {
     "name": "stdout",
     "output_type": "stream",
     "text": [
      "Cross_Val_Score of LogisticRegression: 0.7756226907194088\n"
     ]
    }
   ],
   "source": [
    "score=cross_val_score(lr,x,y,cv=5)\n",
    "score4=score.mean()\n",
    "print(\"Cross_Val_Score of LogisticRegression:\",score4)"
   ]
  },
  {
   "cell_type": "code",
   "execution_count": 82,
   "id": "cb376606",
   "metadata": {},
   "outputs": [
    {
     "name": "stdout",
     "output_type": "stream",
     "text": [
      "Cross_Val_Score of Knn: 0.8035861769180613\n"
     ]
    }
   ],
   "source": [
    "score=cross_val_score(knn,x,y,cv=5)\n",
    "score5=score.mean()\n",
    "print(\"Cross_Val_Score of Knn:\",score5)"
   ]
  },
  {
   "cell_type": "code",
   "execution_count": 83,
   "id": "b951b52b",
   "metadata": {},
   "outputs": [
    {
     "data": {
      "text/plain": [
       "Text(0.5, 1.0, 'Cross Validation Scores')"
      ]
     },
     "execution_count": 83,
     "metadata": {},
     "output_type": "execute_result"
    },
    {
     "data": {
      "image/png": "[encoded data removed]",
      "text/plain": [
       "<Figure size 432x288 with 1 Axes>"
      ]
     },
     "metadata": {},
     "output_type": "display_data"
    }
   ],
   "source": [
    "cv_result=[score1,score2,score3,score4,score5]\n",
    "cv_results = pd.DataFrame({\"Cross Validation Means\":cv_result, \"ML Models\":[\"DecisionTreeClassifier\", \"SVM\",\"RandomForestClassifier\",\n",
    "             \"LogisticRegression\",\n",
    "             \"KNeighborsClassifier\"]})\n",
    "\n",
    "g = sns.barplot(\"Cross Validation Means\", \"ML Models\", data = cv_results)\n",
    "g.set_xlabel(\"CV Mean\")\n",
    "g.set_title(\"Cross Validation Scores\")"
   ]
  },
  {
   "cell_type": "markdown",
   "id": "38e0c76a",
   "metadata": {},
   "source": [
    "# The accuracy score of Random Forest Classifier model(0.85) and Cross validation score(0.85) of RF are matching accurately. Hence I am taking Rf as my final Model."
   ]
  },
  {
   "cell_type": "code",
   "execution_count": 84,
   "id": "5efb0430",
   "metadata": {},
   "outputs": [
    {
     "name": "stdout",
     "output_type": "stream",
     "text": [
      "85.13931888544892\n"
     ]
    }
   ],
   "source": [
    "#{''bootstrap': False, 'criterion': 'gini', 'max_features': 1, 'min_samples_leaf': 1, 'min_samples_split': 10, 'n_estimators': 100}\n",
    "\n",
    "Final_model=RandomForestClassifier(bootstrap= 'False', criterion='gini', max_features=1, min_samples_leaf=1, min_samples_split=10, n_estimators=100)\n",
    "Final_model.fit(x_train,y_train)\n",
    "pred=Final_model.predict(x_test)\n",
    "acc=accuracy_score(y_test, pred)\n",
    "print(acc*100)"
   ]
  },
  {
   "cell_type": "code",
   "execution_count": 85,
   "id": "722ca82b",
   "metadata": {},
   "outputs": [
    {
     "data": {
      "image/png": "[encoded data removed]",
      "text/plain": [
       "<Figure size 504x504 with 2 Axes>"
      ]
     },
     "metadata": {},
     "output_type": "display_data"
    }
   ],
   "source": [
    "cm = confusion_matrix(y_test, pred)\n",
    "\n",
    "x_axis_labels = [\"0\",\"1\"]\n",
    "y_axis_labels = [\"0\",\"1\"]\n",
    "\n",
    "f, ax = plt.subplots(figsize =(7,7))\n",
    "sns.heatmap(cm, annot = True, linewidths=0.2, linecolor=\"black\", fmt = \".0f\", ax=ax, cmap=\"Reds\", xticklabels=x_axis_labels, yticklabels=y_axis_labels)\n",
    "plt.xlabel(\"PREDICTED LABEL\")\n",
    "plt.ylabel(\"TRUE LABEL\")\n",
    "plt.title('Confusion Matrix for Random Forest Classifier')\n",
    "plt.show()"
   ]
  },
  {
   "cell_type": "markdown",
   "id": "3778374f",
   "metadata": {},
   "source": [
    "# AUC-ROC Curve"
   ]
  },
  {
   "cell_type": "code",
   "execution_count": 86,
   "id": "c3728821",
   "metadata": {},
   "outputs": [],
   "source": [
    "from sklearn.metrics import roc_curve\n",
    "from sklearn.metrics import roc_auc_score"
   ]
  },
  {
   "cell_type": "code",
   "execution_count": 87,
   "id": "98fce5ad",
   "metadata": {},
   "outputs": [],
   "source": [
    "y_pred_prob=Final_model.predict_proba(x_test)[:,1]"
   ]
  },
  {
   "cell_type": "code",
   "execution_count": 88,
   "id": "f6d733e4",
   "metadata": {},
   "outputs": [
    {
     "data": {
      "text/plain": [
       "array([0.16701528, 0.78389012, 0.19369803, 0.82596681, 0.21524078,\n",
       "       0.12526899, 0.27007075, 0.16610649, 0.60498422, 0.86545313,\n",
       "       0.10043026, 0.24664296, 0.70032304, 0.01537128, 0.90641312,\n",
       "       0.2009879 , 0.12228261, 0.52325125, 0.94951241, 0.78727383,\n",
       "       0.7328995 , 0.75302115, 0.14573105, 0.12422968, 0.10625311,\n",
       "       0.18654898, 0.60728409, 0.63782314, 0.81925289, 0.70075223,\n",
       "       0.61589785, 0.11123647, 0.14977031, 0.27400072, 0.33413218,\n",
       "       0.831794  , 0.25221243, 0.07476653, 0.25471774, 0.09991187,\n",
       "       0.68544495, 0.86989265, 0.23104498, 0.4366545 , 0.09405224,\n",
       "       0.79990136, 0.40251282, 0.48325611, 0.90779079, 0.1677595 ,\n",
       "       0.60854203, 0.20039828, 0.33706754, 0.67465481, 0.45252547,\n",
       "       0.2109229 , 0.61882592, 0.23082352, 0.28504934, 0.82976714,\n",
       "       0.30830362, 0.87266872, 0.2484084 , 0.59486388, 0.92283597,\n",
       "       0.17502948, 0.10648402, 0.80587647, 0.94194078, 0.63203518,\n",
       "       0.68345876, 0.71116299, 0.55208421, 0.94954595, 0.29025672,\n",
       "       0.12774084, 0.72425175, 0.1559864 , 0.11105112, 0.45250826,\n",
       "       0.08764535, 0.95544694, 0.12615516, 0.3205704 , 0.11257634,\n",
       "       0.0537868 , 0.11243065, 0.45706308, 0.34913466, 0.92280088,\n",
       "       0.26346952, 0.8436999 , 0.65439555, 0.11863215, 0.33678145,\n",
       "       0.64760623, 0.72811939, 0.78152019, 0.77356204, 0.39912325,\n",
       "       0.69419727, 0.07402459, 0.91094461, 0.27722291, 0.56874337,\n",
       "       0.56395878, 0.67442393, 0.38705522, 0.14318333, 0.07726653,\n",
       "       0.11154715, 0.52249964, 0.96418922, 0.29437668, 0.60576879,\n",
       "       0.77455146, 0.21103076, 0.81129485, 0.81277893, 0.79469237,\n",
       "       0.33384804, 0.06418891, 0.77182555, 0.20050789, 0.84332623,\n",
       "       0.09269054, 0.21804812, 0.03000243, 0.22826915, 0.71517706,\n",
       "       0.64095221, 0.12000353, 0.88841871, 0.03715534, 0.68908227,\n",
       "       0.24664296, 0.14300337, 0.11134513, 0.55675048, 0.08769837,\n",
       "       0.89114564, 0.77955948, 0.95394174, 0.19435945, 0.06308303,\n",
       "       0.43436827, 0.57802203, 0.19435945, 0.957099  , 0.3440579 ,\n",
       "       0.67818017, 0.41704462, 0.31316579, 0.93241266, 0.69196016,\n",
       "       0.42572162, 0.54911397, 0.61750133, 0.2966684 , 0.72864644,\n",
       "       0.95917915, 0.33424292, 0.92499191, 0.28927423, 0.24995477,\n",
       "       0.226129  , 0.60043878, 0.76157185, 0.14435449, 0.81048964,\n",
       "       0.62794324, 0.62462289, 0.80281382, 0.59492315, 0.1431129 ,\n",
       "       0.17755456, 0.19947973, 0.28096062, 0.69087869, 0.21571701,\n",
       "       0.79921366, 0.33973959, 0.57668397, 0.30857509, 0.73387755,\n",
       "       0.62609256, 0.12274049, 0.42941209, 0.47732638, 0.41641427,\n",
       "       0.88895536, 0.92773407, 0.78778243, 0.10239166, 0.11386384,\n",
       "       0.11012794, 0.38320709, 0.90478222, 0.19698206, 0.7780604 ,\n",
       "       0.10455819, 0.84414484, 0.40248852, 0.5312433 , 0.12772422,\n",
       "       0.27313854, 0.        , 0.29409886, 0.18530629, 0.58290374,\n",
       "       0.66777143, 0.95186962, 0.89680821, 0.27431643, 0.07754903,\n",
       "       0.73149901, 0.58033883, 0.90102198, 0.        , 0.27927794,\n",
       "       0.87901755, 0.69709667, 0.01537128, 0.11727579, 0.61432951,\n",
       "       0.37771195, 0.24542589, 0.92026005, 0.85954668, 0.83841156,\n",
       "       0.24664296, 0.84063936, 0.87923545, 0.16547909, 0.29642398,\n",
       "       0.18218785, 0.11891406, 0.17486434, 0.14757799, 0.90691765,\n",
       "       0.58424691, 0.87259291, 0.86558377, 0.24854669, 0.85973876,\n",
       "       0.27700627, 0.62739338, 0.37114844, 0.7175795 , 0.32152798,\n",
       "       0.71334987, 0.14594793, 0.64285709, 0.86192075, 0.20083402,\n",
       "       0.94954595, 0.45141451, 0.64719331, 0.46754609, 0.05838289,\n",
       "       0.47101193, 0.93405082, 0.1064808 , 0.34395148, 0.75166911,\n",
       "       0.77591479, 0.49282411, 0.57622707, 0.22191118, 0.5416661 ,\n",
       "       0.53804576, 0.21481356, 0.        , 0.685357  , 0.92005819,\n",
       "       0.87149419, 0.79162611, 0.1750271 , 0.85457664, 0.59193486,\n",
       "       0.58108487, 0.85423376, 0.82873223, 0.        , 0.36889568,\n",
       "       0.07319837, 0.58666453, 0.        , 0.18454043, 0.92596483,\n",
       "       0.33513032, 0.20325444, 0.57950197, 0.95055983, 0.6661303 ,\n",
       "       0.12693124, 0.17116563, 0.22361916, 0.58921108, 0.37387894,\n",
       "       0.94041471, 0.32701307, 0.0589647 , 0.05838289, 0.12125955,\n",
       "       0.14942687, 0.55901261, 0.8310642 , 0.93592881, 0.75847213,\n",
       "       0.78956724, 0.11512794, 0.75457434, 0.22303484, 0.93056063,\n",
       "       0.8860618 , 0.02899686, 0.15433585, 0.29850987, 0.92624428,\n",
       "       0.90468689, 0.46548529, 0.10125134])"
      ]
     },
     "execution_count": 88,
     "metadata": {},
     "output_type": "execute_result"
    }
   ],
   "source": [
    "y_pred_prob"
   ]
  },
  {
   "cell_type": "code",
   "execution_count": 89,
   "id": "06ff7ab8",
   "metadata": {},
   "outputs": [],
   "source": [
    "fpr,tpr,thresholds=roc_curve(y_test,y_pred_prob)"
   ]
  },
  {
   "cell_type": "code",
   "execution_count": 90,
   "id": "6543fa1a",
   "metadata": {},
   "outputs": [
    {
     "data": {
      "text/plain": [
       "array([0.        , 0.        , 0.        , 0.        , 0.        ,\n",
       "       0.00598802, 0.00598802, 0.01197605, 0.01197605, 0.01796407,\n",
       "       0.01796407, 0.0239521 , 0.0239521 , 0.02994012, 0.02994012,\n",
       "       0.04191617, 0.04191617, 0.05389222, 0.05389222, 0.05988024,\n",
       "       0.05988024, 0.06586826, 0.06586826, 0.08383234, 0.08383234,\n",
       "       0.08982036, 0.08982036, 0.09580838, 0.09580838, 0.10179641,\n",
       "       0.10179641, 0.10778443, 0.10778443, 0.13173653, 0.13173653,\n",
       "       0.13772455, 0.13772455, 0.14371257, 0.14371257, 0.17964072,\n",
       "       0.17964072, 0.18562874, 0.18562874, 0.21556886, 0.21556886,\n",
       "       0.23353293, 0.23353293, 0.24550898, 0.24550898, 0.25748503,\n",
       "       0.25748503, 0.26347305, 0.26347305, 0.32335329, 0.32335329,\n",
       "       0.35329341, 0.35329341, 0.35928144, 0.35928144, 0.37125749,\n",
       "       0.37125749, 0.40718563, 0.4251497 , 0.45508982, 0.45508982,\n",
       "       0.46706587, 0.46706587, 0.48502994, 0.48502994, 0.53293413,\n",
       "       0.54491018, 0.56886228, 0.56886228, 0.5748503 , 0.5748503 ,\n",
       "       0.69461078, 0.69461078, 0.77844311, 0.77844311, 0.92215569,\n",
       "       0.93413174, 0.95808383, 0.97005988, 1.        ])"
      ]
     },
     "execution_count": 90,
     "metadata": {},
     "output_type": "execute_result"
    }
   ],
   "source": [
    "fpr"
   ]
  },
  {
   "cell_type": "code",
   "execution_count": 91,
   "id": "3298ff1a",
   "metadata": {},
   "outputs": [
    {
     "data": {
      "text/plain": [
       "array([0.        , 0.00641026, 0.04487179, 0.05769231, 0.07051282,\n",
       "       0.07051282, 0.53205128, 0.53205128, 0.55769231, 0.55769231,\n",
       "       0.58974359, 0.58974359, 0.6474359 , 0.6474359 , 0.67948718,\n",
       "       0.67948718, 0.70512821, 0.70512821, 0.71153846, 0.71153846,\n",
       "       0.73717949, 0.73717949, 0.74358974, 0.74358974, 0.75641026,\n",
       "       0.75641026, 0.78205128, 0.78205128, 0.80128205, 0.80128205,\n",
       "       0.80769231, 0.80769231, 0.81410256, 0.81410256, 0.83333333,\n",
       "       0.83333333, 0.83974359, 0.83974359, 0.84615385, 0.84615385,\n",
       "       0.8525641 , 0.8525641 , 0.85897436, 0.85897436, 0.90384615,\n",
       "       0.90384615, 0.91025641, 0.91025641, 0.91666667, 0.91666667,\n",
       "       0.92307692, 0.92307692, 0.92948718, 0.92948718, 0.93589744,\n",
       "       0.93589744, 0.94230769, 0.94230769, 0.94871795, 0.94871795,\n",
       "       0.95512821, 0.95512821, 0.95512821, 0.95512821, 0.96153846,\n",
       "       0.96153846, 0.96794872, 0.96794872, 0.97435897, 0.97435897,\n",
       "       0.97435897, 0.97435897, 0.98076923, 0.98076923, 0.98717949,\n",
       "       0.98717949, 0.99358974, 0.99358974, 1.        , 1.        ,\n",
       "       1.        , 1.        , 1.        , 1.        ])"
      ]
     },
     "execution_count": 91,
     "metadata": {},
     "output_type": "execute_result"
    }
   ],
   "source": [
    "tpr"
   ]
  },
  {
   "cell_type": "code",
   "execution_count": 92,
   "id": "1a50bd08",
   "metadata": {},
   "outputs": [
    {
     "data": {
      "text/plain": [
       "array([1.96418922, 0.96418922, 0.95055983, 0.94954595, 0.94194078,\n",
       "       0.94041471, 0.75302115, 0.75166911, 0.72864644, 0.72811939,\n",
       "       0.71116299, 0.70075223, 0.68345876, 0.67818017, 0.65439555,\n",
       "       0.64719331, 0.63203518, 0.62739338, 0.62609256, 0.62462289,\n",
       "       0.61432951, 0.60854203, 0.60728409, 0.60043878, 0.59486388,\n",
       "       0.59193486, 0.58290374, 0.58108487, 0.57802203, 0.57668397,\n",
       "       0.57622707, 0.56874337, 0.56395878, 0.54911397, 0.5312433 ,\n",
       "       0.52325125, 0.52249964, 0.49282411, 0.48325611, 0.45252547,\n",
       "       0.45250826, 0.45141451, 0.4366545 , 0.41641427, 0.37387894,\n",
       "       0.34913466, 0.3440579 , 0.33973959, 0.33706754, 0.33513032,\n",
       "       0.33424292, 0.33413218, 0.33384804, 0.29437668, 0.29409886,\n",
       "       0.27927794, 0.27722291, 0.27700627, 0.27431643, 0.27313854,\n",
       "       0.27007075, 0.2484084 , 0.24664296, 0.226129  , 0.22361916,\n",
       "       0.22191118, 0.21804812, 0.21481356, 0.21103076, 0.19698206,\n",
       "       0.19435945, 0.18454043, 0.18218785, 0.17755456, 0.17502948,\n",
       "       0.12772422, 0.12693124, 0.11243065, 0.11154715, 0.0589647 ,\n",
       "       0.05838289, 0.02899686, 0.01537128, 0.        ])"
      ]
     },
     "execution_count": 92,
     "metadata": {},
     "output_type": "execute_result"
    }
   ],
   "source": [
    "thresholds"
   ]
  },
  {
   "cell_type": "code",
   "execution_count": 93,
   "id": "c68e51b6",
   "metadata": {},
   "outputs": [
    {
     "data": {
      "image/png": "[encoded data removed]",
      "text/plain": [
       "<Figure size 432x288 with 1 Axes>"
      ]
     },
     "metadata": {},
     "output_type": "display_data"
    }
   ],
   "source": [
    "plt.plot([0,1],[0,1],'k--')\n",
    "plt.plot(fpr,tpr,label='Random Forest Classifier')\n",
    "plt.xlabel('False Positive Rate')\n",
    "plt.ylabel('True Positive Rate')\n",
    "plt.title('Random Forest Classifier')\n",
    "plt.show()"
   ]
  },
  {
   "cell_type": "code",
   "execution_count": 94,
   "id": "cf2c7b17",
   "metadata": {},
   "outputs": [],
   "source": [
    "auc_score=roc_auc_score(y_test,Final_model.predict(x_test))"
   ]
  },
  {
   "cell_type": "code",
   "execution_count": 95,
   "id": "dae7e2e0",
   "metadata": {},
   "outputs": [
    {
     "data": {
      "text/plain": [
       "0.8510095194226932"
      ]
     },
     "execution_count": 95,
     "metadata": {},
     "output_type": "execute_result"
    }
   ],
   "source": [
    "auc_score"
   ]
  },
  {
   "cell_type": "markdown",
   "id": "8fe66caa",
   "metadata": {},
   "source": [
    "# Saving the model"
   ]
  },
  {
   "cell_type": "code",
   "execution_count": 96,
   "id": "5528c39c",
   "metadata": {},
   "outputs": [
    {
     "data": {
      "text/plain": [
       "['Titanic_RF.pkl']"
      ]
     },
     "execution_count": 96,
     "metadata": {},
     "output_type": "execute_result"
    }
   ],
   "source": [
    "import joblib\n",
    "joblib.dump(Final_model,'Titanic_RF.pkl')"
   ]
  },
  {
   "cell_type": "code",
   "execution_count": 101,
   "id": "dd2c939a",
   "metadata": {},
   "outputs": [
    {
     "data": {
      "text/plain": [
       "<AxesSubplot:>"
      ]
     },
     "execution_count": 101,
     "metadata": {},
     "output_type": "execute_result"
    },
    {
     "data": {
      "image/png": "[encoded data removed]",
      "text/plain": [
       "<Figure size 432x432 with 1 Axes>"
      ]
     },
     "metadata": {},
     "output_type": "display_data"
    }
   ],
   "source": [
    "feat_importances = pd.Series(Final_model.feature_importances_, index=x.columns)\n",
    "feat_importances.nlargest(100).plot(kind='barh',figsize=(6,6))"
   ]
  },
  {
   "cell_type": "markdown",
   "id": "72c8fd87",
   "metadata": {},
   "source": [
    "According to our final model, We can see that the highest determinant of Survived is Sex, followed by Ticket and Fare and then Age."
   ]
  }
 ],
 "metadata": {
  "kernelspec": {
   "display_name": "Python 3",
   "language": "python",
   "name": "python3"
  },
  "language_info": {
   "codemirror_mode": {
    "name": "ipython",
    "version": 3
   },
   "file_extension": ".py",
   "mimetype": "text/x-python",
   "name": "python",
   "nbconvert_exporter": "python",
   "pygments_lexer": "ipython3",
   "version": "3.8.8"
  }
 },
 "nbformat": 4,
 "nbformat_minor": 5
}
